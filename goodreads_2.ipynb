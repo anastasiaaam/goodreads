{
 "metadata": {
  "language_info": {
   "codemirror_mode": {
    "name": "ipython",
    "version": 3
   },
   "file_extension": ".py",
   "mimetype": "text/x-python",
   "name": "python",
   "nbconvert_exporter": "python",
   "pygments_lexer": "ipython3",
   "version": "3.8.3"
  },
  "orig_nbformat": 2,
  "kernelspec": {
   "name": "python383jvsc74a57bd025a53b8456b44f90aeafd7a06052ef2343d8483d19b2d20158d602d9493d7c95",
   "display_name": "Python 3.8.3 64-bit ('base': conda)"
  }
 },
 "nbformat": 4,
 "nbformat_minor": 2,
 "cells": [
  {
   "cell_type": "code",
   "execution_count": 8,
   "metadata": {},
   "outputs": [],
   "source": [
    "import pandas as pd                                   # для работы с датафреймом\n",
    "import numpy as np                                    # для вычислений\n",
    "import seaborn as sns                                 # для графиков\n",
    "import matplotlib.pyplot as plt                       # для графиков\n",
    "from scipy.stats import norm                          # проверка распределения\n",
    "from scipy import stats                               # статистический анализ\n",
    "import scipy.stats as stats                           # статистический анализ\n",
    "from mlxtend.evaluate import permutation_test         # перестановочный тест\n",
    "import statsmodels.stats.multicomp as mc              # HDS тест для определения групп\n",
    "import re                                             # для регулярных выражений\n",
    "from nltk.tokenize import RegexpTokenizer             # библиотека для работы с естественным языком\n",
    "import nltk                                           # для обработки естественного языка\n",
    "from nltk import word_tokenize                        # для деления предложений на слова\n",
    "from nltk.corpus import stopwords                     # для исключения стоп-слов\n",
    "from wordcloud import WordCloud, STOPWORDS            # для облака слов\n",
    "from textblob import TextBlob                         # для анализа эмоций\n"
   ]
  },
  {
   "cell_type": "code",
   "execution_count": 2,
   "metadata": {},
   "outputs": [
    {
     "output_type": "stream",
     "name": "stdout",
     "text": [
      "Collecting mlxtend\n",
      "  Downloading mlxtend-0.18.0-py2.py3-none-any.whl (1.3 MB)\n",
      "\u001b[K     |████████████████████████████████| 1.3 MB 864 kB/s \n",
      "\u001b[?25hRequirement already satisfied: matplotlib>=3.0.0 in /Users/Shared/anaconda3/lib/python3.8/site-packages (from mlxtend) (3.2.2)\n",
      "Requirement already satisfied: joblib>=0.13.2 in /Users/Shared/anaconda3/lib/python3.8/site-packages (from mlxtend) (0.16.0)\n",
      "Requirement already satisfied: numpy>=1.16.2 in /Users/Shared/anaconda3/lib/python3.8/site-packages (from mlxtend) (1.18.5)\n",
      "Requirement already satisfied: setuptools in /Users/Shared/anaconda3/lib/python3.8/site-packages (from mlxtend) (49.2.0.post20200714)\n",
      "Requirement already satisfied: scikit-learn>=0.20.3 in /Users/Shared/anaconda3/lib/python3.8/site-packages (from mlxtend) (0.23.1)\n",
      "Requirement already satisfied: scipy>=1.2.1 in /Users/Shared/anaconda3/lib/python3.8/site-packages (from mlxtend) (1.5.0)\n",
      "Requirement already satisfied: pandas>=0.24.2 in /Users/Shared/anaconda3/lib/python3.8/site-packages (from mlxtend) (1.0.5)\n",
      "Requirement already satisfied: cycler>=0.10 in /Users/Shared/anaconda3/lib/python3.8/site-packages (from matplotlib>=3.0.0->mlxtend) (0.10.0)\n",
      "Requirement already satisfied: python-dateutil>=2.1 in /Users/Shared/anaconda3/lib/python3.8/site-packages (from matplotlib>=3.0.0->mlxtend) (2.8.1)\n",
      "Requirement already satisfied: kiwisolver>=1.0.1 in /Users/Shared/anaconda3/lib/python3.8/site-packages (from matplotlib>=3.0.0->mlxtend) (1.2.0)\n",
      "Requirement already satisfied: pyparsing!=2.0.4,!=2.1.2,!=2.1.6,>=2.0.1 in /Users/Shared/anaconda3/lib/python3.8/site-packages (from matplotlib>=3.0.0->mlxtend) (2.4.7)\n",
      "Requirement already satisfied: threadpoolctl>=2.0.0 in /Users/Shared/anaconda3/lib/python3.8/site-packages (from scikit-learn>=0.20.3->mlxtend) (2.1.0)\n",
      "Requirement already satisfied: pytz>=2017.2 in /Users/Shared/anaconda3/lib/python3.8/site-packages (from pandas>=0.24.2->mlxtend) (2020.1)\n",
      "Requirement already satisfied: six in /Users/Shared/anaconda3/lib/python3.8/site-packages (from cycler>=0.10->matplotlib>=3.0.0->mlxtend) (1.15.0)\n",
      "Installing collected packages: mlxtend\n",
      "Successfully installed mlxtend-0.18.0\n"
     ]
    }
   ],
   "source": [
    "! pip install mlxtend"
   ]
  },
  {
   "cell_type": "code",
   "execution_count": 5,
   "metadata": {},
   "outputs": [
    {
     "output_type": "stream",
     "name": "stdout",
     "text": [
      "Collecting wordcloud\n",
      "  Downloading wordcloud-1.8.1.tar.gz (220 kB)\n",
      "\u001b[K     |████████████████████████████████| 220 kB 840 kB/s \n",
      "\u001b[?25hRequirement already satisfied: numpy>=1.6.1 in /Users/Shared/anaconda3/lib/python3.8/site-packages (from wordcloud) (1.18.5)\n",
      "Requirement already satisfied: pillow in /Users/Shared/anaconda3/lib/python3.8/site-packages (from wordcloud) (7.2.0)\n",
      "Requirement already satisfied: matplotlib in /Users/Shared/anaconda3/lib/python3.8/site-packages (from wordcloud) (3.2.2)\n",
      "Requirement already satisfied: python-dateutil>=2.1 in /Users/Shared/anaconda3/lib/python3.8/site-packages (from matplotlib->wordcloud) (2.8.1)\n",
      "Requirement already satisfied: kiwisolver>=1.0.1 in /Users/Shared/anaconda3/lib/python3.8/site-packages (from matplotlib->wordcloud) (1.2.0)\n",
      "Requirement already satisfied: cycler>=0.10 in /Users/Shared/anaconda3/lib/python3.8/site-packages (from matplotlib->wordcloud) (0.10.0)\n",
      "Requirement already satisfied: pyparsing!=2.0.4,!=2.1.2,!=2.1.6,>=2.0.1 in /Users/Shared/anaconda3/lib/python3.8/site-packages (from matplotlib->wordcloud) (2.4.7)\n",
      "Requirement already satisfied: six>=1.5 in /Users/Shared/anaconda3/lib/python3.8/site-packages (from python-dateutil>=2.1->matplotlib->wordcloud) (1.15.0)\n",
      "Building wheels for collected packages: wordcloud\n",
      "  Building wheel for wordcloud (setup.py) ... \u001b[?25ldone\n",
      "\u001b[?25h  Created wheel for wordcloud: filename=wordcloud-1.8.1-cp38-cp38-macosx_10_9_x86_64.whl size=158368 sha256=a85f247e3c9bf4c217ee72f54b2685ad83a4dd7508383bb9585c0dd0e40a8a81\n",
      "  Stored in directory: /Users/anastasia/Library/Caches/pip/wheels/4d/3f/0d/a2ba9b7895c9f1be89018b3141c3df3d4f9c786c882ccfbc3b\n",
      "Successfully built wordcloud\n",
      "Installing collected packages: wordcloud\n",
      "Successfully installed wordcloud-1.8.1\n"
     ]
    }
   ],
   "source": [
    "! pip install wordcloud"
   ]
  },
  {
   "cell_type": "code",
   "execution_count": 7,
   "metadata": {},
   "outputs": [
    {
     "output_type": "stream",
     "name": "stdout",
     "text": [
      "Collecting textblob\n",
      "  Downloading textblob-0.15.3-py2.py3-none-any.whl (636 kB)\n",
      "\u001b[K     |████████████████████████████████| 636 kB 887 kB/s \n",
      "\u001b[?25hRequirement already satisfied: nltk>=3.1 in /Users/Shared/anaconda3/lib/python3.8/site-packages (from textblob) (3.5)\n",
      "Requirement already satisfied: joblib in /Users/Shared/anaconda3/lib/python3.8/site-packages (from nltk>=3.1->textblob) (0.16.0)\n",
      "Requirement already satisfied: click in /Users/Shared/anaconda3/lib/python3.8/site-packages (from nltk>=3.1->textblob) (7.1.2)\n",
      "Requirement already satisfied: tqdm in /Users/Shared/anaconda3/lib/python3.8/site-packages (from nltk>=3.1->textblob) (4.47.0)\n",
      "Requirement already satisfied: regex in /Users/Shared/anaconda3/lib/python3.8/site-packages (from nltk>=3.1->textblob) (2020.6.8)\n",
      "Installing collected packages: textblob\n",
      "Successfully installed textblob-0.15.3\n"
     ]
    }
   ],
   "source": [
    "! pip install textblob"
   ]
  },
  {
   "cell_type": "code",
   "execution_count": 9,
   "metadata": {},
   "outputs": [
    {
     "output_type": "stream",
     "name": "stdout",
     "text": [
      "Collecting pingouin\n",
      "  Downloading pingouin-0.3.11.tar.gz (204 kB)\n",
      "\u001b[K     |████████████████████████████████| 204 kB 844 kB/s \n",
      "\u001b[?25hRequirement already satisfied: numpy>=1.15 in /Users/Shared/anaconda3/lib/python3.8/site-packages (from pingouin) (1.18.5)\n",
      "Requirement already satisfied: scipy>=1.3 in /Users/Shared/anaconda3/lib/python3.8/site-packages (from pingouin) (1.5.0)\n",
      "Requirement already satisfied: pandas>=0.24 in /Users/Shared/anaconda3/lib/python3.8/site-packages (from pingouin) (1.0.5)\n",
      "Requirement already satisfied: matplotlib>=3.0.2 in /Users/Shared/anaconda3/lib/python3.8/site-packages (from pingouin) (3.2.2)\n",
      "Requirement already satisfied: seaborn>=0.9.0 in /Users/Shared/anaconda3/lib/python3.8/site-packages (from pingouin) (0.10.1)\n",
      "Requirement already satisfied: statsmodels>=0.10.0 in /Users/Shared/anaconda3/lib/python3.8/site-packages (from pingouin) (0.11.1)\n",
      "Requirement already satisfied: scikit-learn in /Users/Shared/anaconda3/lib/python3.8/site-packages (from pingouin) (0.23.1)\n",
      "Collecting pandas_flavor>=0.1.2\n",
      "  Downloading pandas_flavor-0.2.0-py2.py3-none-any.whl (6.6 kB)\n",
      "Collecting outdated\n",
      "  Downloading outdated-0.2.1-py3-none-any.whl (7.5 kB)\n",
      "Collecting tabulate\n",
      "  Downloading tabulate-0.8.9-py3-none-any.whl (25 kB)\n",
      "Requirement already satisfied: pytz>=2017.2 in /Users/Shared/anaconda3/lib/python3.8/site-packages (from pandas>=0.24->pingouin) (2020.1)\n",
      "Requirement already satisfied: python-dateutil>=2.6.1 in /Users/Shared/anaconda3/lib/python3.8/site-packages (from pandas>=0.24->pingouin) (2.8.1)\n",
      "Requirement already satisfied: pyparsing!=2.0.4,!=2.1.2,!=2.1.6,>=2.0.1 in /Users/Shared/anaconda3/lib/python3.8/site-packages (from matplotlib>=3.0.2->pingouin) (2.4.7)\n",
      "Requirement already satisfied: cycler>=0.10 in /Users/Shared/anaconda3/lib/python3.8/site-packages (from matplotlib>=3.0.2->pingouin) (0.10.0)\n",
      "Requirement already satisfied: kiwisolver>=1.0.1 in /Users/Shared/anaconda3/lib/python3.8/site-packages (from matplotlib>=3.0.2->pingouin) (1.2.0)\n",
      "Requirement already satisfied: patsy>=0.5 in /Users/Shared/anaconda3/lib/python3.8/site-packages (from statsmodels>=0.10.0->pingouin) (0.5.1)\n",
      "Requirement already satisfied: threadpoolctl>=2.0.0 in /Users/Shared/anaconda3/lib/python3.8/site-packages (from scikit-learn->pingouin) (2.1.0)\n",
      "Requirement already satisfied: joblib>=0.11 in /Users/Shared/anaconda3/lib/python3.8/site-packages (from scikit-learn->pingouin) (0.16.0)\n",
      "Collecting xarray\n",
      "  Downloading xarray-0.18.0-py3-none-any.whl (801 kB)\n",
      "\u001b[K     |████████████████████████████████| 801 kB 957 kB/s \n",
      "\u001b[?25hCollecting littleutils\n",
      "  Downloading littleutils-0.2.2.tar.gz (6.6 kB)\n",
      "Requirement already satisfied: requests in /Users/Shared/anaconda3/lib/python3.8/site-packages (from outdated->pingouin) (2.24.0)\n",
      "Requirement already satisfied: six>=1.5 in /Users/Shared/anaconda3/lib/python3.8/site-packages (from python-dateutil>=2.6.1->pandas>=0.24->pingouin) (1.15.0)\n",
      "Requirement already satisfied: setuptools>=40.4 in /Users/Shared/anaconda3/lib/python3.8/site-packages (from xarray->pandas_flavor>=0.1.2->pingouin) (49.2.0.post20200714)\n",
      "Requirement already satisfied: idna<3,>=2.5 in /Users/Shared/anaconda3/lib/python3.8/site-packages (from requests->outdated->pingouin) (2.10)\n",
      "Requirement already satisfied: urllib3!=1.25.0,!=1.25.1,<1.26,>=1.21.1 in /Users/Shared/anaconda3/lib/python3.8/site-packages (from requests->outdated->pingouin) (1.25.9)\n",
      "Requirement already satisfied: certifi>=2017.4.17 in /Users/Shared/anaconda3/lib/python3.8/site-packages (from requests->outdated->pingouin) (2020.6.20)\n",
      "Requirement already satisfied: chardet<4,>=3.0.2 in /Users/Shared/anaconda3/lib/python3.8/site-packages (from requests->outdated->pingouin) (3.0.4)\n",
      "Building wheels for collected packages: pingouin, littleutils\n",
      "  Building wheel for pingouin (setup.py) ... \u001b[?25ldone\n",
      "\u001b[?25h  Created wheel for pingouin: filename=pingouin-0.3.11-py3-none-any.whl size=203323 sha256=7abdaba72b9a01832e3b86233411c5566f22bfa6308e3f5ce32fc60cb76f034e\n",
      "  Stored in directory: /Users/anastasia/Library/Caches/pip/wheels/8b/ee/b8/8a5db690ab058c8a7cb998153e2091fe1be41ee59f38fc63e3\n",
      "  Building wheel for littleutils (setup.py) ... \u001b[?25ldone\n",
      "\u001b[?25h  Created wheel for littleutils: filename=littleutils-0.2.2-py3-none-any.whl size=7048 sha256=1fb7bf38b63b2cd73822b04f480feacf6875634f9ed321d2d779198757ddcba9\n",
      "  Stored in directory: /Users/anastasia/Library/Caches/pip/wheels/6a/33/c4/0ef84d7f5568c2823e3d63a6e08988852fb9e4bc822034870a\n",
      "Successfully built pingouin littleutils\n",
      "Installing collected packages: xarray, pandas-flavor, littleutils, outdated, tabulate, pingouin\n",
      "Successfully installed littleutils-0.2.2 outdated-0.2.1 pandas-flavor-0.2.0 pingouin-0.3.11 tabulate-0.8.9 xarray-0.18.0\n"
     ]
    }
   ],
   "source": [
    "! pip install pingouin"
   ]
  },
  {
   "source": [
    "import pingouin as pg               # базовые функции библиотеки\n",
    "from pingouin import welch_anova    # тест Велча"
   ],
   "cell_type": "code",
   "metadata": {},
   "execution_count": 10,
   "outputs": []
  },
  {
   "source": [
    "# Загрузка данных и общий обзор #"
   ],
   "cell_type": "markdown",
   "metadata": {}
  },
  {
   "cell_type": "code",
   "execution_count": 11,
   "metadata": {},
   "outputs": [],
   "source": [
    "db = pd.read_csv ('data/books_tidy_data.csv', parse_dates = ['publication_date'], dtype = { 'decade' : 'object', 'quarter' : 'object' , 'tra_co' : 'object' })\n",
    "# загружаем данные и исправляем тип данных"
   ]
  },
  {
   "cell_type": "code",
   "execution_count": 12,
   "metadata": {},
   "outputs": [
    {
     "output_type": "execute_result",
     "data": {
      "text/plain": [
       "  publication_date                                              title  \\\n",
       "0       2006-09-16  Harry Potter and the Half-Blood Prince (Harry ...   \n",
       "1       2004-09-01  Harry Potter and the Order of the Phoenix (Har...   \n",
       "2       2003-11-01  Harry Potter and the Chamber of Secrets (Harry...   \n",
       "3       2004-05-01  Harry Potter and the Prisoner of Azkaban (Harr...   \n",
       "4       2004-09-13  Harry Potter Boxed Set  Books 1-5 (Harry Potte...   \n",
       "\n",
       "                      authors  average_rating language_code  num_pages  \\\n",
       "0  J.K. Rowling,Mary GrandPré            4.57           eng        652   \n",
       "1  J.K. Rowling,Mary GrandPré            4.49           eng        870   \n",
       "2                J.K. Rowling            4.42           eng        352   \n",
       "3  J.K. Rowling,Mary GrandPré            4.56           eng        435   \n",
       "4  J.K. Rowling,Mary GrandPré            4.78           eng       2690   \n",
       "\n",
       "   ratings_count  text_reviews_count        publisher decade quarter tra_co  \n",
       "0        2095690               27591  Scholastic Inc.   2000       3      1  \n",
       "1        2153167               29221  Scholastic Inc.   2000       3      1  \n",
       "2           6333                 244       Scholastic   2000       4      0  \n",
       "3        2339585               36325  Scholastic Inc.   2000       2      1  \n",
       "4          41428                 164       Scholastic   2000       3      1  "
      ],
      "text/html": "<div>\n<style scoped>\n    .dataframe tbody tr th:only-of-type {\n        vertical-align: middle;\n    }\n\n    .dataframe tbody tr th {\n        vertical-align: top;\n    }\n\n    .dataframe thead th {\n        text-align: right;\n    }\n</style>\n<table border=\"1\" class=\"dataframe\">\n  <thead>\n    <tr style=\"text-align: right;\">\n      <th></th>\n      <th>publication_date</th>\n      <th>title</th>\n      <th>authors</th>\n      <th>average_rating</th>\n      <th>language_code</th>\n      <th>num_pages</th>\n      <th>ratings_count</th>\n      <th>text_reviews_count</th>\n      <th>publisher</th>\n      <th>decade</th>\n      <th>quarter</th>\n      <th>tra_co</th>\n    </tr>\n  </thead>\n  <tbody>\n    <tr>\n      <th>0</th>\n      <td>2006-09-16</td>\n      <td>Harry Potter and the Half-Blood Prince (Harry ...</td>\n      <td>J.K. Rowling,Mary GrandPré</td>\n      <td>4.57</td>\n      <td>eng</td>\n      <td>652</td>\n      <td>2095690</td>\n      <td>27591</td>\n      <td>Scholastic Inc.</td>\n      <td>2000</td>\n      <td>3</td>\n      <td>1</td>\n    </tr>\n    <tr>\n      <th>1</th>\n      <td>2004-09-01</td>\n      <td>Harry Potter and the Order of the Phoenix (Har...</td>\n      <td>J.K. Rowling,Mary GrandPré</td>\n      <td>4.49</td>\n      <td>eng</td>\n      <td>870</td>\n      <td>2153167</td>\n      <td>29221</td>\n      <td>Scholastic Inc.</td>\n      <td>2000</td>\n      <td>3</td>\n      <td>1</td>\n    </tr>\n    <tr>\n      <th>2</th>\n      <td>2003-11-01</td>\n      <td>Harry Potter and the Chamber of Secrets (Harry...</td>\n      <td>J.K. Rowling</td>\n      <td>4.42</td>\n      <td>eng</td>\n      <td>352</td>\n      <td>6333</td>\n      <td>244</td>\n      <td>Scholastic</td>\n      <td>2000</td>\n      <td>4</td>\n      <td>0</td>\n    </tr>\n    <tr>\n      <th>3</th>\n      <td>2004-05-01</td>\n      <td>Harry Potter and the Prisoner of Azkaban (Harr...</td>\n      <td>J.K. Rowling,Mary GrandPré</td>\n      <td>4.56</td>\n      <td>eng</td>\n      <td>435</td>\n      <td>2339585</td>\n      <td>36325</td>\n      <td>Scholastic Inc.</td>\n      <td>2000</td>\n      <td>2</td>\n      <td>1</td>\n    </tr>\n    <tr>\n      <th>4</th>\n      <td>2004-09-13</td>\n      <td>Harry Potter Boxed Set  Books 1-5 (Harry Potte...</td>\n      <td>J.K. Rowling,Mary GrandPré</td>\n      <td>4.78</td>\n      <td>eng</td>\n      <td>2690</td>\n      <td>41428</td>\n      <td>164</td>\n      <td>Scholastic</td>\n      <td>2000</td>\n      <td>3</td>\n      <td>1</td>\n    </tr>\n  </tbody>\n</table>\n</div>"
     },
     "metadata": {},
     "execution_count": 12
    }
   ],
   "source": [
    "db.head()"
   ]
  },
  {
   "cell_type": "code",
   "execution_count": 13,
   "metadata": {},
   "outputs": [],
   "source": [
    "db = db.set_index ('publication_date') # установка даты в качестве индекса"
   ]
  },
  {
   "cell_type": "code",
   "execution_count": 14,
   "metadata": {},
   "outputs": [
    {
     "output_type": "stream",
     "name": "stdout",
     "text": [
      "<class 'pandas.core.frame.DataFrame'>\nDatetimeIndex: 10838 entries, 2006-09-16 to 2006-05-28\nData columns (total 11 columns):\n #   Column              Non-Null Count  Dtype  \n---  ------              --------------  -----  \n 0   title               10838 non-null  object \n 1   authors             10838 non-null  object \n 2   average_rating      10838 non-null  float64\n 3   language_code       10838 non-null  object \n 4   num_pages           10838 non-null  int64  \n 5   ratings_count       10838 non-null  int64  \n 6   text_reviews_count  10838 non-null  int64  \n 7   publisher           10838 non-null  object \n 8   decade              10838 non-null  object \n 9   quarter             10838 non-null  object \n 10  tra_co              10838 non-null  object \ndtypes: float64(1), int64(3), object(7)\nmemory usage: 1016.1+ KB\n"
     ]
    }
   ],
   "source": [
    "db.info() # общий обзор данных"
   ]
  },
  {
   "cell_type": "code",
   "execution_count": null,
   "metadata": {},
   "outputs": [],
   "source": []
  }
 ]
}