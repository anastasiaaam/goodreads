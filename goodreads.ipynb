{
 "metadata": {
  "language_info": {
   "codemirror_mode": {
    "name": "ipython",
    "version": 3
   },
   "file_extension": ".py",
   "mimetype": "text/x-python",
   "name": "python",
   "nbconvert_exporter": "python",
   "pygments_lexer": "ipython3",
   "version": "3.8.3"
  },
  "orig_nbformat": 2,
  "kernelspec": {
   "name": "python383jvsc74a57bd025a53b8456b44f90aeafd7a06052ef2343d8483d19b2d20158d602d9493d7c95",
   "display_name": "Python 3.8.3 64-bit ('base': conda)"
  }
 },
 "nbformat": 4,
 "nbformat_minor": 2,
 "cells": [
  {
   "cell_type": "code",
   "execution_count": 1,
   "metadata": {},
   "outputs": [
    {
     "output_type": "stream",
     "name": "stderr",
     "text": [
      "b'Skipping line 3350: expected 12 fields, saw 13\\nSkipping line 4704: expected 12 fields, saw 13\\nSkipping line 5879: expected 12 fields, saw 13\\nSkipping line 8981: expected 12 fields, saw 13\\n'\n"
     ]
    }
   ],
   "source": [
    "\n",
    "import pandas as pd\n",
    "import numpy as np \n",
    "import matplotlib as plt\n",
    "import seaborn as sns\n",
    "\n",
    "db = pd.read_csv('data/books.csv', error_bad_lines = False)"
   ]
  },
  {
   "cell_type": "code",
   "execution_count": 2,
   "metadata": {},
   "outputs": [
    {
     "output_type": "execute_result",
     "data": {
      "text/plain": [
       "   bookID                                              title  \\\n",
       "0       1  Harry Potter and the Half-Blood Prince (Harry ...   \n",
       "1       2  Harry Potter and the Order of the Phoenix (Har...   \n",
       "2       4  Harry Potter and the Chamber of Secrets (Harry...   \n",
       "3       5  Harry Potter and the Prisoner of Azkaban (Harr...   \n",
       "4       8  Harry Potter Boxed Set  Books 1-5 (Harry Potte...   \n",
       "\n",
       "                      authors  average_rating        isbn         isbn13  \\\n",
       "0  J.K. Rowling/Mary GrandPré            4.57  0439785960  9780439785969   \n",
       "1  J.K. Rowling/Mary GrandPré            4.49  0439358078  9780439358071   \n",
       "2                J.K. Rowling            4.42  0439554896  9780439554893   \n",
       "3  J.K. Rowling/Mary GrandPré            4.56  043965548X  9780439655484   \n",
       "4  J.K. Rowling/Mary GrandPré            4.78  0439682584  9780439682589   \n",
       "\n",
       "  language_code    num_pages  ratings_count  text_reviews_count  \\\n",
       "0           eng          652        2095690               27591   \n",
       "1           eng          870        2153167               29221   \n",
       "2           eng          352           6333                 244   \n",
       "3           eng          435        2339585               36325   \n",
       "4           eng         2690          41428                 164   \n",
       "\n",
       "  publication_date        publisher  \n",
       "0        9/16/2006  Scholastic Inc.  \n",
       "1         9/1/2004  Scholastic Inc.  \n",
       "2        11/1/2003       Scholastic  \n",
       "3         5/1/2004  Scholastic Inc.  \n",
       "4        9/13/2004       Scholastic  "
      ],
      "text/html": "<div>\n<style scoped>\n    .dataframe tbody tr th:only-of-type {\n        vertical-align: middle;\n    }\n\n    .dataframe tbody tr th {\n        vertical-align: top;\n    }\n\n    .dataframe thead th {\n        text-align: right;\n    }\n</style>\n<table border=\"1\" class=\"dataframe\">\n  <thead>\n    <tr style=\"text-align: right;\">\n      <th></th>\n      <th>bookID</th>\n      <th>title</th>\n      <th>authors</th>\n      <th>average_rating</th>\n      <th>isbn</th>\n      <th>isbn13</th>\n      <th>language_code</th>\n      <th>num_pages</th>\n      <th>ratings_count</th>\n      <th>text_reviews_count</th>\n      <th>publication_date</th>\n      <th>publisher</th>\n    </tr>\n  </thead>\n  <tbody>\n    <tr>\n      <th>0</th>\n      <td>1</td>\n      <td>Harry Potter and the Half-Blood Prince (Harry ...</td>\n      <td>J.K. Rowling/Mary GrandPré</td>\n      <td>4.57</td>\n      <td>0439785960</td>\n      <td>9780439785969</td>\n      <td>eng</td>\n      <td>652</td>\n      <td>2095690</td>\n      <td>27591</td>\n      <td>9/16/2006</td>\n      <td>Scholastic Inc.</td>\n    </tr>\n    <tr>\n      <th>1</th>\n      <td>2</td>\n      <td>Harry Potter and the Order of the Phoenix (Har...</td>\n      <td>J.K. Rowling/Mary GrandPré</td>\n      <td>4.49</td>\n      <td>0439358078</td>\n      <td>9780439358071</td>\n      <td>eng</td>\n      <td>870</td>\n      <td>2153167</td>\n      <td>29221</td>\n      <td>9/1/2004</td>\n      <td>Scholastic Inc.</td>\n    </tr>\n    <tr>\n      <th>2</th>\n      <td>4</td>\n      <td>Harry Potter and the Chamber of Secrets (Harry...</td>\n      <td>J.K. Rowling</td>\n      <td>4.42</td>\n      <td>0439554896</td>\n      <td>9780439554893</td>\n      <td>eng</td>\n      <td>352</td>\n      <td>6333</td>\n      <td>244</td>\n      <td>11/1/2003</td>\n      <td>Scholastic</td>\n    </tr>\n    <tr>\n      <th>3</th>\n      <td>5</td>\n      <td>Harry Potter and the Prisoner of Azkaban (Harr...</td>\n      <td>J.K. Rowling/Mary GrandPré</td>\n      <td>4.56</td>\n      <td>043965548X</td>\n      <td>9780439655484</td>\n      <td>eng</td>\n      <td>435</td>\n      <td>2339585</td>\n      <td>36325</td>\n      <td>5/1/2004</td>\n      <td>Scholastic Inc.</td>\n    </tr>\n    <tr>\n      <th>4</th>\n      <td>8</td>\n      <td>Harry Potter Boxed Set  Books 1-5 (Harry Potte...</td>\n      <td>J.K. Rowling/Mary GrandPré</td>\n      <td>4.78</td>\n      <td>0439682584</td>\n      <td>9780439682589</td>\n      <td>eng</td>\n      <td>2690</td>\n      <td>41428</td>\n      <td>164</td>\n      <td>9/13/2004</td>\n      <td>Scholastic</td>\n    </tr>\n  </tbody>\n</table>\n</div>"
     },
     "metadata": {},
     "execution_count": 2
    }
   ],
   "source": [
    "db.head()"
   ]
  },
  {
   "cell_type": "code",
   "execution_count": 3,
   "metadata": {},
   "outputs": [
    {
     "output_type": "execute_result",
     "data": {
      "text/plain": [
       "Index(['bookID', 'title', 'authors', 'average_rating', 'isbn', 'isbn13',\n",
       "       'language_code', '  num_pages', 'ratings_count', 'text_reviews_count',\n",
       "       'publication_date', 'publisher'],\n",
       "      dtype='object')"
      ]
     },
     "metadata": {},
     "execution_count": 3
    }
   ],
   "source": [
    "db.columns"
   ]
  },
  {
   "cell_type": "code",
   "execution_count": 4,
   "metadata": {},
   "outputs": [],
   "source": [
    "db = db.rename (columns = {'  num_pages' : 'num_pages'})"
   ]
  },
  {
   "cell_type": "code",
   "execution_count": 5,
   "metadata": {},
   "outputs": [
    {
     "output_type": "execute_result",
     "data": {
      "text/plain": [
       "Index(['bookID', 'title', 'authors', 'average_rating', 'isbn', 'isbn13',\n",
       "       'language_code', 'num_pages', 'ratings_count', 'text_reviews_count',\n",
       "       'publication_date', 'publisher'],\n",
       "      dtype='object')"
      ]
     },
     "metadata": {},
     "execution_count": 5
    }
   ],
   "source": [
    "db.columns"
   ]
  },
  {
   "cell_type": "code",
   "execution_count": 6,
   "metadata": {},
   "outputs": [
    {
     "output_type": "stream",
     "name": "stdout",
     "text": [
      "<class 'pandas.core.frame.DataFrame'>\nRangeIndex: 11123 entries, 0 to 11122\nData columns (total 12 columns):\n #   Column              Non-Null Count  Dtype  \n---  ------              --------------  -----  \n 0   bookID              11123 non-null  int64  \n 1   title               11123 non-null  object \n 2   authors             11123 non-null  object \n 3   average_rating      11123 non-null  float64\n 4   isbn                11123 non-null  object \n 5   isbn13              11123 non-null  int64  \n 6   language_code       11123 non-null  object \n 7   num_pages           11123 non-null  int64  \n 8   ratings_count       11123 non-null  int64  \n 9   text_reviews_count  11123 non-null  int64  \n 10  publication_date    11123 non-null  object \n 11  publisher           11123 non-null  object \ndtypes: float64(1), int64(5), object(6)\nmemory usage: 1.0+ MB\n"
     ]
    }
   ],
   "source": [
    "db.info()"
   ]
  },
  {
   "cell_type": "code",
   "execution_count": 7,
   "metadata": {},
   "outputs": [],
   "source": [
    "db['isbn13'] = db['isbn13'].astype('object')"
   ]
  },
  {
   "cell_type": "code",
   "execution_count": 8,
   "metadata": {},
   "outputs": [
    {
     "output_type": "stream",
     "name": "stdout",
     "text": [
      "<class 'pandas.core.frame.DataFrame'>\nRangeIndex: 11123 entries, 0 to 11122\nData columns (total 12 columns):\n #   Column              Non-Null Count  Dtype  \n---  ------              --------------  -----  \n 0   bookID              11123 non-null  int64  \n 1   title               11123 non-null  object \n 2   authors             11123 non-null  object \n 3   average_rating      11123 non-null  float64\n 4   isbn                11123 non-null  object \n 5   isbn13              11123 non-null  object \n 6   language_code       11123 non-null  object \n 7   num_pages           11123 non-null  int64  \n 8   ratings_count       11123 non-null  int64  \n 9   text_reviews_count  11123 non-null  int64  \n 10  publication_date    11123 non-null  object \n 11  publisher           11123 non-null  object \ndtypes: float64(1), int64(4), object(7)\nmemory usage: 1.0+ MB\n"
     ]
    }
   ],
   "source": [
    "db.info()"
   ]
  },
  {
   "cell_type": "code",
   "execution_count": 9,
   "metadata": {},
   "outputs": [],
   "source": [
    "db['publication_date'] = pd.to_datetime(db['publication_date'], errors ='coerce')"
   ]
  },
  {
   "cell_type": "code",
   "execution_count": 10,
   "metadata": {},
   "outputs": [
    {
     "output_type": "stream",
     "name": "stdout",
     "text": [
      "<class 'pandas.core.frame.DataFrame'>\nRangeIndex: 11123 entries, 0 to 11122\nData columns (total 12 columns):\n #   Column              Non-Null Count  Dtype         \n---  ------              --------------  -----         \n 0   bookID              11123 non-null  int64         \n 1   title               11123 non-null  object        \n 2   authors             11123 non-null  object        \n 3   average_rating      11123 non-null  float64       \n 4   isbn                11123 non-null  object        \n 5   isbn13              11123 non-null  object        \n 6   language_code       11123 non-null  object        \n 7   num_pages           11123 non-null  int64         \n 8   ratings_count       11123 non-null  int64         \n 9   text_reviews_count  11123 non-null  int64         \n 10  publication_date    11121 non-null  datetime64[ns]\n 11  publisher           11123 non-null  object        \ndtypes: datetime64[ns](1), float64(1), int64(4), object(6)\nmemory usage: 1.0+ MB\n"
     ]
    }
   ],
   "source": [
    "db.info()"
   ]
  },
  {
   "cell_type": "code",
   "execution_count": 11,
   "metadata": {},
   "outputs": [],
   "source": [
    "db = db.loc[~db['publication_date'].isin(['NaT'])]"
   ]
  },
  {
   "cell_type": "code",
   "execution_count": 12,
   "metadata": {},
   "outputs": [],
   "source": [
    "db = db.set_axis(db['publication_date'])"
   ]
  },
  {
   "cell_type": "code",
   "execution_count": 13,
   "metadata": {},
   "outputs": [
    {
     "output_type": "stream",
     "name": "stdout",
     "text": [
      "<class 'pandas.core.frame.DataFrame'>\nDatetimeIndex: 11121 entries, 2006-09-16 to 2006-05-28\nData columns (total 12 columns):\n #   Column              Non-Null Count  Dtype         \n---  ------              --------------  -----         \n 0   bookID              11121 non-null  int64         \n 1   title               11121 non-null  object        \n 2   authors             11121 non-null  object        \n 3   average_rating      11121 non-null  float64       \n 4   isbn                11121 non-null  object        \n 5   isbn13              11121 non-null  object        \n 6   language_code       11121 non-null  object        \n 7   num_pages           11121 non-null  int64         \n 8   ratings_count       11121 non-null  int64         \n 9   text_reviews_count  11121 non-null  int64         \n 10  publication_date    11121 non-null  datetime64[ns]\n 11  publisher           11121 non-null  object        \ndtypes: datetime64[ns](1), float64(1), int64(4), object(6)\nmemory usage: 1.1+ MB\n"
     ]
    }
   ],
   "source": [
    "db.info()"
   ]
  },
  {
   "cell_type": "code",
   "execution_count": 14,
   "metadata": {},
   "outputs": [
    {
     "output_type": "execute_result",
     "data": {
      "text/plain": [
       "0"
      ]
     },
     "metadata": {},
     "execution_count": 14
    }
   ],
   "source": [
    "db.duplicated(subset=['isbn13']).sum()"
   ]
  },
  {
   "cell_type": "code",
   "execution_count": 15,
   "metadata": {},
   "outputs": [
    {
     "output_type": "execute_result",
     "data": {
      "text/plain": [
       "                  bookID                                   title  \\\n",
       "publication_date                                                   \n",
       "1987-06-01         11557                               Swan Song   \n",
       "2005-08-02         12683                             The Shining   \n",
       "2004-01-19         19135                            'Salem's Lot   \n",
       "2004-05-11         21746            The Enemy (Jack Reacher  #8)   \n",
       "2004-11-25         21759             Tripwire (Jack Reacher  #3)   \n",
       "2004-11-25         21763             Tripwire (Jack Reacher  #3)   \n",
       "2004-06-10         21764            The Enemy (Jack Reacher  #8)   \n",
       "2006-02-07         23894                    Cien años de soledad   \n",
       "1976-08-01         36303                            'Salem's Lot   \n",
       "2007-08-28         39028  The Wheel of Darkness (Pendergast  #8)   \n",
       "2004-10-14         41033  The Best American Mystery Stories 2004   \n",
       "\n",
       "                                        authors  average_rating        isbn  \\\n",
       "publication_date                                                              \n",
       "1987-06-01                   Robert R. McCammon            4.28  0671741039   \n",
       "2005-08-02          Stephen King/Campbell Scott            4.22  0743536991   \n",
       "2004-01-19             Stephen King/Ron McLarty            4.02  0743536959   \n",
       "2004-05-11                  Lee Child/Dick Hill            4.16  1590864093   \n",
       "2004-11-25                  Lee Child/Dick Hill            4.09  1593555601   \n",
       "2004-11-25                  Lee Child/Dick Hill            4.09  1593357389   \n",
       "2004-06-10                  Lee Child/Dick Hill            4.16  1593353154   \n",
       "2006-02-07               Gabriel García Márquez            4.07  0307350274   \n",
       "1976-08-01                         Stephen King            4.02  0451139690   \n",
       "2007-08-28        Douglas Preston/Lincoln Child            3.93  0446580287   \n",
       "2004-10-14          Nelson DeMille/Otto Penzler            3.55  0618329676   \n",
       "\n",
       "                         isbn13 language_code  num_pages  ratings_count  \\\n",
       "publication_date                                                          \n",
       "1987-06-01        9780671741037           eng        956          46244   \n",
       "2005-08-02        9780743536998           eng          0             13   \n",
       "2004-01-19        9780743536950         en-US          0             56   \n",
       "2004-05-11        9781590864098           eng         14              4   \n",
       "2004-11-25        9781593555603           eng         14             11   \n",
       "2004-11-25        9781593357382           eng         14             18   \n",
       "2004-06-10        9781593353155           eng         14              1   \n",
       "2006-02-07        9780307350275           spa        512             52   \n",
       "1976-08-01        9780451139696           eng        427            186   \n",
       "2007-08-28        9780446580281           eng        388          21797   \n",
       "2004-10-14        9780618329670           eng        448            100   \n",
       "\n",
       "                  text_reviews_count publication_date  \\\n",
       "publication_date                                        \n",
       "1987-06-01                      2540       1987-06-01   \n",
       "2005-08-02                         0       2005-08-02   \n",
       "2004-01-19                         5       2004-01-19   \n",
       "2004-05-11                         0       2004-05-11   \n",
       "2004-11-25                         1       2004-11-25   \n",
       "2004-11-25                         4       2004-11-25   \n",
       "2004-06-10                         0       2004-06-10   \n",
       "2006-02-07                         7       2006-02-07   \n",
       "1976-08-01                        22       1976-08-01   \n",
       "2007-08-28                      1002       2007-08-28   \n",
       "2004-10-14                        13       2004-10-14   \n",
       "\n",
       "                                 publisher  \n",
       "publication_date                            \n",
       "1987-06-01                    Pocket Books  \n",
       "2005-08-02          Simon & Schuster Audio  \n",
       "2004-01-19          Simon & Schuster Audio  \n",
       "2004-05-11                Brilliance Audio  \n",
       "2004-11-25                Brilliance Audio  \n",
       "2004-11-25                Brilliance Audio  \n",
       "2004-06-10                Brilliance Audio  \n",
       "2006-02-07                   Plaza y Janes  \n",
       "1976-08-01                          Signet  \n",
       "2007-08-28        Grand Central Publishing  \n",
       "2004-10-14                   Mariner Books  "
      ],
      "text/html": "<div>\n<style scoped>\n    .dataframe tbody tr th:only-of-type {\n        vertical-align: middle;\n    }\n\n    .dataframe tbody tr th {\n        vertical-align: top;\n    }\n\n    .dataframe thead th {\n        text-align: right;\n    }\n</style>\n<table border=\"1\" class=\"dataframe\">\n  <thead>\n    <tr style=\"text-align: right;\">\n      <th></th>\n      <th>bookID</th>\n      <th>title</th>\n      <th>authors</th>\n      <th>average_rating</th>\n      <th>isbn</th>\n      <th>isbn13</th>\n      <th>language_code</th>\n      <th>num_pages</th>\n      <th>ratings_count</th>\n      <th>text_reviews_count</th>\n      <th>publication_date</th>\n      <th>publisher</th>\n    </tr>\n    <tr>\n      <th>publication_date</th>\n      <th></th>\n      <th></th>\n      <th></th>\n      <th></th>\n      <th></th>\n      <th></th>\n      <th></th>\n      <th></th>\n      <th></th>\n      <th></th>\n      <th></th>\n      <th></th>\n    </tr>\n  </thead>\n  <tbody>\n    <tr>\n      <th>1987-06-01</th>\n      <td>11557</td>\n      <td>Swan Song</td>\n      <td>Robert R. McCammon</td>\n      <td>4.28</td>\n      <td>0671741039</td>\n      <td>9780671741037</td>\n      <td>eng</td>\n      <td>956</td>\n      <td>46244</td>\n      <td>2540</td>\n      <td>1987-06-01</td>\n      <td>Pocket Books</td>\n    </tr>\n    <tr>\n      <th>2005-08-02</th>\n      <td>12683</td>\n      <td>The Shining</td>\n      <td>Stephen King/Campbell Scott</td>\n      <td>4.22</td>\n      <td>0743536991</td>\n      <td>9780743536998</td>\n      <td>eng</td>\n      <td>0</td>\n      <td>13</td>\n      <td>0</td>\n      <td>2005-08-02</td>\n      <td>Simon &amp; Schuster Audio</td>\n    </tr>\n    <tr>\n      <th>2004-01-19</th>\n      <td>19135</td>\n      <td>'Salem's Lot</td>\n      <td>Stephen King/Ron McLarty</td>\n      <td>4.02</td>\n      <td>0743536959</td>\n      <td>9780743536950</td>\n      <td>en-US</td>\n      <td>0</td>\n      <td>56</td>\n      <td>5</td>\n      <td>2004-01-19</td>\n      <td>Simon &amp; Schuster Audio</td>\n    </tr>\n    <tr>\n      <th>2004-05-11</th>\n      <td>21746</td>\n      <td>The Enemy (Jack Reacher  #8)</td>\n      <td>Lee Child/Dick Hill</td>\n      <td>4.16</td>\n      <td>1590864093</td>\n      <td>9781590864098</td>\n      <td>eng</td>\n      <td>14</td>\n      <td>4</td>\n      <td>0</td>\n      <td>2004-05-11</td>\n      <td>Brilliance Audio</td>\n    </tr>\n    <tr>\n      <th>2004-11-25</th>\n      <td>21759</td>\n      <td>Tripwire (Jack Reacher  #3)</td>\n      <td>Lee Child/Dick Hill</td>\n      <td>4.09</td>\n      <td>1593555601</td>\n      <td>9781593555603</td>\n      <td>eng</td>\n      <td>14</td>\n      <td>11</td>\n      <td>1</td>\n      <td>2004-11-25</td>\n      <td>Brilliance Audio</td>\n    </tr>\n    <tr>\n      <th>2004-11-25</th>\n      <td>21763</td>\n      <td>Tripwire (Jack Reacher  #3)</td>\n      <td>Lee Child/Dick Hill</td>\n      <td>4.09</td>\n      <td>1593357389</td>\n      <td>9781593357382</td>\n      <td>eng</td>\n      <td>14</td>\n      <td>18</td>\n      <td>4</td>\n      <td>2004-11-25</td>\n      <td>Brilliance Audio</td>\n    </tr>\n    <tr>\n      <th>2004-06-10</th>\n      <td>21764</td>\n      <td>The Enemy (Jack Reacher  #8)</td>\n      <td>Lee Child/Dick Hill</td>\n      <td>4.16</td>\n      <td>1593353154</td>\n      <td>9781593353155</td>\n      <td>eng</td>\n      <td>14</td>\n      <td>1</td>\n      <td>0</td>\n      <td>2004-06-10</td>\n      <td>Brilliance Audio</td>\n    </tr>\n    <tr>\n      <th>2006-02-07</th>\n      <td>23894</td>\n      <td>Cien años de soledad</td>\n      <td>Gabriel García Márquez</td>\n      <td>4.07</td>\n      <td>0307350274</td>\n      <td>9780307350275</td>\n      <td>spa</td>\n      <td>512</td>\n      <td>52</td>\n      <td>7</td>\n      <td>2006-02-07</td>\n      <td>Plaza y Janes</td>\n    </tr>\n    <tr>\n      <th>1976-08-01</th>\n      <td>36303</td>\n      <td>'Salem's Lot</td>\n      <td>Stephen King</td>\n      <td>4.02</td>\n      <td>0451139690</td>\n      <td>9780451139696</td>\n      <td>eng</td>\n      <td>427</td>\n      <td>186</td>\n      <td>22</td>\n      <td>1976-08-01</td>\n      <td>Signet</td>\n    </tr>\n    <tr>\n      <th>2007-08-28</th>\n      <td>39028</td>\n      <td>The Wheel of Darkness (Pendergast  #8)</td>\n      <td>Douglas Preston/Lincoln Child</td>\n      <td>3.93</td>\n      <td>0446580287</td>\n      <td>9780446580281</td>\n      <td>eng</td>\n      <td>388</td>\n      <td>21797</td>\n      <td>1002</td>\n      <td>2007-08-28</td>\n      <td>Grand Central Publishing</td>\n    </tr>\n    <tr>\n      <th>2004-10-14</th>\n      <td>41033</td>\n      <td>The Best American Mystery Stories 2004</td>\n      <td>Nelson DeMille/Otto Penzler</td>\n      <td>3.55</td>\n      <td>0618329676</td>\n      <td>9780618329670</td>\n      <td>eng</td>\n      <td>448</td>\n      <td>100</td>\n      <td>13</td>\n      <td>2004-10-14</td>\n      <td>Mariner Books</td>\n    </tr>\n  </tbody>\n</table>\n</div>"
     },
     "metadata": {},
     "execution_count": 15
    }
   ],
   "source": [
    "db[db.duplicated(subset = ['title','authors','publication_date','publisher'])]"
   ]
  },
  {
   "cell_type": "code",
   "execution_count": 16,
   "metadata": {},
   "outputs": [
    {
     "output_type": "execute_result",
     "data": {
      "text/plain": [
       "                  bookID                                              title  \\\n",
       "publication_date                                                              \n",
       "2005-01-01           955  The 5 Love Languages / The 5 Love Languages Jo...   \n",
       "2003-01-01          2835                   The Tragedy of Pudd'nhead Wilson   \n",
       "2006-10-03          3593  Murder by Moonlight & Other Mysteries (New Adv...   \n",
       "2003-10-01          3599  The Unfortunate Tobacconist & Other Mysteries ...   \n",
       "2006-03-28          4249             The Da Vinci Code (Robert Langdon  #2)   \n",
       "...                  ...                                                ...   \n",
       "2005-01-01         40378                  The Chessmen of Mars (Barsoom #5)   \n",
       "1995-11-19         41273                     Fine Lines (One-Eyed Mack  #6)   \n",
       "1999-12-01         43343  Stowaway and Milk Run: Two Unabridged Stories ...   \n",
       "1981-10-12         44748                        The Mask of the Enchantress   \n",
       "2006-08-22         45472  Treasury of American Tall Tales: Volume 1: Dav...   \n",
       "\n",
       "                                                            authors  \\\n",
       "publication_date                                                      \n",
       "2005-01-01                                             Gary Chapman   \n",
       "2003-01-01                              Mark Twain/Michael Prichard   \n",
       "2006-10-03                                               NOT A BOOK   \n",
       "2003-10-01                                               NOT A BOOK   \n",
       "2006-03-28                                   Dan Brown/Paul Michael   \n",
       "...                                                             ...   \n",
       "2005-01-01                          Edgar Rice Burroughs/John Bolen   \n",
       "1995-11-19                                               Jim Lehrer   \n",
       "1999-12-01                           Mary Higgins Clark/Jan Maxwell   \n",
       "1981-10-12                                            Victoria Holt   \n",
       "2006-08-22        David Bromberg/Jay Ungar/Molly Mason/Garrison ...   \n",
       "\n",
       "                  average_rating        isbn         isbn13 language_code  \\\n",
       "publication_date                                                            \n",
       "2005-01-01                  4.70  0802415318  9780802415318           eng   \n",
       "2003-01-01                  3.79  140015068X  9781400150687           eng   \n",
       "2006-10-03                  4.00  0743564677  9780743564670           eng   \n",
       "2003-10-01                  3.50  074353395X  9780743533959           eng   \n",
       "2006-03-28                  3.84  0739339788  9780739339787           eng   \n",
       "...                          ...         ...            ...           ...   \n",
       "2005-01-01                  3.83  1400130212  9781400130214           eng   \n",
       "1995-11-19                  3.23  0517164353  9780517164358           eng   \n",
       "1999-12-01                  3.49  0671046241  9780671046248           eng   \n",
       "1981-10-12                  3.85  0449210847  9780449210840           eng   \n",
       "2006-08-22                  3.86  0739336509  9780739336502           eng   \n",
       "\n",
       "                  num_pages  ratings_count  text_reviews_count  \\\n",
       "publication_date                                                 \n",
       "2005-01-01                0             22                   4   \n",
       "2003-01-01                0              3                   0   \n",
       "2006-10-03                0              7                   2   \n",
       "2003-10-01                0             12                   1   \n",
       "2006-03-28                0             91                  16   \n",
       "...                     ...            ...                 ...   \n",
       "2005-01-01                0           5147                 157   \n",
       "1995-11-19                0             17                   4   \n",
       "1999-12-01                0             64                   2   \n",
       "1981-10-12                0             21                   1   \n",
       "2006-08-22                0             36                   9   \n",
       "\n",
       "                 publication_date                      publisher  \n",
       "publication_date                                                  \n",
       "2005-01-01             2005-01-01               Moody Publishers  \n",
       "2003-01-01             2003-01-01                   Tantor Media  \n",
       "2006-10-03             2006-10-03          Simon  Schuster Audio  \n",
       "2003-10-01             2003-10-01         Simon & Schuster Audio  \n",
       "2006-03-28             2006-03-28             Random House Audio  \n",
       "...                           ...                            ...  \n",
       "2005-01-01             2005-01-01                   Tantor Media  \n",
       "1995-11-19             1995-11-19  Random House Value Publishing  \n",
       "1999-12-01             1999-12-01         Simon & Schuster Audio  \n",
       "1981-10-12             1981-10-12                      Ivy Books  \n",
       "2006-08-22             2006-08-22      Listening Library (Audio)  \n",
       "\n",
       "[76 rows x 12 columns]"
      ],
      "text/html": "<div>\n<style scoped>\n    .dataframe tbody tr th:only-of-type {\n        vertical-align: middle;\n    }\n\n    .dataframe tbody tr th {\n        vertical-align: top;\n    }\n\n    .dataframe thead th {\n        text-align: right;\n    }\n</style>\n<table border=\"1\" class=\"dataframe\">\n  <thead>\n    <tr style=\"text-align: right;\">\n      <th></th>\n      <th>bookID</th>\n      <th>title</th>\n      <th>authors</th>\n      <th>average_rating</th>\n      <th>isbn</th>\n      <th>isbn13</th>\n      <th>language_code</th>\n      <th>num_pages</th>\n      <th>ratings_count</th>\n      <th>text_reviews_count</th>\n      <th>publication_date</th>\n      <th>publisher</th>\n    </tr>\n    <tr>\n      <th>publication_date</th>\n      <th></th>\n      <th></th>\n      <th></th>\n      <th></th>\n      <th></th>\n      <th></th>\n      <th></th>\n      <th></th>\n      <th></th>\n      <th></th>\n      <th></th>\n      <th></th>\n    </tr>\n  </thead>\n  <tbody>\n    <tr>\n      <th>2005-01-01</th>\n      <td>955</td>\n      <td>The 5 Love Languages / The 5 Love Languages Jo...</td>\n      <td>Gary Chapman</td>\n      <td>4.70</td>\n      <td>0802415318</td>\n      <td>9780802415318</td>\n      <td>eng</td>\n      <td>0</td>\n      <td>22</td>\n      <td>4</td>\n      <td>2005-01-01</td>\n      <td>Moody Publishers</td>\n    </tr>\n    <tr>\n      <th>2003-01-01</th>\n      <td>2835</td>\n      <td>The Tragedy of Pudd'nhead Wilson</td>\n      <td>Mark Twain/Michael Prichard</td>\n      <td>3.79</td>\n      <td>140015068X</td>\n      <td>9781400150687</td>\n      <td>eng</td>\n      <td>0</td>\n      <td>3</td>\n      <td>0</td>\n      <td>2003-01-01</td>\n      <td>Tantor Media</td>\n    </tr>\n    <tr>\n      <th>2006-10-03</th>\n      <td>3593</td>\n      <td>Murder by Moonlight &amp; Other Mysteries (New Adv...</td>\n      <td>NOT A BOOK</td>\n      <td>4.00</td>\n      <td>0743564677</td>\n      <td>9780743564670</td>\n      <td>eng</td>\n      <td>0</td>\n      <td>7</td>\n      <td>2</td>\n      <td>2006-10-03</td>\n      <td>Simon  Schuster Audio</td>\n    </tr>\n    <tr>\n      <th>2003-10-01</th>\n      <td>3599</td>\n      <td>The Unfortunate Tobacconist &amp; Other Mysteries ...</td>\n      <td>NOT A BOOK</td>\n      <td>3.50</td>\n      <td>074353395X</td>\n      <td>9780743533959</td>\n      <td>eng</td>\n      <td>0</td>\n      <td>12</td>\n      <td>1</td>\n      <td>2003-10-01</td>\n      <td>Simon &amp; Schuster Audio</td>\n    </tr>\n    <tr>\n      <th>2006-03-28</th>\n      <td>4249</td>\n      <td>The Da Vinci Code (Robert Langdon  #2)</td>\n      <td>Dan Brown/Paul Michael</td>\n      <td>3.84</td>\n      <td>0739339788</td>\n      <td>9780739339787</td>\n      <td>eng</td>\n      <td>0</td>\n      <td>91</td>\n      <td>16</td>\n      <td>2006-03-28</td>\n      <td>Random House Audio</td>\n    </tr>\n    <tr>\n      <th>...</th>\n      <td>...</td>\n      <td>...</td>\n      <td>...</td>\n      <td>...</td>\n      <td>...</td>\n      <td>...</td>\n      <td>...</td>\n      <td>...</td>\n      <td>...</td>\n      <td>...</td>\n      <td>...</td>\n      <td>...</td>\n    </tr>\n    <tr>\n      <th>2005-01-01</th>\n      <td>40378</td>\n      <td>The Chessmen of Mars (Barsoom #5)</td>\n      <td>Edgar Rice Burroughs/John Bolen</td>\n      <td>3.83</td>\n      <td>1400130212</td>\n      <td>9781400130214</td>\n      <td>eng</td>\n      <td>0</td>\n      <td>5147</td>\n      <td>157</td>\n      <td>2005-01-01</td>\n      <td>Tantor Media</td>\n    </tr>\n    <tr>\n      <th>1995-11-19</th>\n      <td>41273</td>\n      <td>Fine Lines (One-Eyed Mack  #6)</td>\n      <td>Jim Lehrer</td>\n      <td>3.23</td>\n      <td>0517164353</td>\n      <td>9780517164358</td>\n      <td>eng</td>\n      <td>0</td>\n      <td>17</td>\n      <td>4</td>\n      <td>1995-11-19</td>\n      <td>Random House Value Publishing</td>\n    </tr>\n    <tr>\n      <th>1999-12-01</th>\n      <td>43343</td>\n      <td>Stowaway and Milk Run: Two Unabridged Stories ...</td>\n      <td>Mary Higgins Clark/Jan Maxwell</td>\n      <td>3.49</td>\n      <td>0671046241</td>\n      <td>9780671046248</td>\n      <td>eng</td>\n      <td>0</td>\n      <td>64</td>\n      <td>2</td>\n      <td>1999-12-01</td>\n      <td>Simon &amp; Schuster Audio</td>\n    </tr>\n    <tr>\n      <th>1981-10-12</th>\n      <td>44748</td>\n      <td>The Mask of the Enchantress</td>\n      <td>Victoria Holt</td>\n      <td>3.85</td>\n      <td>0449210847</td>\n      <td>9780449210840</td>\n      <td>eng</td>\n      <td>0</td>\n      <td>21</td>\n      <td>1</td>\n      <td>1981-10-12</td>\n      <td>Ivy Books</td>\n    </tr>\n    <tr>\n      <th>2006-08-22</th>\n      <td>45472</td>\n      <td>Treasury of American Tall Tales: Volume 1: Dav...</td>\n      <td>David Bromberg/Jay Ungar/Molly Mason/Garrison ...</td>\n      <td>3.86</td>\n      <td>0739336509</td>\n      <td>9780739336502</td>\n      <td>eng</td>\n      <td>0</td>\n      <td>36</td>\n      <td>9</td>\n      <td>2006-08-22</td>\n      <td>Listening Library (Audio)</td>\n    </tr>\n  </tbody>\n</table>\n<p>76 rows × 12 columns</p>\n</div>"
     },
     "metadata": {},
     "execution_count": 16
    }
   ],
   "source": [
    "db[db['num_pages'] == 0]"
   ]
  },
  {
   "cell_type": "code",
   "execution_count": 17,
   "metadata": {},
   "outputs": [
    {
     "output_type": "execute_result",
     "data": {
      "text/plain": [
       "Random House Audio                     19\n",
       "Tantor Media                            5\n",
       "Simon & Schuster Audio                  5\n",
       "Random House Value Publishing           4\n",
       "Macmillan Audio                         4\n",
       "Random House Audio Publishing Group     3\n",
       "Grand Central Publishing                3\n",
       "Ivy Books                               2\n",
       "RH Audio                                2\n",
       "Audiogo                                 2\n",
       "Listening Library (Audio)               2\n",
       "Basic Books                             2\n",
       "Audio Renaissance                       1\n",
       "Hachette Audio                          1\n",
       "HarperAudio                             1\n",
       "Ballantine Books                        1\n",
       "Fawcett Coventry                        1\n",
       "Schocken                                1\n",
       "Gold Eagle                              1\n",
       "Fawcett                                 1\n",
       "HarperCollins Publishers                1\n",
       "BBC Audiobooks                          1\n",
       "Scholastic Audio Books                  1\n",
       "Knopf                                   1\n",
       "Moody Publishers                        1\n",
       "Planeta Publishing                      1\n",
       "Blackstone Audiobooks                   1\n",
       "Turtleback Books                        1\n",
       "Simon  Schuster Audio                   1\n",
       "RH Audio Price-less                     1\n",
       "Warner Adult                            1\n",
       "AudioGO                                 1\n",
       "Your Coach Digital                      1\n",
       "Mariner Books                           1\n",
       "Hay House                               1\n",
       "Name: publisher, dtype: int64"
      ]
     },
     "metadata": {},
     "execution_count": 17
    }
   ],
   "source": [
    "db[db['num_pages'] == 0]['publisher'].value_counts()"
   ]
  },
  {
   "cell_type": "code",
   "execution_count": 18,
   "metadata": {},
   "outputs": [
    {
     "output_type": "execute_result",
     "data": {
      "text/plain": [
       "publication_date\n",
       "2004-09-20    1162\n",
       "2007-02-25     473\n",
       "2003-02-11     447\n",
       "2005-08-01     368\n",
       "1997-01-01     356\n",
       "              ... \n",
       "2006-11-14       0\n",
       "2005-08-02       0\n",
       "1993-08-01       0\n",
       "2007-02-01       0\n",
       "2004-10-15       0\n",
       "Name: num_pages, Length: 181, dtype: int64"
      ]
     },
     "metadata": {},
     "execution_count": 18
    }
   ],
   "source": [
    "db[db['publisher'].str.lower().str.contains('audio')]['num_pages'].sort_values(ascending=False)"
   ]
  },
  {
   "cell_type": "code",
   "execution_count": 19,
   "metadata": {},
   "outputs": [
    {
     "output_type": "execute_result",
     "data": {
      "text/plain": [
       "                  bookID                    title                     authors  \\\n",
       "publication_date                                                                \n",
       "2004-09-20         28845  The Story of Philosophy  Will Durant/Grover Gardner   \n",
       "\n",
       "                  average_rating        isbn         isbn13 language_code  \\\n",
       "publication_date                                                            \n",
       "2004-09-20                  4.12  1572704209  9781572704206           eng   \n",
       "\n",
       "                  num_pages  ratings_count  text_reviews_count  \\\n",
       "publication_date                                                 \n",
       "2004-09-20             1162             31                   4   \n",
       "\n",
       "                 publication_date publisher  \n",
       "publication_date                             \n",
       "2004-09-20             2004-09-20   AudioGO  "
      ],
      "text/html": "<div>\n<style scoped>\n    .dataframe tbody tr th:only-of-type {\n        vertical-align: middle;\n    }\n\n    .dataframe tbody tr th {\n        vertical-align: top;\n    }\n\n    .dataframe thead th {\n        text-align: right;\n    }\n</style>\n<table border=\"1\" class=\"dataframe\">\n  <thead>\n    <tr style=\"text-align: right;\">\n      <th></th>\n      <th>bookID</th>\n      <th>title</th>\n      <th>authors</th>\n      <th>average_rating</th>\n      <th>isbn</th>\n      <th>isbn13</th>\n      <th>language_code</th>\n      <th>num_pages</th>\n      <th>ratings_count</th>\n      <th>text_reviews_count</th>\n      <th>publication_date</th>\n      <th>publisher</th>\n    </tr>\n    <tr>\n      <th>publication_date</th>\n      <th></th>\n      <th></th>\n      <th></th>\n      <th></th>\n      <th></th>\n      <th></th>\n      <th></th>\n      <th></th>\n      <th></th>\n      <th></th>\n      <th></th>\n      <th></th>\n    </tr>\n  </thead>\n  <tbody>\n    <tr>\n      <th>2004-09-20</th>\n      <td>28845</td>\n      <td>The Story of Philosophy</td>\n      <td>Will Durant/Grover Gardner</td>\n      <td>4.12</td>\n      <td>1572704209</td>\n      <td>9781572704206</td>\n      <td>eng</td>\n      <td>1162</td>\n      <td>31</td>\n      <td>4</td>\n      <td>2004-09-20</td>\n      <td>AudioGO</td>\n    </tr>\n  </tbody>\n</table>\n</div>"
     },
     "metadata": {},
     "execution_count": 19
    }
   ],
   "source": [
    "db[db['num_pages'] == 1162]"
   ]
  },
  {
   "cell_type": "code",
   "execution_count": 20,
   "metadata": {},
   "outputs": [],
   "source": [
    "db['kind_book'] = np.where(db['publisher'].str.lower().str.contains('audio'),'audio','paper')"
   ]
  },
  {
   "cell_type": "code",
   "execution_count": 21,
   "metadata": {},
   "outputs": [
    {
     "output_type": "execute_result",
     "data": {
      "text/plain": [
       "                  bookID                                              title  \\\n",
       "publication_date                                                              \n",
       "2006-09-16             1  Harry Potter and the Half-Blood Prince (Harry ...   \n",
       "2004-09-01             2  Harry Potter and the Order of the Phoenix (Har...   \n",
       "2003-11-01             4  Harry Potter and the Chamber of Secrets (Harry...   \n",
       "2004-05-01             5  Harry Potter and the Prisoner of Azkaban (Harr...   \n",
       "2004-09-13             8  Harry Potter Boxed Set  Books 1-5 (Harry Potte...   \n",
       "\n",
       "                                     authors  average_rating        isbn  \\\n",
       "publication_date                                                           \n",
       "2006-09-16        J.K. Rowling/Mary GrandPré            4.57  0439785960   \n",
       "2004-09-01        J.K. Rowling/Mary GrandPré            4.49  0439358078   \n",
       "2003-11-01                      J.K. Rowling            4.42  0439554896   \n",
       "2004-05-01        J.K. Rowling/Mary GrandPré            4.56  043965548X   \n",
       "2004-09-13        J.K. Rowling/Mary GrandPré            4.78  0439682584   \n",
       "\n",
       "                         isbn13 language_code  num_pages  ratings_count  \\\n",
       "publication_date                                                          \n",
       "2006-09-16        9780439785969           eng        652        2095690   \n",
       "2004-09-01        9780439358071           eng        870        2153167   \n",
       "2003-11-01        9780439554893           eng        352           6333   \n",
       "2004-05-01        9780439655484           eng        435        2339585   \n",
       "2004-09-13        9780439682589           eng       2690          41428   \n",
       "\n",
       "                  text_reviews_count publication_date        publisher  \\\n",
       "publication_date                                                         \n",
       "2006-09-16                     27591       2006-09-16  Scholastic Inc.   \n",
       "2004-09-01                     29221       2004-09-01  Scholastic Inc.   \n",
       "2003-11-01                       244       2003-11-01       Scholastic   \n",
       "2004-05-01                     36325       2004-05-01  Scholastic Inc.   \n",
       "2004-09-13                       164       2004-09-13       Scholastic   \n",
       "\n",
       "                 kind_book  \n",
       "publication_date            \n",
       "2006-09-16           paper  \n",
       "2004-09-01           paper  \n",
       "2003-11-01           paper  \n",
       "2004-05-01           paper  \n",
       "2004-09-13           paper  "
      ],
      "text/html": "<div>\n<style scoped>\n    .dataframe tbody tr th:only-of-type {\n        vertical-align: middle;\n    }\n\n    .dataframe tbody tr th {\n        vertical-align: top;\n    }\n\n    .dataframe thead th {\n        text-align: right;\n    }\n</style>\n<table border=\"1\" class=\"dataframe\">\n  <thead>\n    <tr style=\"text-align: right;\">\n      <th></th>\n      <th>bookID</th>\n      <th>title</th>\n      <th>authors</th>\n      <th>average_rating</th>\n      <th>isbn</th>\n      <th>isbn13</th>\n      <th>language_code</th>\n      <th>num_pages</th>\n      <th>ratings_count</th>\n      <th>text_reviews_count</th>\n      <th>publication_date</th>\n      <th>publisher</th>\n      <th>kind_book</th>\n    </tr>\n    <tr>\n      <th>publication_date</th>\n      <th></th>\n      <th></th>\n      <th></th>\n      <th></th>\n      <th></th>\n      <th></th>\n      <th></th>\n      <th></th>\n      <th></th>\n      <th></th>\n      <th></th>\n      <th></th>\n      <th></th>\n    </tr>\n  </thead>\n  <tbody>\n    <tr>\n      <th>2006-09-16</th>\n      <td>1</td>\n      <td>Harry Potter and the Half-Blood Prince (Harry ...</td>\n      <td>J.K. Rowling/Mary GrandPré</td>\n      <td>4.57</td>\n      <td>0439785960</td>\n      <td>9780439785969</td>\n      <td>eng</td>\n      <td>652</td>\n      <td>2095690</td>\n      <td>27591</td>\n      <td>2006-09-16</td>\n      <td>Scholastic Inc.</td>\n      <td>paper</td>\n    </tr>\n    <tr>\n      <th>2004-09-01</th>\n      <td>2</td>\n      <td>Harry Potter and the Order of the Phoenix (Har...</td>\n      <td>J.K. Rowling/Mary GrandPré</td>\n      <td>4.49</td>\n      <td>0439358078</td>\n      <td>9780439358071</td>\n      <td>eng</td>\n      <td>870</td>\n      <td>2153167</td>\n      <td>29221</td>\n      <td>2004-09-01</td>\n      <td>Scholastic Inc.</td>\n      <td>paper</td>\n    </tr>\n    <tr>\n      <th>2003-11-01</th>\n      <td>4</td>\n      <td>Harry Potter and the Chamber of Secrets (Harry...</td>\n      <td>J.K. Rowling</td>\n      <td>4.42</td>\n      <td>0439554896</td>\n      <td>9780439554893</td>\n      <td>eng</td>\n      <td>352</td>\n      <td>6333</td>\n      <td>244</td>\n      <td>2003-11-01</td>\n      <td>Scholastic</td>\n      <td>paper</td>\n    </tr>\n    <tr>\n      <th>2004-05-01</th>\n      <td>5</td>\n      <td>Harry Potter and the Prisoner of Azkaban (Harr...</td>\n      <td>J.K. Rowling/Mary GrandPré</td>\n      <td>4.56</td>\n      <td>043965548X</td>\n      <td>9780439655484</td>\n      <td>eng</td>\n      <td>435</td>\n      <td>2339585</td>\n      <td>36325</td>\n      <td>2004-05-01</td>\n      <td>Scholastic Inc.</td>\n      <td>paper</td>\n    </tr>\n    <tr>\n      <th>2004-09-13</th>\n      <td>8</td>\n      <td>Harry Potter Boxed Set  Books 1-5 (Harry Potte...</td>\n      <td>J.K. Rowling/Mary GrandPré</td>\n      <td>4.78</td>\n      <td>0439682584</td>\n      <td>9780439682589</td>\n      <td>eng</td>\n      <td>2690</td>\n      <td>41428</td>\n      <td>164</td>\n      <td>2004-09-13</td>\n      <td>Scholastic</td>\n      <td>paper</td>\n    </tr>\n  </tbody>\n</table>\n</div>"
     },
     "metadata": {},
     "execution_count": 21
    }
   ],
   "source": [
    "db.head()"
   ]
  },
  {
   "cell_type": "code",
   "execution_count": 22,
   "metadata": {},
   "outputs": [
    {
     "output_type": "stream",
     "name": "stdout",
     "text": [
      "Requirement already satisfied: seaborn in /Users/Shared/anaconda3/lib/python3.8/site-packages (0.10.1)\n",
      "Requirement already satisfied: matplotlib>=2.1.2 in /Users/Shared/anaconda3/lib/python3.8/site-packages (from seaborn) (3.2.2)\n",
      "Requirement already satisfied: scipy>=1.0.1 in /Users/Shared/anaconda3/lib/python3.8/site-packages (from seaborn) (1.5.0)\n",
      "Requirement already satisfied: pandas>=0.22.0 in /Users/Shared/anaconda3/lib/python3.8/site-packages (from seaborn) (1.0.5)\n",
      "Requirement already satisfied: numpy>=1.13.3 in /Users/Shared/anaconda3/lib/python3.8/site-packages (from seaborn) (1.18.5)\n",
      "Requirement already satisfied: pyparsing!=2.0.4,!=2.1.2,!=2.1.6,>=2.0.1 in /Users/Shared/anaconda3/lib/python3.8/site-packages (from matplotlib>=2.1.2->seaborn) (2.4.7)\n",
      "Requirement already satisfied: python-dateutil>=2.1 in /Users/Shared/anaconda3/lib/python3.8/site-packages (from matplotlib>=2.1.2->seaborn) (2.8.1)\n",
      "Requirement already satisfied: cycler>=0.10 in /Users/Shared/anaconda3/lib/python3.8/site-packages (from matplotlib>=2.1.2->seaborn) (0.10.0)\n",
      "Requirement already satisfied: kiwisolver>=1.0.1 in /Users/Shared/anaconda3/lib/python3.8/site-packages (from matplotlib>=2.1.2->seaborn) (1.2.0)\n",
      "Requirement already satisfied: pytz>=2017.2 in /Users/Shared/anaconda3/lib/python3.8/site-packages (from pandas>=0.22.0->seaborn) (2020.1)\n",
      "Requirement already satisfied: six>=1.5 in /Users/Shared/anaconda3/lib/python3.8/site-packages (from python-dateutil>=2.1->matplotlib>=2.1.2->seaborn) (1.15.0)\n"
     ]
    }
   ],
   "source": [
    "! pip install seaborn"
   ]
  },
  {
   "source": [
    "g = sns.catplot(data = db, x ='kind_book', y ='average_rating', kind = 'box', aspect = 3)\n",
    "plt.pyplot.title('Средняя оценка для бумажных и аудио книг')"
   ],
   "cell_type": "code",
   "metadata": {},
   "execution_count": 23,
   "outputs": [
    {
     "output_type": "execute_result",
     "data": {
      "text/plain": [
       "Text(0.5, 1.0, 'Средняя оценка для бумажных и аудио книг')"
      ]
     },
     "metadata": {},
     "execution_count": 23
    },
    {
     "output_type": "display_data",
     "data": {
      "text/plain": "<Figure size 1080x360 with 1 Axes>",
      "image/svg+xml": "<?xml version=\"1.0\" encoding=\"utf-8\" standalone=\"no\"?>\n<!DOCTYPE svg PUBLIC \"-//W3C//DTD SVG 1.1//EN\"\n  \"http://www.w3.org/Graphics/SVG/1.1/DTD/svg11.dtd\">\n<!-- Created with matplotlib (https://matplotlib.org/) -->\n<svg height=\"366.850625pt\" version=\"1.1\" viewBox=\"0 0 1071.8375 366.850625\" width=\"1071.8375pt\" xmlns=\"http://www.w3.org/2000/svg\" xmlns:xlink=\"http://www.w3.org/1999/xlink\">\n <defs>\n  <style type=\"text/css\">\n*{stroke-linecap:butt;stroke-linejoin:round;}\n  </style>\n </defs>\n <g id=\"figure_1\">\n  <g id=\"patch_1\">\n   <path d=\"M 0 366.850625 \nL 1071.8375 366.850625 \nL 1071.8375 0 \nL 0 0 \nz\n\" style=\"fill:none;\"/>\n  </g>\n  <g id=\"axes_1\">\n   <g id=\"patch_2\">\n    <path d=\"M 34.51875 329.01625 \nL 1064.6375 329.01625 \nL 1064.6375 22.5225 \nL 34.51875 22.5225 \nz\n\" style=\"fill:#ffffff;\"/>\n   </g>\n   <g id=\"patch_3\">\n    <path clip-path=\"url(#p9ac7e68b9d)\" d=\"M 86.024687 104.997182 \nL 498.072187 104.997182 \nL 498.072187 84.935773 \nL 86.024687 84.935773 \nL 86.024687 104.997182 \nz\n\" style=\"fill:#3274a1;stroke:#3f3f3f;stroke-linejoin:miter;stroke-width:1.5;\"/>\n   </g>\n   <g id=\"patch_4\">\n    <path clip-path=\"url(#p9ac7e68b9d)\" d=\"M 601.084062 102.210875 \nL 1013.131562 102.210875 \nL 1013.131562 82.149466 \nL 601.084062 82.149466 \nL 601.084062 102.210875 \nz\n\" style=\"fill:#e1812c;stroke:#3f3f3f;stroke-linejoin:miter;stroke-width:1.5;\"/>\n   </g>\n   <g id=\"matplotlib.axis_1\">\n    <g id=\"xtick_1\">\n     <g id=\"line2d_1\">\n      <defs>\n       <path d=\"M 0 0 \nL 0 3.5 \n\" id=\"mbf164deae7\" style=\"stroke:#000000;stroke-width:0.8;\"/>\n      </defs>\n      <g>\n       <use style=\"stroke:#000000;stroke-width:0.8;\" x=\"292.048437\" xlink:href=\"#mbf164deae7\" y=\"329.01625\"/>\n      </g>\n     </g>\n     <g id=\"text_1\">\n      <!-- paper -->\n      <defs>\n       <path d=\"M 18.109375 8.203125 \nL 18.109375 -20.796875 \nL 9.078125 -20.796875 \nL 9.078125 54.6875 \nL 18.109375 54.6875 \nL 18.109375 46.390625 \nQ 20.953125 51.265625 25.265625 53.625 \nQ 29.59375 56 35.59375 56 \nQ 45.5625 56 51.78125 48.09375 \nQ 58.015625 40.1875 58.015625 27.296875 \nQ 58.015625 14.40625 51.78125 6.484375 \nQ 45.5625 -1.421875 35.59375 -1.421875 \nQ 29.59375 -1.421875 25.265625 0.953125 \nQ 20.953125 3.328125 18.109375 8.203125 \nz\nM 48.6875 27.296875 \nQ 48.6875 37.203125 44.609375 42.84375 \nQ 40.53125 48.484375 33.40625 48.484375 \nQ 26.265625 48.484375 22.1875 42.84375 \nQ 18.109375 37.203125 18.109375 27.296875 \nQ 18.109375 17.390625 22.1875 11.75 \nQ 26.265625 6.109375 33.40625 6.109375 \nQ 40.53125 6.109375 44.609375 11.75 \nQ 48.6875 17.390625 48.6875 27.296875 \nz\n\" id=\"DejaVuSans-112\"/>\n       <path d=\"M 34.28125 27.484375 \nQ 23.390625 27.484375 19.1875 25 \nQ 14.984375 22.515625 14.984375 16.5 \nQ 14.984375 11.71875 18.140625 8.90625 \nQ 21.296875 6.109375 26.703125 6.109375 \nQ 34.1875 6.109375 38.703125 11.40625 \nQ 43.21875 16.703125 43.21875 25.484375 \nL 43.21875 27.484375 \nz\nM 52.203125 31.203125 \nL 52.203125 0 \nL 43.21875 0 \nL 43.21875 8.296875 \nQ 40.140625 3.328125 35.546875 0.953125 \nQ 30.953125 -1.421875 24.3125 -1.421875 \nQ 15.921875 -1.421875 10.953125 3.296875 \nQ 6 8.015625 6 15.921875 \nQ 6 25.140625 12.171875 29.828125 \nQ 18.359375 34.515625 30.609375 34.515625 \nL 43.21875 34.515625 \nL 43.21875 35.40625 \nQ 43.21875 41.609375 39.140625 45 \nQ 35.0625 48.390625 27.6875 48.390625 \nQ 23 48.390625 18.546875 47.265625 \nQ 14.109375 46.140625 10.015625 43.890625 \nL 10.015625 52.203125 \nQ 14.9375 54.109375 19.578125 55.046875 \nQ 24.21875 56 28.609375 56 \nQ 40.484375 56 46.34375 49.84375 \nQ 52.203125 43.703125 52.203125 31.203125 \nz\n\" id=\"DejaVuSans-97\"/>\n       <path d=\"M 56.203125 29.59375 \nL 56.203125 25.203125 \nL 14.890625 25.203125 \nQ 15.484375 15.921875 20.484375 11.0625 \nQ 25.484375 6.203125 34.421875 6.203125 \nQ 39.59375 6.203125 44.453125 7.46875 \nQ 49.3125 8.734375 54.109375 11.28125 \nL 54.109375 2.78125 \nQ 49.265625 0.734375 44.1875 -0.34375 \nQ 39.109375 -1.421875 33.890625 -1.421875 \nQ 20.796875 -1.421875 13.15625 6.1875 \nQ 5.515625 13.8125 5.515625 26.8125 \nQ 5.515625 40.234375 12.765625 48.109375 \nQ 20.015625 56 32.328125 56 \nQ 43.359375 56 49.78125 48.890625 \nQ 56.203125 41.796875 56.203125 29.59375 \nz\nM 47.21875 32.234375 \nQ 47.125 39.59375 43.09375 43.984375 \nQ 39.0625 48.390625 32.421875 48.390625 \nQ 24.90625 48.390625 20.390625 44.140625 \nQ 15.875 39.890625 15.1875 32.171875 \nz\n\" id=\"DejaVuSans-101\"/>\n       <path d=\"M 41.109375 46.296875 \nQ 39.59375 47.171875 37.8125 47.578125 \nQ 36.03125 48 33.890625 48 \nQ 26.265625 48 22.1875 43.046875 \nQ 18.109375 38.09375 18.109375 28.8125 \nL 18.109375 0 \nL 9.078125 0 \nL 9.078125 54.6875 \nL 18.109375 54.6875 \nL 18.109375 46.1875 \nQ 20.953125 51.171875 25.484375 53.578125 \nQ 30.03125 56 36.53125 56 \nQ 37.453125 56 38.578125 55.875 \nQ 39.703125 55.765625 41.0625 55.515625 \nz\n\" id=\"DejaVuSans-114\"/>\n      </defs>\n      <g transform=\"translate(277.503906 343.614687)scale(0.1 -0.1)\">\n       <use xlink:href=\"#DejaVuSans-112\"/>\n       <use x=\"63.476562\" xlink:href=\"#DejaVuSans-97\"/>\n       <use x=\"124.755859\" xlink:href=\"#DejaVuSans-112\"/>\n       <use x=\"188.232422\" xlink:href=\"#DejaVuSans-101\"/>\n       <use x=\"249.755859\" xlink:href=\"#DejaVuSans-114\"/>\n      </g>\n     </g>\n    </g>\n    <g id=\"xtick_2\">\n     <g id=\"line2d_2\">\n      <g>\n       <use style=\"stroke:#000000;stroke-width:0.8;\" x=\"807.107812\" xlink:href=\"#mbf164deae7\" y=\"329.01625\"/>\n      </g>\n     </g>\n     <g id=\"text_2\">\n      <!-- audio -->\n      <defs>\n       <path d=\"M 8.5 21.578125 \nL 8.5 54.6875 \nL 17.484375 54.6875 \nL 17.484375 21.921875 \nQ 17.484375 14.15625 20.5 10.265625 \nQ 23.53125 6.390625 29.59375 6.390625 \nQ 36.859375 6.390625 41.078125 11.03125 \nQ 45.3125 15.671875 45.3125 23.6875 \nL 45.3125 54.6875 \nL 54.296875 54.6875 \nL 54.296875 0 \nL 45.3125 0 \nL 45.3125 8.40625 \nQ 42.046875 3.421875 37.71875 1 \nQ 33.40625 -1.421875 27.6875 -1.421875 \nQ 18.265625 -1.421875 13.375 4.4375 \nQ 8.5 10.296875 8.5 21.578125 \nz\nM 31.109375 56 \nz\n\" id=\"DejaVuSans-117\"/>\n       <path d=\"M 45.40625 46.390625 \nL 45.40625 75.984375 \nL 54.390625 75.984375 \nL 54.390625 0 \nL 45.40625 0 \nL 45.40625 8.203125 \nQ 42.578125 3.328125 38.25 0.953125 \nQ 33.9375 -1.421875 27.875 -1.421875 \nQ 17.96875 -1.421875 11.734375 6.484375 \nQ 5.515625 14.40625 5.515625 27.296875 \nQ 5.515625 40.1875 11.734375 48.09375 \nQ 17.96875 56 27.875 56 \nQ 33.9375 56 38.25 53.625 \nQ 42.578125 51.265625 45.40625 46.390625 \nz\nM 14.796875 27.296875 \nQ 14.796875 17.390625 18.875 11.75 \nQ 22.953125 6.109375 30.078125 6.109375 \nQ 37.203125 6.109375 41.296875 11.75 \nQ 45.40625 17.390625 45.40625 27.296875 \nQ 45.40625 37.203125 41.296875 42.84375 \nQ 37.203125 48.484375 30.078125 48.484375 \nQ 22.953125 48.484375 18.875 42.84375 \nQ 14.796875 37.203125 14.796875 27.296875 \nz\n\" id=\"DejaVuSans-100\"/>\n       <path d=\"M 9.421875 54.6875 \nL 18.40625 54.6875 \nL 18.40625 0 \nL 9.421875 0 \nz\nM 9.421875 75.984375 \nL 18.40625 75.984375 \nL 18.40625 64.59375 \nL 9.421875 64.59375 \nz\n\" id=\"DejaVuSans-105\"/>\n       <path d=\"M 30.609375 48.390625 \nQ 23.390625 48.390625 19.1875 42.75 \nQ 14.984375 37.109375 14.984375 27.296875 \nQ 14.984375 17.484375 19.15625 11.84375 \nQ 23.34375 6.203125 30.609375 6.203125 \nQ 37.796875 6.203125 41.984375 11.859375 \nQ 46.1875 17.53125 46.1875 27.296875 \nQ 46.1875 37.015625 41.984375 42.703125 \nQ 37.796875 48.390625 30.609375 48.390625 \nz\nM 30.609375 56 \nQ 42.328125 56 49.015625 48.375 \nQ 55.71875 40.765625 55.71875 27.296875 \nQ 55.71875 13.875 49.015625 6.21875 \nQ 42.328125 -1.421875 30.609375 -1.421875 \nQ 18.84375 -1.421875 12.171875 6.21875 \nQ 5.515625 13.875 5.515625 27.296875 \nQ 5.515625 40.765625 12.171875 48.375 \nQ 18.84375 56 30.609375 56 \nz\n\" id=\"DejaVuSans-111\"/>\n      </defs>\n      <g transform=\"translate(793.252344 343.614687)scale(0.1 -0.1)\">\n       <use xlink:href=\"#DejaVuSans-97\"/>\n       <use x=\"61.279297\" xlink:href=\"#DejaVuSans-117\"/>\n       <use x=\"124.658203\" xlink:href=\"#DejaVuSans-100\"/>\n       <use x=\"188.134766\" xlink:href=\"#DejaVuSans-105\"/>\n       <use x=\"215.917969\" xlink:href=\"#DejaVuSans-111\"/>\n      </g>\n     </g>\n    </g>\n    <g id=\"text_3\">\n     <!-- kind_book -->\n     <defs>\n      <path d=\"M 9.078125 75.984375 \nL 18.109375 75.984375 \nL 18.109375 31.109375 \nL 44.921875 54.6875 \nL 56.390625 54.6875 \nL 27.390625 29.109375 \nL 57.625 0 \nL 45.90625 0 \nL 18.109375 26.703125 \nL 18.109375 0 \nL 9.078125 0 \nz\n\" id=\"DejaVuSans-107\"/>\n      <path d=\"M 54.890625 33.015625 \nL 54.890625 0 \nL 45.90625 0 \nL 45.90625 32.71875 \nQ 45.90625 40.484375 42.875 44.328125 \nQ 39.84375 48.1875 33.796875 48.1875 \nQ 26.515625 48.1875 22.3125 43.546875 \nQ 18.109375 38.921875 18.109375 30.90625 \nL 18.109375 0 \nL 9.078125 0 \nL 9.078125 54.6875 \nL 18.109375 54.6875 \nL 18.109375 46.1875 \nQ 21.34375 51.125 25.703125 53.5625 \nQ 30.078125 56 35.796875 56 \nQ 45.21875 56 50.046875 50.171875 \nQ 54.890625 44.34375 54.890625 33.015625 \nz\n\" id=\"DejaVuSans-110\"/>\n      <path d=\"M 50.984375 -16.609375 \nL 50.984375 -23.578125 \nL -0.984375 -23.578125 \nL -0.984375 -16.609375 \nz\n\" id=\"DejaVuSans-95\"/>\n      <path d=\"M 48.6875 27.296875 \nQ 48.6875 37.203125 44.609375 42.84375 \nQ 40.53125 48.484375 33.40625 48.484375 \nQ 26.265625 48.484375 22.1875 42.84375 \nQ 18.109375 37.203125 18.109375 27.296875 \nQ 18.109375 17.390625 22.1875 11.75 \nQ 26.265625 6.109375 33.40625 6.109375 \nQ 40.53125 6.109375 44.609375 11.75 \nQ 48.6875 17.390625 48.6875 27.296875 \nz\nM 18.109375 46.390625 \nQ 20.953125 51.265625 25.265625 53.625 \nQ 29.59375 56 35.59375 56 \nQ 45.5625 56 51.78125 48.09375 \nQ 58.015625 40.1875 58.015625 27.296875 \nQ 58.015625 14.40625 51.78125 6.484375 \nQ 45.5625 -1.421875 35.59375 -1.421875 \nQ 29.59375 -1.421875 25.265625 0.953125 \nQ 20.953125 3.328125 18.109375 8.203125 \nL 18.109375 0 \nL 9.078125 0 \nL 9.078125 75.984375 \nL 18.109375 75.984375 \nz\n\" id=\"DejaVuSans-98\"/>\n     </defs>\n     <g transform=\"translate(524.2625 357.292812)scale(0.1 -0.1)\">\n      <use xlink:href=\"#DejaVuSans-107\"/>\n      <use x=\"57.910156\" xlink:href=\"#DejaVuSans-105\"/>\n      <use x=\"85.693359\" xlink:href=\"#DejaVuSans-110\"/>\n      <use x=\"149.072266\" xlink:href=\"#DejaVuSans-100\"/>\n      <use x=\"212.548828\" xlink:href=\"#DejaVuSans-95\"/>\n      <use x=\"262.548828\" xlink:href=\"#DejaVuSans-98\"/>\n      <use x=\"326.025391\" xlink:href=\"#DejaVuSans-111\"/>\n      <use x=\"387.207031\" xlink:href=\"#DejaVuSans-111\"/>\n      <use x=\"448.388672\" xlink:href=\"#DejaVuSans-107\"/>\n     </g>\n    </g>\n   </g>\n   <g id=\"matplotlib.axis_2\">\n    <g id=\"ytick_1\">\n     <g id=\"line2d_3\">\n      <defs>\n       <path d=\"M 0 0 \nL -3.5 0 \n\" id=\"me70b15b7cb\" style=\"stroke:#000000;stroke-width:0.8;\"/>\n      </defs>\n      <g>\n       <use style=\"stroke:#000000;stroke-width:0.8;\" x=\"34.51875\" xlink:href=\"#me70b15b7cb\" y=\"315.084716\"/>\n      </g>\n     </g>\n     <g id=\"text_4\">\n      <!-- 0 -->\n      <defs>\n       <path d=\"M 31.78125 66.40625 \nQ 24.171875 66.40625 20.328125 58.90625 \nQ 16.5 51.421875 16.5 36.375 \nQ 16.5 21.390625 20.328125 13.890625 \nQ 24.171875 6.390625 31.78125 6.390625 \nQ 39.453125 6.390625 43.28125 13.890625 \nQ 47.125 21.390625 47.125 36.375 \nQ 47.125 51.421875 43.28125 58.90625 \nQ 39.453125 66.40625 31.78125 66.40625 \nz\nM 31.78125 74.21875 \nQ 44.046875 74.21875 50.515625 64.515625 \nQ 56.984375 54.828125 56.984375 36.375 \nQ 56.984375 17.96875 50.515625 8.265625 \nQ 44.046875 -1.421875 31.78125 -1.421875 \nQ 19.53125 -1.421875 13.0625 8.265625 \nQ 6.59375 17.96875 6.59375 36.375 \nQ 6.59375 54.828125 13.0625 64.515625 \nQ 19.53125 74.21875 31.78125 74.21875 \nz\n\" id=\"DejaVuSans-48\"/>\n      </defs>\n      <g transform=\"translate(21.15625 318.883935)scale(0.1 -0.1)\">\n       <use xlink:href=\"#DejaVuSans-48\"/>\n      </g>\n     </g>\n    </g>\n    <g id=\"ytick_2\">\n     <g id=\"line2d_4\">\n      <g>\n       <use style=\"stroke:#000000;stroke-width:0.8;\" x=\"34.51875\" xlink:href=\"#me70b15b7cb\" y=\"259.35858\"/>\n      </g>\n     </g>\n     <g id=\"text_5\">\n      <!-- 1 -->\n      <defs>\n       <path d=\"M 12.40625 8.296875 \nL 28.515625 8.296875 \nL 28.515625 63.921875 \nL 10.984375 60.40625 \nL 10.984375 69.390625 \nL 28.421875 72.90625 \nL 38.28125 72.90625 \nL 38.28125 8.296875 \nL 54.390625 8.296875 \nL 54.390625 0 \nL 12.40625 0 \nz\n\" id=\"DejaVuSans-49\"/>\n      </defs>\n      <g transform=\"translate(21.15625 263.157798)scale(0.1 -0.1)\">\n       <use xlink:href=\"#DejaVuSans-49\"/>\n      </g>\n     </g>\n    </g>\n    <g id=\"ytick_3\">\n     <g id=\"line2d_5\">\n      <g>\n       <use style=\"stroke:#000000;stroke-width:0.8;\" x=\"34.51875\" xlink:href=\"#me70b15b7cb\" y=\"203.632443\"/>\n      </g>\n     </g>\n     <g id=\"text_6\">\n      <!-- 2 -->\n      <defs>\n       <path d=\"M 19.1875 8.296875 \nL 53.609375 8.296875 \nL 53.609375 0 \nL 7.328125 0 \nL 7.328125 8.296875 \nQ 12.9375 14.109375 22.625 23.890625 \nQ 32.328125 33.6875 34.8125 36.53125 \nQ 39.546875 41.84375 41.421875 45.53125 \nQ 43.3125 49.21875 43.3125 52.78125 \nQ 43.3125 58.59375 39.234375 62.25 \nQ 35.15625 65.921875 28.609375 65.921875 \nQ 23.96875 65.921875 18.8125 64.3125 \nQ 13.671875 62.703125 7.8125 59.421875 \nL 7.8125 69.390625 \nQ 13.765625 71.78125 18.9375 73 \nQ 24.125 74.21875 28.421875 74.21875 \nQ 39.75 74.21875 46.484375 68.546875 \nQ 53.21875 62.890625 53.21875 53.421875 \nQ 53.21875 48.921875 51.53125 44.890625 \nQ 49.859375 40.875 45.40625 35.40625 \nQ 44.1875 33.984375 37.640625 27.21875 \nQ 31.109375 20.453125 19.1875 8.296875 \nz\n\" id=\"DejaVuSans-50\"/>\n      </defs>\n      <g transform=\"translate(21.15625 207.431662)scale(0.1 -0.1)\">\n       <use xlink:href=\"#DejaVuSans-50\"/>\n      </g>\n     </g>\n    </g>\n    <g id=\"ytick_4\">\n     <g id=\"line2d_6\">\n      <g>\n       <use style=\"stroke:#000000;stroke-width:0.8;\" x=\"34.51875\" xlink:href=\"#me70b15b7cb\" y=\"147.906307\"/>\n      </g>\n     </g>\n     <g id=\"text_7\">\n      <!-- 3 -->\n      <defs>\n       <path d=\"M 40.578125 39.3125 \nQ 47.65625 37.796875 51.625 33 \nQ 55.609375 28.21875 55.609375 21.1875 \nQ 55.609375 10.40625 48.1875 4.484375 \nQ 40.765625 -1.421875 27.09375 -1.421875 \nQ 22.515625 -1.421875 17.65625 -0.515625 \nQ 12.796875 0.390625 7.625 2.203125 \nL 7.625 11.71875 \nQ 11.71875 9.328125 16.59375 8.109375 \nQ 21.484375 6.890625 26.8125 6.890625 \nQ 36.078125 6.890625 40.9375 10.546875 \nQ 45.796875 14.203125 45.796875 21.1875 \nQ 45.796875 27.640625 41.28125 31.265625 \nQ 36.765625 34.90625 28.71875 34.90625 \nL 20.21875 34.90625 \nL 20.21875 43.015625 \nL 29.109375 43.015625 \nQ 36.375 43.015625 40.234375 45.921875 \nQ 44.09375 48.828125 44.09375 54.296875 \nQ 44.09375 59.90625 40.109375 62.90625 \nQ 36.140625 65.921875 28.71875 65.921875 \nQ 24.65625 65.921875 20.015625 65.03125 \nQ 15.375 64.15625 9.8125 62.3125 \nL 9.8125 71.09375 \nQ 15.4375 72.65625 20.34375 73.4375 \nQ 25.25 74.21875 29.59375 74.21875 \nQ 40.828125 74.21875 47.359375 69.109375 \nQ 53.90625 64.015625 53.90625 55.328125 \nQ 53.90625 49.265625 50.4375 45.09375 \nQ 46.96875 40.921875 40.578125 39.3125 \nz\n\" id=\"DejaVuSans-51\"/>\n      </defs>\n      <g transform=\"translate(21.15625 151.705526)scale(0.1 -0.1)\">\n       <use xlink:href=\"#DejaVuSans-51\"/>\n      </g>\n     </g>\n    </g>\n    <g id=\"ytick_5\">\n     <g id=\"line2d_7\">\n      <g>\n       <use style=\"stroke:#000000;stroke-width:0.8;\" x=\"34.51875\" xlink:href=\"#me70b15b7cb\" y=\"92.18017\"/>\n      </g>\n     </g>\n     <g id=\"text_8\">\n      <!-- 4 -->\n      <defs>\n       <path d=\"M 37.796875 64.3125 \nL 12.890625 25.390625 \nL 37.796875 25.390625 \nz\nM 35.203125 72.90625 \nL 47.609375 72.90625 \nL 47.609375 25.390625 \nL 58.015625 25.390625 \nL 58.015625 17.1875 \nL 47.609375 17.1875 \nL 47.609375 0 \nL 37.796875 0 \nL 37.796875 17.1875 \nL 4.890625 17.1875 \nL 4.890625 26.703125 \nz\n\" id=\"DejaVuSans-52\"/>\n      </defs>\n      <g transform=\"translate(21.15625 95.979389)scale(0.1 -0.1)\">\n       <use xlink:href=\"#DejaVuSans-52\"/>\n      </g>\n     </g>\n    </g>\n    <g id=\"ytick_6\">\n     <g id=\"line2d_8\">\n      <g>\n       <use style=\"stroke:#000000;stroke-width:0.8;\" x=\"34.51875\" xlink:href=\"#me70b15b7cb\" y=\"36.454034\"/>\n      </g>\n     </g>\n     <g id=\"text_9\">\n      <!-- 5 -->\n      <defs>\n       <path d=\"M 10.796875 72.90625 \nL 49.515625 72.90625 \nL 49.515625 64.59375 \nL 19.828125 64.59375 \nL 19.828125 46.734375 \nQ 21.96875 47.46875 24.109375 47.828125 \nQ 26.265625 48.1875 28.421875 48.1875 \nQ 40.625 48.1875 47.75 41.5 \nQ 54.890625 34.8125 54.890625 23.390625 \nQ 54.890625 11.625 47.5625 5.09375 \nQ 40.234375 -1.421875 26.90625 -1.421875 \nQ 22.3125 -1.421875 17.546875 -0.640625 \nQ 12.796875 0.140625 7.71875 1.703125 \nL 7.71875 11.625 \nQ 12.109375 9.234375 16.796875 8.0625 \nQ 21.484375 6.890625 26.703125 6.890625 \nQ 35.15625 6.890625 40.078125 11.328125 \nQ 45.015625 15.765625 45.015625 23.390625 \nQ 45.015625 31 40.078125 35.4375 \nQ 35.15625 39.890625 26.703125 39.890625 \nQ 22.75 39.890625 18.8125 39.015625 \nQ 14.890625 38.140625 10.796875 36.28125 \nz\n\" id=\"DejaVuSans-53\"/>\n      </defs>\n      <g transform=\"translate(21.15625 40.253253)scale(0.1 -0.1)\">\n       <use xlink:href=\"#DejaVuSans-53\"/>\n      </g>\n     </g>\n    </g>\n    <g id=\"text_10\">\n     <!-- average_rating -->\n     <defs>\n      <path d=\"M 2.984375 54.6875 \nL 12.5 54.6875 \nL 29.59375 8.796875 \nL 46.6875 54.6875 \nL 56.203125 54.6875 \nL 35.6875 0 \nL 23.484375 0 \nz\n\" id=\"DejaVuSans-118\"/>\n      <path d=\"M 45.40625 27.984375 \nQ 45.40625 37.75 41.375 43.109375 \nQ 37.359375 48.484375 30.078125 48.484375 \nQ 22.859375 48.484375 18.828125 43.109375 \nQ 14.796875 37.75 14.796875 27.984375 \nQ 14.796875 18.265625 18.828125 12.890625 \nQ 22.859375 7.515625 30.078125 7.515625 \nQ 37.359375 7.515625 41.375 12.890625 \nQ 45.40625 18.265625 45.40625 27.984375 \nz\nM 54.390625 6.78125 \nQ 54.390625 -7.171875 48.1875 -13.984375 \nQ 42 -20.796875 29.203125 -20.796875 \nQ 24.46875 -20.796875 20.265625 -20.09375 \nQ 16.0625 -19.390625 12.109375 -17.921875 \nL 12.109375 -9.1875 \nQ 16.0625 -11.328125 19.921875 -12.34375 \nQ 23.78125 -13.375 27.78125 -13.375 \nQ 36.625 -13.375 41.015625 -8.765625 \nQ 45.40625 -4.15625 45.40625 5.171875 \nL 45.40625 9.625 \nQ 42.625 4.78125 38.28125 2.390625 \nQ 33.9375 0 27.875 0 \nQ 17.828125 0 11.671875 7.65625 \nQ 5.515625 15.328125 5.515625 27.984375 \nQ 5.515625 40.671875 11.671875 48.328125 \nQ 17.828125 56 27.875 56 \nQ 33.9375 56 38.28125 53.609375 \nQ 42.625 51.21875 45.40625 46.390625 \nL 45.40625 54.6875 \nL 54.390625 54.6875 \nz\n\" id=\"DejaVuSans-103\"/>\n      <path d=\"M 18.3125 70.21875 \nL 18.3125 54.6875 \nL 36.8125 54.6875 \nL 36.8125 47.703125 \nL 18.3125 47.703125 \nL 18.3125 18.015625 \nQ 18.3125 11.328125 20.140625 9.421875 \nQ 21.96875 7.515625 27.59375 7.515625 \nL 36.8125 7.515625 \nL 36.8125 0 \nL 27.59375 0 \nQ 17.1875 0 13.234375 3.875 \nQ 9.28125 7.765625 9.28125 18.015625 \nL 9.28125 47.703125 \nL 2.6875 47.703125 \nL 2.6875 54.6875 \nL 9.28125 54.6875 \nL 9.28125 70.21875 \nz\n\" id=\"DejaVuSans-116\"/>\n     </defs>\n     <g transform=\"translate(14.798438 213.551406)rotate(-90)scale(0.1 -0.1)\">\n      <use xlink:href=\"#DejaVuSans-97\"/>\n      <use x=\"61.279297\" xlink:href=\"#DejaVuSans-118\"/>\n      <use x=\"120.458984\" xlink:href=\"#DejaVuSans-101\"/>\n      <use x=\"181.982422\" xlink:href=\"#DejaVuSans-114\"/>\n      <use x=\"223.095703\" xlink:href=\"#DejaVuSans-97\"/>\n      <use x=\"284.375\" xlink:href=\"#DejaVuSans-103\"/>\n      <use x=\"347.851562\" xlink:href=\"#DejaVuSans-101\"/>\n      <use x=\"409.375\" xlink:href=\"#DejaVuSans-95\"/>\n      <use x=\"459.375\" xlink:href=\"#DejaVuSans-114\"/>\n      <use x=\"500.488281\" xlink:href=\"#DejaVuSans-97\"/>\n      <use x=\"561.767578\" xlink:href=\"#DejaVuSans-116\"/>\n      <use x=\"600.976562\" xlink:href=\"#DejaVuSans-105\"/>\n      <use x=\"628.759766\" xlink:href=\"#DejaVuSans-110\"/>\n      <use x=\"692.138672\" xlink:href=\"#DejaVuSans-103\"/>\n     </g>\n    </g>\n   </g>\n   <g id=\"line2d_9\">\n    <path clip-path=\"url(#p9ac7e68b9d)\" d=\"M 292.048437 104.997182 \nL 292.048437 134.532034 \n\" style=\"fill:none;stroke:#3f3f3f;stroke-linecap:square;stroke-width:1.5;\"/>\n   </g>\n   <g id=\"line2d_10\">\n    <path clip-path=\"url(#p9ac7e68b9d)\" d=\"M 292.048437 84.935773 \nL 292.048437 54.843659 \n\" style=\"fill:none;stroke:#3f3f3f;stroke-linecap:square;stroke-width:1.5;\"/>\n   </g>\n   <g id=\"line2d_11\">\n    <path clip-path=\"url(#p9ac7e68b9d)\" d=\"M 189.036563 134.532034 \nL 395.060312 134.532034 \n\" style=\"fill:none;stroke:#3f3f3f;stroke-linecap:square;stroke-width:1.5;\"/>\n   </g>\n   <g id=\"line2d_12\">\n    <path clip-path=\"url(#p9ac7e68b9d)\" d=\"M 189.036563 54.843659 \nL 395.060312 54.843659 \n\" style=\"fill:none;stroke:#3f3f3f;stroke-linecap:square;stroke-width:1.5;\"/>\n   </g>\n   <g id=\"line2d_13\">\n    <defs>\n     <path d=\"M -0 3.535534 \nL 2.12132 0 \nL -0 -3.535534 \nL -2.12132 -0 \nz\n\" id=\"mf07c583435\" style=\"stroke:#3f3f3f;stroke-linejoin:miter;\"/>\n    </defs>\n    <g clip-path=\"url(#p9ac7e68b9d)\">\n     <use style=\"fill:#3f3f3f;stroke:#3f3f3f;stroke-linejoin:miter;\" x=\"292.048437\" xlink:href=\"#mf07c583435\" y=\"148.463568\"/>\n     <use style=\"fill:#3f3f3f;stroke:#3f3f3f;stroke-linejoin:miter;\" x=\"292.048437\" xlink:href=\"#mf07c583435\" y=\"135.646557\"/>\n     <use style=\"fill:#3f3f3f;stroke:#3f3f3f;stroke-linejoin:miter;\" x=\"292.048437\" xlink:href=\"#mf07c583435\" y=\"135.089295\"/>\n     <use style=\"fill:#3f3f3f;stroke:#3f3f3f;stroke-linejoin:miter;\" x=\"292.048437\" xlink:href=\"#mf07c583435\" y=\"142.890955\"/>\n     <use style=\"fill:#3f3f3f;stroke:#3f3f3f;stroke-linejoin:miter;\" x=\"292.048437\" xlink:href=\"#mf07c583435\" y=\"315.084716\"/>\n     <use style=\"fill:#3f3f3f;stroke:#3f3f3f;stroke-linejoin:miter;\" x=\"292.048437\" xlink:href=\"#mf07c583435\" y=\"139.547386\"/>\n     <use style=\"fill:#3f3f3f;stroke:#3f3f3f;stroke-linejoin:miter;\" x=\"292.048437\" xlink:href=\"#mf07c583435\" y=\"315.084716\"/>\n     <use style=\"fill:#3f3f3f;stroke:#3f3f3f;stroke-linejoin:miter;\" x=\"292.048437\" xlink:href=\"#mf07c583435\" y=\"159.051534\"/>\n     <use style=\"fill:#3f3f3f;stroke:#3f3f3f;stroke-linejoin:miter;\" x=\"292.048437\" xlink:href=\"#mf07c583435\" y=\"157.37975\"/>\n     <use style=\"fill:#3f3f3f;stroke:#3f3f3f;stroke-linejoin:miter;\" x=\"292.048437\" xlink:href=\"#mf07c583435\" y=\"166.295932\"/>\n     <use style=\"fill:#3f3f3f;stroke:#3f3f3f;stroke-linejoin:miter;\" x=\"292.048437\" xlink:href=\"#mf07c583435\" y=\"166.295932\"/>\n     <use style=\"fill:#3f3f3f;stroke:#3f3f3f;stroke-linejoin:miter;\" x=\"292.048437\" xlink:href=\"#mf07c583435\" y=\"142.333693\"/>\n     <use style=\"fill:#3f3f3f;stroke:#3f3f3f;stroke-linejoin:miter;\" x=\"292.048437\" xlink:href=\"#mf07c583435\" y=\"143.448216\"/>\n     <use style=\"fill:#3f3f3f;stroke:#3f3f3f;stroke-linejoin:miter;\" x=\"292.048437\" xlink:href=\"#mf07c583435\" y=\"157.37975\"/>\n     <use style=\"fill:#3f3f3f;stroke:#3f3f3f;stroke-linejoin:miter;\" x=\"292.048437\" xlink:href=\"#mf07c583435\" y=\"147.906307\"/>\n     <use style=\"fill:#3f3f3f;stroke:#3f3f3f;stroke-linejoin:miter;\" x=\"292.048437\" xlink:href=\"#mf07c583435\" y=\"147.906307\"/>\n     <use style=\"fill:#3f3f3f;stroke:#3f3f3f;stroke-linejoin:miter;\" x=\"292.048437\" xlink:href=\"#mf07c583435\" y=\"147.906307\"/>\n     <use style=\"fill:#3f3f3f;stroke:#3f3f3f;stroke-linejoin:miter;\" x=\"292.048437\" xlink:href=\"#mf07c583435\" y=\"138.432864\"/>\n     <use style=\"fill:#3f3f3f;stroke:#3f3f3f;stroke-linejoin:miter;\" x=\"292.048437\" xlink:href=\"#mf07c583435\" y=\"315.084716\"/>\n     <use style=\"fill:#3f3f3f;stroke:#3f3f3f;stroke-linejoin:miter;\" x=\"292.048437\" xlink:href=\"#mf07c583435\" y=\"138.432864\"/>\n     <use style=\"fill:#3f3f3f;stroke:#3f3f3f;stroke-linejoin:miter;\" x=\"292.048437\" xlink:href=\"#mf07c583435\" y=\"138.990125\"/>\n     <use style=\"fill:#3f3f3f;stroke:#3f3f3f;stroke-linejoin:miter;\" x=\"292.048437\" xlink:href=\"#mf07c583435\" y=\"154.593443\"/>\n     <use style=\"fill:#3f3f3f;stroke:#3f3f3f;stroke-linejoin:miter;\" x=\"292.048437\" xlink:href=\"#mf07c583435\" y=\"149.02083\"/>\n     <use style=\"fill:#3f3f3f;stroke:#3f3f3f;stroke-linejoin:miter;\" x=\"292.048437\" xlink:href=\"#mf07c583435\" y=\"135.646557\"/>\n     <use style=\"fill:#3f3f3f;stroke:#3f3f3f;stroke-linejoin:miter;\" x=\"292.048437\" xlink:href=\"#mf07c583435\" y=\"135.646557\"/>\n     <use style=\"fill:#3f3f3f;stroke:#3f3f3f;stroke-linejoin:miter;\" x=\"292.048437\" xlink:href=\"#mf07c583435\" y=\"140.661909\"/>\n     <use style=\"fill:#3f3f3f;stroke:#3f3f3f;stroke-linejoin:miter;\" x=\"292.048437\" xlink:href=\"#mf07c583435\" y=\"140.661909\"/>\n     <use style=\"fill:#3f3f3f;stroke:#3f3f3f;stroke-linejoin:miter;\" x=\"292.048437\" xlink:href=\"#mf07c583435\" y=\"203.632443\"/>\n     <use style=\"fill:#3f3f3f;stroke:#3f3f3f;stroke-linejoin:miter;\" x=\"292.048437\" xlink:href=\"#mf07c583435\" y=\"136.76108\"/>\n     <use style=\"fill:#3f3f3f;stroke:#3f3f3f;stroke-linejoin:miter;\" x=\"292.048437\" xlink:href=\"#mf07c583435\" y=\"157.937011\"/>\n     <use style=\"fill:#3f3f3f;stroke:#3f3f3f;stroke-linejoin:miter;\" x=\"292.048437\" xlink:href=\"#mf07c583435\" y=\"154.593443\"/>\n     <use style=\"fill:#3f3f3f;stroke:#3f3f3f;stroke-linejoin:miter;\" x=\"292.048437\" xlink:href=\"#mf07c583435\" y=\"140.661909\"/>\n     <use style=\"fill:#3f3f3f;stroke:#3f3f3f;stroke-linejoin:miter;\" x=\"292.048437\" xlink:href=\"#mf07c583435\" y=\"138.990125\"/>\n     <use style=\"fill:#3f3f3f;stroke:#3f3f3f;stroke-linejoin:miter;\" x=\"292.048437\" xlink:href=\"#mf07c583435\" y=\"169.082239\"/>\n     <use style=\"fill:#3f3f3f;stroke:#3f3f3f;stroke-linejoin:miter;\" x=\"292.048437\" xlink:href=\"#mf07c583435\" y=\"152.364398\"/>\n     <use style=\"fill:#3f3f3f;stroke:#3f3f3f;stroke-linejoin:miter;\" x=\"292.048437\" xlink:href=\"#mf07c583435\" y=\"147.906307\"/>\n     <use style=\"fill:#3f3f3f;stroke:#3f3f3f;stroke-linejoin:miter;\" x=\"292.048437\" xlink:href=\"#mf07c583435\" y=\"138.432864\"/>\n     <use style=\"fill:#3f3f3f;stroke:#3f3f3f;stroke-linejoin:miter;\" x=\"292.048437\" xlink:href=\"#mf07c583435\" y=\"315.084716\"/>\n     <use style=\"fill:#3f3f3f;stroke:#3f3f3f;stroke-linejoin:miter;\" x=\"292.048437\" xlink:href=\"#mf07c583435\" y=\"315.084716\"/>\n     <use style=\"fill:#3f3f3f;stroke:#3f3f3f;stroke-linejoin:miter;\" x=\"292.048437\" xlink:href=\"#mf07c583435\" y=\"315.084716\"/>\n     <use style=\"fill:#3f3f3f;stroke:#3f3f3f;stroke-linejoin:miter;\" x=\"292.048437\" xlink:href=\"#mf07c583435\" y=\"135.646557\"/>\n     <use style=\"fill:#3f3f3f;stroke:#3f3f3f;stroke-linejoin:miter;\" x=\"292.048437\" xlink:href=\"#mf07c583435\" y=\"135.646557\"/>\n     <use style=\"fill:#3f3f3f;stroke:#3f3f3f;stroke-linejoin:miter;\" x=\"292.048437\" xlink:href=\"#mf07c583435\" y=\"146.791784\"/>\n     <use style=\"fill:#3f3f3f;stroke:#3f3f3f;stroke-linejoin:miter;\" x=\"292.048437\" xlink:href=\"#mf07c583435\" y=\"136.76108\"/>\n     <use style=\"fill:#3f3f3f;stroke:#3f3f3f;stroke-linejoin:miter;\" x=\"292.048437\" xlink:href=\"#mf07c583435\" y=\"138.432864\"/>\n     <use style=\"fill:#3f3f3f;stroke:#3f3f3f;stroke-linejoin:miter;\" x=\"292.048437\" xlink:href=\"#mf07c583435\" y=\"135.089295\"/>\n     <use style=\"fill:#3f3f3f;stroke:#3f3f3f;stroke-linejoin:miter;\" x=\"292.048437\" xlink:href=\"#mf07c583435\" y=\"259.35858\"/>\n     <use style=\"fill:#3f3f3f;stroke:#3f3f3f;stroke-linejoin:miter;\" x=\"292.048437\" xlink:href=\"#mf07c583435\" y=\"138.432864\"/>\n     <use style=\"fill:#3f3f3f;stroke:#3f3f3f;stroke-linejoin:miter;\" x=\"292.048437\" xlink:href=\"#mf07c583435\" y=\"140.104648\"/>\n     <use style=\"fill:#3f3f3f;stroke:#3f3f3f;stroke-linejoin:miter;\" x=\"292.048437\" xlink:href=\"#mf07c583435\" y=\"315.084716\"/>\n     <use style=\"fill:#3f3f3f;stroke:#3f3f3f;stroke-linejoin:miter;\" x=\"292.048437\" xlink:href=\"#mf07c583435\" y=\"141.21917\"/>\n     <use style=\"fill:#3f3f3f;stroke:#3f3f3f;stroke-linejoin:miter;\" x=\"292.048437\" xlink:href=\"#mf07c583435\" y=\"141.21917\"/>\n     <use style=\"fill:#3f3f3f;stroke:#3f3f3f;stroke-linejoin:miter;\" x=\"292.048437\" xlink:href=\"#mf07c583435\" y=\"137.875602\"/>\n     <use style=\"fill:#3f3f3f;stroke:#3f3f3f;stroke-linejoin:miter;\" x=\"292.048437\" xlink:href=\"#mf07c583435\" y=\"137.875602\"/>\n     <use style=\"fill:#3f3f3f;stroke:#3f3f3f;stroke-linejoin:miter;\" x=\"292.048437\" xlink:href=\"#mf07c583435\" y=\"155.707966\"/>\n     <use style=\"fill:#3f3f3f;stroke:#3f3f3f;stroke-linejoin:miter;\" x=\"292.048437\" xlink:href=\"#mf07c583435\" y=\"139.547386\"/>\n     <use style=\"fill:#3f3f3f;stroke:#3f3f3f;stroke-linejoin:miter;\" x=\"292.048437\" xlink:href=\"#mf07c583435\" y=\"203.632443\"/>\n     <use style=\"fill:#3f3f3f;stroke:#3f3f3f;stroke-linejoin:miter;\" x=\"292.048437\" xlink:href=\"#mf07c583435\" y=\"138.990125\"/>\n     <use style=\"fill:#3f3f3f;stroke:#3f3f3f;stroke-linejoin:miter;\" x=\"292.048437\" xlink:href=\"#mf07c583435\" y=\"138.990125\"/>\n     <use style=\"fill:#3f3f3f;stroke:#3f3f3f;stroke-linejoin:miter;\" x=\"292.048437\" xlink:href=\"#mf07c583435\" y=\"140.661909\"/>\n     <use style=\"fill:#3f3f3f;stroke:#3f3f3f;stroke-linejoin:miter;\" x=\"292.048437\" xlink:href=\"#mf07c583435\" y=\"155.707966\"/>\n     <use style=\"fill:#3f3f3f;stroke:#3f3f3f;stroke-linejoin:miter;\" x=\"292.048437\" xlink:href=\"#mf07c583435\" y=\"137.318341\"/>\n     <use style=\"fill:#3f3f3f;stroke:#3f3f3f;stroke-linejoin:miter;\" x=\"292.048437\" xlink:href=\"#mf07c583435\" y=\"136.76108\"/>\n     <use style=\"fill:#3f3f3f;stroke:#3f3f3f;stroke-linejoin:miter;\" x=\"292.048437\" xlink:href=\"#mf07c583435\" y=\"315.084716\"/>\n     <use style=\"fill:#3f3f3f;stroke:#3f3f3f;stroke-linejoin:miter;\" x=\"292.048437\" xlink:href=\"#mf07c583435\" y=\"140.661909\"/>\n     <use style=\"fill:#3f3f3f;stroke:#3f3f3f;stroke-linejoin:miter;\" x=\"292.048437\" xlink:href=\"#mf07c583435\" y=\"146.234523\"/>\n     <use style=\"fill:#3f3f3f;stroke:#3f3f3f;stroke-linejoin:miter;\" x=\"292.048437\" xlink:href=\"#mf07c583435\" y=\"144.005477\"/>\n     <use style=\"fill:#3f3f3f;stroke:#3f3f3f;stroke-linejoin:miter;\" x=\"292.048437\" xlink:href=\"#mf07c583435\" y=\"144.005477\"/>\n     <use style=\"fill:#3f3f3f;stroke:#3f3f3f;stroke-linejoin:miter;\" x=\"292.048437\" xlink:href=\"#mf07c583435\" y=\"141.21917\"/>\n     <use style=\"fill:#3f3f3f;stroke:#3f3f3f;stroke-linejoin:miter;\" x=\"292.048437\" xlink:href=\"#mf07c583435\" y=\"141.776432\"/>\n     <use style=\"fill:#3f3f3f;stroke:#3f3f3f;stroke-linejoin:miter;\" x=\"292.048437\" xlink:href=\"#mf07c583435\" y=\"141.21917\"/>\n     <use style=\"fill:#3f3f3f;stroke:#3f3f3f;stroke-linejoin:miter;\" x=\"292.048437\" xlink:href=\"#mf07c583435\" y=\"141.21917\"/>\n     <use style=\"fill:#3f3f3f;stroke:#3f3f3f;stroke-linejoin:miter;\" x=\"292.048437\" xlink:href=\"#mf07c583435\" y=\"172.983068\"/>\n     <use style=\"fill:#3f3f3f;stroke:#3f3f3f;stroke-linejoin:miter;\" x=\"292.048437\" xlink:href=\"#mf07c583435\" y=\"138.990125\"/>\n     <use style=\"fill:#3f3f3f;stroke:#3f3f3f;stroke-linejoin:miter;\" x=\"292.048437\" xlink:href=\"#mf07c583435\" y=\"147.906307\"/>\n     <use style=\"fill:#3f3f3f;stroke:#3f3f3f;stroke-linejoin:miter;\" x=\"292.048437\" xlink:href=\"#mf07c583435\" y=\"158.494273\"/>\n     <use style=\"fill:#3f3f3f;stroke:#3f3f3f;stroke-linejoin:miter;\" x=\"292.048437\" xlink:href=\"#mf07c583435\" y=\"147.906307\"/>\n     <use style=\"fill:#3f3f3f;stroke:#3f3f3f;stroke-linejoin:miter;\" x=\"292.048437\" xlink:href=\"#mf07c583435\" y=\"155.707966\"/>\n     <use style=\"fill:#3f3f3f;stroke:#3f3f3f;stroke-linejoin:miter;\" x=\"292.048437\" xlink:href=\"#mf07c583435\" y=\"315.084716\"/>\n     <use style=\"fill:#3f3f3f;stroke:#3f3f3f;stroke-linejoin:miter;\" x=\"292.048437\" xlink:href=\"#mf07c583435\" y=\"136.203818\"/>\n     <use style=\"fill:#3f3f3f;stroke:#3f3f3f;stroke-linejoin:miter;\" x=\"292.048437\" xlink:href=\"#mf07c583435\" y=\"141.21917\"/>\n     <use style=\"fill:#3f3f3f;stroke:#3f3f3f;stroke-linejoin:miter;\" x=\"292.048437\" xlink:href=\"#mf07c583435\" y=\"157.37975\"/>\n     <use style=\"fill:#3f3f3f;stroke:#3f3f3f;stroke-linejoin:miter;\" x=\"292.048437\" xlink:href=\"#mf07c583435\" y=\"157.37975\"/>\n     <use style=\"fill:#3f3f3f;stroke:#3f3f3f;stroke-linejoin:miter;\" x=\"292.048437\" xlink:href=\"#mf07c583435\" y=\"144.005477\"/>\n     <use style=\"fill:#3f3f3f;stroke:#3f3f3f;stroke-linejoin:miter;\" x=\"292.048437\" xlink:href=\"#mf07c583435\" y=\"135.089295\"/>\n     <use style=\"fill:#3f3f3f;stroke:#3f3f3f;stroke-linejoin:miter;\" x=\"292.048437\" xlink:href=\"#mf07c583435\" y=\"163.509625\"/>\n     <use style=\"fill:#3f3f3f;stroke:#3f3f3f;stroke-linejoin:miter;\" x=\"292.048437\" xlink:href=\"#mf07c583435\" y=\"159.608795\"/>\n     <use style=\"fill:#3f3f3f;stroke:#3f3f3f;stroke-linejoin:miter;\" x=\"292.048437\" xlink:href=\"#mf07c583435\" y=\"142.890955\"/>\n     <use style=\"fill:#3f3f3f;stroke:#3f3f3f;stroke-linejoin:miter;\" x=\"292.048437\" xlink:href=\"#mf07c583435\" y=\"147.906307\"/>\n     <use style=\"fill:#3f3f3f;stroke:#3f3f3f;stroke-linejoin:miter;\" x=\"292.048437\" xlink:href=\"#mf07c583435\" y=\"315.084716\"/>\n     <use style=\"fill:#3f3f3f;stroke:#3f3f3f;stroke-linejoin:miter;\" x=\"292.048437\" xlink:href=\"#mf07c583435\" y=\"150.135352\"/>\n     <use style=\"fill:#3f3f3f;stroke:#3f3f3f;stroke-linejoin:miter;\" x=\"292.048437\" xlink:href=\"#mf07c583435\" y=\"136.76108\"/>\n     <use style=\"fill:#3f3f3f;stroke:#3f3f3f;stroke-linejoin:miter;\" x=\"292.048437\" xlink:href=\"#mf07c583435\" y=\"203.632443\"/>\n     <use style=\"fill:#3f3f3f;stroke:#3f3f3f;stroke-linejoin:miter;\" x=\"292.048437\" xlink:href=\"#mf07c583435\" y=\"159.051534\"/>\n     <use style=\"fill:#3f3f3f;stroke:#3f3f3f;stroke-linejoin:miter;\" x=\"292.048437\" xlink:href=\"#mf07c583435\" y=\"141.776432\"/>\n     <use style=\"fill:#3f3f3f;stroke:#3f3f3f;stroke-linejoin:miter;\" x=\"292.048437\" xlink:href=\"#mf07c583435\" y=\"161.837841\"/>\n     <use style=\"fill:#3f3f3f;stroke:#3f3f3f;stroke-linejoin:miter;\" x=\"292.048437\" xlink:href=\"#mf07c583435\" y=\"203.632443\"/>\n     <use style=\"fill:#3f3f3f;stroke:#3f3f3f;stroke-linejoin:miter;\" x=\"292.048437\" xlink:href=\"#mf07c583435\" y=\"136.203818\"/>\n     <use style=\"fill:#3f3f3f;stroke:#3f3f3f;stroke-linejoin:miter;\" x=\"292.048437\" xlink:href=\"#mf07c583435\" y=\"142.890955\"/>\n     <use style=\"fill:#3f3f3f;stroke:#3f3f3f;stroke-linejoin:miter;\" x=\"292.048437\" xlink:href=\"#mf07c583435\" y=\"137.318341\"/>\n     <use style=\"fill:#3f3f3f;stroke:#3f3f3f;stroke-linejoin:miter;\" x=\"292.048437\" xlink:href=\"#mf07c583435\" y=\"140.661909\"/>\n     <use style=\"fill:#3f3f3f;stroke:#3f3f3f;stroke-linejoin:miter;\" x=\"292.048437\" xlink:href=\"#mf07c583435\" y=\"140.661909\"/>\n     <use style=\"fill:#3f3f3f;stroke:#3f3f3f;stroke-linejoin:miter;\" x=\"292.048437\" xlink:href=\"#mf07c583435\" y=\"315.084716\"/>\n     <use style=\"fill:#3f3f3f;stroke:#3f3f3f;stroke-linejoin:miter;\" x=\"292.048437\" xlink:href=\"#mf07c583435\" y=\"175.769375\"/>\n     <use style=\"fill:#3f3f3f;stroke:#3f3f3f;stroke-linejoin:miter;\" x=\"292.048437\" xlink:href=\"#mf07c583435\" y=\"147.906307\"/>\n     <use style=\"fill:#3f3f3f;stroke:#3f3f3f;stroke-linejoin:miter;\" x=\"292.048437\" xlink:href=\"#mf07c583435\" y=\"166.295932\"/>\n     <use style=\"fill:#3f3f3f;stroke:#3f3f3f;stroke-linejoin:miter;\" x=\"292.048437\" xlink:href=\"#mf07c583435\" y=\"315.084716\"/>\n     <use style=\"fill:#3f3f3f;stroke:#3f3f3f;stroke-linejoin:miter;\" x=\"292.048437\" xlink:href=\"#mf07c583435\" y=\"137.318341\"/>\n     <use style=\"fill:#3f3f3f;stroke:#3f3f3f;stroke-linejoin:miter;\" x=\"292.048437\" xlink:href=\"#mf07c583435\" y=\"136.203818\"/>\n     <use style=\"fill:#3f3f3f;stroke:#3f3f3f;stroke-linejoin:miter;\" x=\"292.048437\" xlink:href=\"#mf07c583435\" y=\"157.937011\"/>\n     <use style=\"fill:#3f3f3f;stroke:#3f3f3f;stroke-linejoin:miter;\" x=\"292.048437\" xlink:href=\"#mf07c583435\" y=\"137.875602\"/>\n     <use style=\"fill:#3f3f3f;stroke:#3f3f3f;stroke-linejoin:miter;\" x=\"292.048437\" xlink:href=\"#mf07c583435\" y=\"138.432864\"/>\n     <use style=\"fill:#3f3f3f;stroke:#3f3f3f;stroke-linejoin:miter;\" x=\"292.048437\" xlink:href=\"#mf07c583435\" y=\"203.632443\"/>\n     <use style=\"fill:#3f3f3f;stroke:#3f3f3f;stroke-linejoin:miter;\" x=\"292.048437\" xlink:href=\"#mf07c583435\" y=\"315.084716\"/>\n     <use style=\"fill:#3f3f3f;stroke:#3f3f3f;stroke-linejoin:miter;\" x=\"292.048437\" xlink:href=\"#mf07c583435\" y=\"315.084716\"/>\n     <use style=\"fill:#3f3f3f;stroke:#3f3f3f;stroke-linejoin:miter;\" x=\"292.048437\" xlink:href=\"#mf07c583435\" y=\"169.082239\"/>\n     <use style=\"fill:#3f3f3f;stroke:#3f3f3f;stroke-linejoin:miter;\" x=\"292.048437\" xlink:href=\"#mf07c583435\" y=\"147.906307\"/>\n     <use style=\"fill:#3f3f3f;stroke:#3f3f3f;stroke-linejoin:miter;\" x=\"292.048437\" xlink:href=\"#mf07c583435\" y=\"141.21917\"/>\n     <use style=\"fill:#3f3f3f;stroke:#3f3f3f;stroke-linejoin:miter;\" x=\"292.048437\" xlink:href=\"#mf07c583435\" y=\"157.37975\"/>\n     <use style=\"fill:#3f3f3f;stroke:#3f3f3f;stroke-linejoin:miter;\" x=\"292.048437\" xlink:href=\"#mf07c583435\" y=\"315.084716\"/>\n     <use style=\"fill:#3f3f3f;stroke:#3f3f3f;stroke-linejoin:miter;\" x=\"292.048437\" xlink:href=\"#mf07c583435\" y=\"154.593443\"/>\n     <use style=\"fill:#3f3f3f;stroke:#3f3f3f;stroke-linejoin:miter;\" x=\"292.048437\" xlink:href=\"#mf07c583435\" y=\"315.084716\"/>\n     <use style=\"fill:#3f3f3f;stroke:#3f3f3f;stroke-linejoin:miter;\" x=\"292.048437\" xlink:href=\"#mf07c583435\" y=\"139.547386\"/>\n     <use style=\"fill:#3f3f3f;stroke:#3f3f3f;stroke-linejoin:miter;\" x=\"292.048437\" xlink:href=\"#mf07c583435\" y=\"147.906307\"/>\n     <use style=\"fill:#3f3f3f;stroke:#3f3f3f;stroke-linejoin:miter;\" x=\"292.048437\" xlink:href=\"#mf07c583435\" y=\"136.203818\"/>\n     <use style=\"fill:#3f3f3f;stroke:#3f3f3f;stroke-linejoin:miter;\" x=\"292.048437\" xlink:href=\"#mf07c583435\" y=\"140.104648\"/>\n     <use style=\"fill:#3f3f3f;stroke:#3f3f3f;stroke-linejoin:miter;\" x=\"292.048437\" xlink:href=\"#mf07c583435\" y=\"315.084716\"/>\n     <use style=\"fill:#3f3f3f;stroke:#3f3f3f;stroke-linejoin:miter;\" x=\"292.048437\" xlink:href=\"#mf07c583435\" y=\"143.448216\"/>\n     <use style=\"fill:#3f3f3f;stroke:#3f3f3f;stroke-linejoin:miter;\" x=\"292.048437\" xlink:href=\"#mf07c583435\" y=\"315.084716\"/>\n     <use style=\"fill:#3f3f3f;stroke:#3f3f3f;stroke-linejoin:miter;\" x=\"292.048437\" xlink:href=\"#mf07c583435\" y=\"136.203818\"/>\n     <use style=\"fill:#3f3f3f;stroke:#3f3f3f;stroke-linejoin:miter;\" x=\"292.048437\" xlink:href=\"#mf07c583435\" y=\"315.084716\"/>\n     <use style=\"fill:#3f3f3f;stroke:#3f3f3f;stroke-linejoin:miter;\" x=\"292.048437\" xlink:href=\"#mf07c583435\" y=\"135.089295\"/>\n     <use style=\"fill:#3f3f3f;stroke:#3f3f3f;stroke-linejoin:miter;\" x=\"292.048437\" xlink:href=\"#mf07c583435\" y=\"222.022068\"/>\n     <use style=\"fill:#3f3f3f;stroke:#3f3f3f;stroke-linejoin:miter;\" x=\"292.048437\" xlink:href=\"#mf07c583435\" y=\"155.707966\"/>\n     <use style=\"fill:#3f3f3f;stroke:#3f3f3f;stroke-linejoin:miter;\" x=\"292.048437\" xlink:href=\"#mf07c583435\" y=\"147.906307\"/>\n     <use style=\"fill:#3f3f3f;stroke:#3f3f3f;stroke-linejoin:miter;\" x=\"292.048437\" xlink:href=\"#mf07c583435\" y=\"144.562739\"/>\n     <use style=\"fill:#3f3f3f;stroke:#3f3f3f;stroke-linejoin:miter;\" x=\"292.048437\" xlink:href=\"#mf07c583435\" y=\"137.318341\"/>\n     <use style=\"fill:#3f3f3f;stroke:#3f3f3f;stroke-linejoin:miter;\" x=\"292.048437\" xlink:href=\"#mf07c583435\" y=\"203.632443\"/>\n     <use style=\"fill:#3f3f3f;stroke:#3f3f3f;stroke-linejoin:miter;\" x=\"292.048437\" xlink:href=\"#mf07c583435\" y=\"161.837841\"/>\n     <use style=\"fill:#3f3f3f;stroke:#3f3f3f;stroke-linejoin:miter;\" x=\"292.048437\" xlink:href=\"#mf07c583435\" y=\"151.249875\"/>\n     <use style=\"fill:#3f3f3f;stroke:#3f3f3f;stroke-linejoin:miter;\" x=\"292.048437\" xlink:href=\"#mf07c583435\" y=\"147.906307\"/>\n     <use style=\"fill:#3f3f3f;stroke:#3f3f3f;stroke-linejoin:miter;\" x=\"292.048437\" xlink:href=\"#mf07c583435\" y=\"141.776432\"/>\n     <use style=\"fill:#3f3f3f;stroke:#3f3f3f;stroke-linejoin:miter;\" x=\"292.048437\" xlink:href=\"#mf07c583435\" y=\"154.036182\"/>\n     <use style=\"fill:#3f3f3f;stroke:#3f3f3f;stroke-linejoin:miter;\" x=\"292.048437\" xlink:href=\"#mf07c583435\" y=\"145.677261\"/>\n     <use style=\"fill:#3f3f3f;stroke:#3f3f3f;stroke-linejoin:miter;\" x=\"292.048437\" xlink:href=\"#mf07c583435\" y=\"140.661909\"/>\n     <use style=\"fill:#3f3f3f;stroke:#3f3f3f;stroke-linejoin:miter;\" x=\"292.048437\" xlink:href=\"#mf07c583435\" y=\"147.906307\"/>\n     <use style=\"fill:#3f3f3f;stroke:#3f3f3f;stroke-linejoin:miter;\" x=\"292.048437\" xlink:href=\"#mf07c583435\" y=\"136.203818\"/>\n     <use style=\"fill:#3f3f3f;stroke:#3f3f3f;stroke-linejoin:miter;\" x=\"292.048437\" xlink:href=\"#mf07c583435\" y=\"181.341989\"/>\n     <use style=\"fill:#3f3f3f;stroke:#3f3f3f;stroke-linejoin:miter;\" x=\"292.048437\" xlink:href=\"#mf07c583435\" y=\"169.082239\"/>\n     <use style=\"fill:#3f3f3f;stroke:#3f3f3f;stroke-linejoin:miter;\" x=\"292.048437\" xlink:href=\"#mf07c583435\" y=\"169.6395\"/>\n     <use style=\"fill:#3f3f3f;stroke:#3f3f3f;stroke-linejoin:miter;\" x=\"292.048437\" xlink:href=\"#mf07c583435\" y=\"160.723318\"/>\n     <use style=\"fill:#3f3f3f;stroke:#3f3f3f;stroke-linejoin:miter;\" x=\"292.048437\" xlink:href=\"#mf07c583435\" y=\"141.21917\"/>\n     <use style=\"fill:#3f3f3f;stroke:#3f3f3f;stroke-linejoin:miter;\" x=\"292.048437\" xlink:href=\"#mf07c583435\" y=\"140.104648\"/>\n     <use style=\"fill:#3f3f3f;stroke:#3f3f3f;stroke-linejoin:miter;\" x=\"292.048437\" xlink:href=\"#mf07c583435\" y=\"149.02083\"/>\n     <use style=\"fill:#3f3f3f;stroke:#3f3f3f;stroke-linejoin:miter;\" x=\"292.048437\" xlink:href=\"#mf07c583435\" y=\"155.707966\"/>\n     <use style=\"fill:#3f3f3f;stroke:#3f3f3f;stroke-linejoin:miter;\" x=\"292.048437\" xlink:href=\"#mf07c583435\" y=\"138.990125\"/>\n     <use style=\"fill:#3f3f3f;stroke:#3f3f3f;stroke-linejoin:miter;\" x=\"292.048437\" xlink:href=\"#mf07c583435\" y=\"147.906307\"/>\n     <use style=\"fill:#3f3f3f;stroke:#3f3f3f;stroke-linejoin:miter;\" x=\"292.048437\" xlink:href=\"#mf07c583435\" y=\"141.776432\"/>\n     <use style=\"fill:#3f3f3f;stroke:#3f3f3f;stroke-linejoin:miter;\" x=\"292.048437\" xlink:href=\"#mf07c583435\" y=\"168.524977\"/>\n     <use style=\"fill:#3f3f3f;stroke:#3f3f3f;stroke-linejoin:miter;\" x=\"292.048437\" xlink:href=\"#mf07c583435\" y=\"147.906307\"/>\n     <use style=\"fill:#3f3f3f;stroke:#3f3f3f;stroke-linejoin:miter;\" x=\"292.048437\" xlink:href=\"#mf07c583435\" y=\"315.084716\"/>\n     <use style=\"fill:#3f3f3f;stroke:#3f3f3f;stroke-linejoin:miter;\" x=\"292.048437\" xlink:href=\"#mf07c583435\" y=\"135.089295\"/>\n     <use style=\"fill:#3f3f3f;stroke:#3f3f3f;stroke-linejoin:miter;\" x=\"292.048437\" xlink:href=\"#mf07c583435\" y=\"315.084716\"/>\n     <use style=\"fill:#3f3f3f;stroke:#3f3f3f;stroke-linejoin:miter;\" x=\"292.048437\" xlink:href=\"#mf07c583435\" y=\"142.890955\"/>\n     <use style=\"fill:#3f3f3f;stroke:#3f3f3f;stroke-linejoin:miter;\" x=\"292.048437\" xlink:href=\"#mf07c583435\" y=\"259.35858\"/>\n     <use style=\"fill:#3f3f3f;stroke:#3f3f3f;stroke-linejoin:miter;\" x=\"292.048437\" xlink:href=\"#mf07c583435\" y=\"147.906307\"/>\n     <use style=\"fill:#3f3f3f;stroke:#3f3f3f;stroke-linejoin:miter;\" x=\"292.048437\" xlink:href=\"#mf07c583435\" y=\"144.005477\"/>\n     <use style=\"fill:#3f3f3f;stroke:#3f3f3f;stroke-linejoin:miter;\" x=\"292.048437\" xlink:href=\"#mf07c583435\" y=\"135.646557\"/>\n     <use style=\"fill:#3f3f3f;stroke:#3f3f3f;stroke-linejoin:miter;\" x=\"292.048437\" xlink:href=\"#mf07c583435\" y=\"135.089295\"/>\n     <use style=\"fill:#3f3f3f;stroke:#3f3f3f;stroke-linejoin:miter;\" x=\"292.048437\" xlink:href=\"#mf07c583435\" y=\"141.21917\"/>\n     <use style=\"fill:#3f3f3f;stroke:#3f3f3f;stroke-linejoin:miter;\" x=\"292.048437\" xlink:href=\"#mf07c583435\" y=\"157.937011\"/>\n     <use style=\"fill:#3f3f3f;stroke:#3f3f3f;stroke-linejoin:miter;\" x=\"292.048437\" xlink:href=\"#mf07c583435\" y=\"136.203818\"/>\n     <use style=\"fill:#3f3f3f;stroke:#3f3f3f;stroke-linejoin:miter;\" x=\"292.048437\" xlink:href=\"#mf07c583435\" y=\"147.906307\"/>\n     <use style=\"fill:#3f3f3f;stroke:#3f3f3f;stroke-linejoin:miter;\" x=\"292.048437\" xlink:href=\"#mf07c583435\" y=\"137.875602\"/>\n     <use style=\"fill:#3f3f3f;stroke:#3f3f3f;stroke-linejoin:miter;\" x=\"292.048437\" xlink:href=\"#mf07c583435\" y=\"166.295932\"/>\n     <use style=\"fill:#3f3f3f;stroke:#3f3f3f;stroke-linejoin:miter;\" x=\"292.048437\" xlink:href=\"#mf07c583435\" y=\"315.084716\"/>\n     <use style=\"fill:#3f3f3f;stroke:#3f3f3f;stroke-linejoin:miter;\" x=\"292.048437\" xlink:href=\"#mf07c583435\" y=\"152.364398\"/>\n     <use style=\"fill:#3f3f3f;stroke:#3f3f3f;stroke-linejoin:miter;\" x=\"292.048437\" xlink:href=\"#mf07c583435\" y=\"141.776432\"/>\n     <use style=\"fill:#3f3f3f;stroke:#3f3f3f;stroke-linejoin:miter;\" x=\"292.048437\" xlink:href=\"#mf07c583435\" y=\"151.807136\"/>\n     <use style=\"fill:#3f3f3f;stroke:#3f3f3f;stroke-linejoin:miter;\" x=\"292.048437\" xlink:href=\"#mf07c583435\" y=\"161.837841\"/>\n     <use style=\"fill:#3f3f3f;stroke:#3f3f3f;stroke-linejoin:miter;\" x=\"292.048437\" xlink:href=\"#mf07c583435\" y=\"145.677261\"/>\n     <use style=\"fill:#3f3f3f;stroke:#3f3f3f;stroke-linejoin:miter;\" x=\"292.048437\" xlink:href=\"#mf07c583435\" y=\"141.21917\"/>\n     <use style=\"fill:#3f3f3f;stroke:#3f3f3f;stroke-linejoin:miter;\" x=\"292.048437\" xlink:href=\"#mf07c583435\" y=\"135.089295\"/>\n     <use style=\"fill:#3f3f3f;stroke:#3f3f3f;stroke-linejoin:miter;\" x=\"292.048437\" xlink:href=\"#mf07c583435\" y=\"147.906307\"/>\n     <use style=\"fill:#3f3f3f;stroke:#3f3f3f;stroke-linejoin:miter;\" x=\"292.048437\" xlink:href=\"#mf07c583435\" y=\"135.646557\"/>\n     <use style=\"fill:#3f3f3f;stroke:#3f3f3f;stroke-linejoin:miter;\" x=\"292.048437\" xlink:href=\"#mf07c583435\" y=\"139.547386\"/>\n     <use style=\"fill:#3f3f3f;stroke:#3f3f3f;stroke-linejoin:miter;\" x=\"292.048437\" xlink:href=\"#mf07c583435\" y=\"139.547386\"/>\n     <use style=\"fill:#3f3f3f;stroke:#3f3f3f;stroke-linejoin:miter;\" x=\"292.048437\" xlink:href=\"#mf07c583435\" y=\"141.21917\"/>\n     <use style=\"fill:#3f3f3f;stroke:#3f3f3f;stroke-linejoin:miter;\" x=\"292.048437\" xlink:href=\"#mf07c583435\" y=\"141.21917\"/>\n     <use style=\"fill:#3f3f3f;stroke:#3f3f3f;stroke-linejoin:miter;\" x=\"292.048437\" xlink:href=\"#mf07c583435\" y=\"141.776432\"/>\n     <use style=\"fill:#3f3f3f;stroke:#3f3f3f;stroke-linejoin:miter;\" x=\"292.048437\" xlink:href=\"#mf07c583435\" y=\"141.21917\"/>\n     <use style=\"fill:#3f3f3f;stroke:#3f3f3f;stroke-linejoin:miter;\" x=\"292.048437\" xlink:href=\"#mf07c583435\" y=\"147.906307\"/>\n     <use style=\"fill:#3f3f3f;stroke:#3f3f3f;stroke-linejoin:miter;\" x=\"292.048437\" xlink:href=\"#mf07c583435\" y=\"315.084716\"/>\n     <use style=\"fill:#3f3f3f;stroke:#3f3f3f;stroke-linejoin:miter;\" x=\"292.048437\" xlink:href=\"#mf07c583435\" y=\"157.37975\"/>\n     <use style=\"fill:#3f3f3f;stroke:#3f3f3f;stroke-linejoin:miter;\" x=\"292.048437\" xlink:href=\"#mf07c583435\" y=\"157.37975\"/>\n     <use style=\"fill:#3f3f3f;stroke:#3f3f3f;stroke-linejoin:miter;\" x=\"292.048437\" xlink:href=\"#mf07c583435\" y=\"146.791784\"/>\n     <use style=\"fill:#3f3f3f;stroke:#3f3f3f;stroke-linejoin:miter;\" x=\"292.048437\" xlink:href=\"#mf07c583435\" y=\"135.646557\"/>\n     <use style=\"fill:#3f3f3f;stroke:#3f3f3f;stroke-linejoin:miter;\" x=\"292.048437\" xlink:href=\"#mf07c583435\" y=\"135.089295\"/>\n     <use style=\"fill:#3f3f3f;stroke:#3f3f3f;stroke-linejoin:miter;\" x=\"292.048437\" xlink:href=\"#mf07c583435\" y=\"140.104648\"/>\n     <use style=\"fill:#3f3f3f;stroke:#3f3f3f;stroke-linejoin:miter;\" x=\"292.048437\" xlink:href=\"#mf07c583435\" y=\"136.76108\"/>\n     <use style=\"fill:#3f3f3f;stroke:#3f3f3f;stroke-linejoin:miter;\" x=\"292.048437\" xlink:href=\"#mf07c583435\" y=\"315.084716\"/>\n     <use style=\"fill:#3f3f3f;stroke:#3f3f3f;stroke-linejoin:miter;\" x=\"292.048437\" xlink:href=\"#mf07c583435\" y=\"136.203818\"/>\n     <use style=\"fill:#3f3f3f;stroke:#3f3f3f;stroke-linejoin:miter;\" x=\"292.048437\" xlink:href=\"#mf07c583435\" y=\"136.76108\"/>\n     <use style=\"fill:#3f3f3f;stroke:#3f3f3f;stroke-linejoin:miter;\" x=\"292.048437\" xlink:href=\"#mf07c583435\" y=\"138.990125\"/>\n     <use style=\"fill:#3f3f3f;stroke:#3f3f3f;stroke-linejoin:miter;\" x=\"292.048437\" xlink:href=\"#mf07c583435\" y=\"138.990125\"/>\n     <use style=\"fill:#3f3f3f;stroke:#3f3f3f;stroke-linejoin:miter;\" x=\"292.048437\" xlink:href=\"#mf07c583435\" y=\"315.084716\"/>\n     <use style=\"fill:#3f3f3f;stroke:#3f3f3f;stroke-linejoin:miter;\" x=\"292.048437\" xlink:href=\"#mf07c583435\" y=\"140.104648\"/>\n     <use style=\"fill:#3f3f3f;stroke:#3f3f3f;stroke-linejoin:miter;\" x=\"292.048437\" xlink:href=\"#mf07c583435\" y=\"185.242818\"/>\n     <use style=\"fill:#3f3f3f;stroke:#3f3f3f;stroke-linejoin:miter;\" x=\"292.048437\" xlink:href=\"#mf07c583435\" y=\"48.713784\"/>\n     <use style=\"fill:#3f3f3f;stroke:#3f3f3f;stroke-linejoin:miter;\" x=\"292.048437\" xlink:href=\"#mf07c583435\" y=\"51.500091\"/>\n     <use style=\"fill:#3f3f3f;stroke:#3f3f3f;stroke-linejoin:miter;\" x=\"292.048437\" xlink:href=\"#mf07c583435\" y=\"53.171875\"/>\n     <use style=\"fill:#3f3f3f;stroke:#3f3f3f;stroke-linejoin:miter;\" x=\"292.048437\" xlink:href=\"#mf07c583435\" y=\"36.454034\"/>\n     <use style=\"fill:#3f3f3f;stroke:#3f3f3f;stroke-linejoin:miter;\" x=\"292.048437\" xlink:href=\"#mf07c583435\" y=\"36.454034\"/>\n     <use style=\"fill:#3f3f3f;stroke:#3f3f3f;stroke-linejoin:miter;\" x=\"292.048437\" xlink:href=\"#mf07c583435\" y=\"36.454034\"/>\n     <use style=\"fill:#3f3f3f;stroke:#3f3f3f;stroke-linejoin:miter;\" x=\"292.048437\" xlink:href=\"#mf07c583435\" y=\"36.454034\"/>\n     <use style=\"fill:#3f3f3f;stroke:#3f3f3f;stroke-linejoin:miter;\" x=\"292.048437\" xlink:href=\"#mf07c583435\" y=\"51.500091\"/>\n     <use style=\"fill:#3f3f3f;stroke:#3f3f3f;stroke-linejoin:miter;\" x=\"292.048437\" xlink:href=\"#mf07c583435\" y=\"36.454034\"/>\n     <use style=\"fill:#3f3f3f;stroke:#3f3f3f;stroke-linejoin:miter;\" x=\"292.048437\" xlink:href=\"#mf07c583435\" y=\"41.469386\"/>\n     <use style=\"fill:#3f3f3f;stroke:#3f3f3f;stroke-linejoin:miter;\" x=\"292.048437\" xlink:href=\"#mf07c583435\" y=\"50.385568\"/>\n     <use style=\"fill:#3f3f3f;stroke:#3f3f3f;stroke-linejoin:miter;\" x=\"292.048437\" xlink:href=\"#mf07c583435\" y=\"36.454034\"/>\n     <use style=\"fill:#3f3f3f;stroke:#3f3f3f;stroke-linejoin:miter;\" x=\"292.048437\" xlink:href=\"#mf07c583435\" y=\"52.614614\"/>\n     <use style=\"fill:#3f3f3f;stroke:#3f3f3f;stroke-linejoin:miter;\" x=\"292.048437\" xlink:href=\"#mf07c583435\" y=\"47.599261\"/>\n     <use style=\"fill:#3f3f3f;stroke:#3f3f3f;stroke-linejoin:miter;\" x=\"292.048437\" xlink:href=\"#mf07c583435\" y=\"36.454034\"/>\n     <use style=\"fill:#3f3f3f;stroke:#3f3f3f;stroke-linejoin:miter;\" x=\"292.048437\" xlink:href=\"#mf07c583435\" y=\"36.454034\"/>\n     <use style=\"fill:#3f3f3f;stroke:#3f3f3f;stroke-linejoin:miter;\" x=\"292.048437\" xlink:href=\"#mf07c583435\" y=\"53.171875\"/>\n     <use style=\"fill:#3f3f3f;stroke:#3f3f3f;stroke-linejoin:miter;\" x=\"292.048437\" xlink:href=\"#mf07c583435\" y=\"50.385568\"/>\n     <use style=\"fill:#3f3f3f;stroke:#3f3f3f;stroke-linejoin:miter;\" x=\"292.048437\" xlink:href=\"#mf07c583435\" y=\"36.454034\"/>\n     <use style=\"fill:#3f3f3f;stroke:#3f3f3f;stroke-linejoin:miter;\" x=\"292.048437\" xlink:href=\"#mf07c583435\" y=\"36.454034\"/>\n     <use style=\"fill:#3f3f3f;stroke:#3f3f3f;stroke-linejoin:miter;\" x=\"292.048437\" xlink:href=\"#mf07c583435\" y=\"44.255693\"/>\n     <use style=\"fill:#3f3f3f;stroke:#3f3f3f;stroke-linejoin:miter;\" x=\"292.048437\" xlink:href=\"#mf07c583435\" y=\"36.454034\"/>\n     <use style=\"fill:#3f3f3f;stroke:#3f3f3f;stroke-linejoin:miter;\" x=\"292.048437\" xlink:href=\"#mf07c583435\" y=\"36.454034\"/>\n     <use style=\"fill:#3f3f3f;stroke:#3f3f3f;stroke-linejoin:miter;\" x=\"292.048437\" xlink:href=\"#mf07c583435\" y=\"53.171875\"/>\n     <use style=\"fill:#3f3f3f;stroke:#3f3f3f;stroke-linejoin:miter;\" x=\"292.048437\" xlink:href=\"#mf07c583435\" y=\"46.484739\"/>\n     <use style=\"fill:#3f3f3f;stroke:#3f3f3f;stroke-linejoin:miter;\" x=\"292.048437\" xlink:href=\"#mf07c583435\" y=\"49.828307\"/>\n     <use style=\"fill:#3f3f3f;stroke:#3f3f3f;stroke-linejoin:miter;\" x=\"292.048437\" xlink:href=\"#mf07c583435\" y=\"52.057352\"/>\n     <use style=\"fill:#3f3f3f;stroke:#3f3f3f;stroke-linejoin:miter;\" x=\"292.048437\" xlink:href=\"#mf07c583435\" y=\"53.729136\"/>\n     <use style=\"fill:#3f3f3f;stroke:#3f3f3f;stroke-linejoin:miter;\" x=\"292.048437\" xlink:href=\"#mf07c583435\" y=\"52.614614\"/>\n     <use style=\"fill:#3f3f3f;stroke:#3f3f3f;stroke-linejoin:miter;\" x=\"292.048437\" xlink:href=\"#mf07c583435\" y=\"36.454034\"/>\n     <use style=\"fill:#3f3f3f;stroke:#3f3f3f;stroke-linejoin:miter;\" x=\"292.048437\" xlink:href=\"#mf07c583435\" y=\"48.713784\"/>\n     <use style=\"fill:#3f3f3f;stroke:#3f3f3f;stroke-linejoin:miter;\" x=\"292.048437\" xlink:href=\"#mf07c583435\" y=\"53.729136\"/>\n     <use style=\"fill:#3f3f3f;stroke:#3f3f3f;stroke-linejoin:miter;\" x=\"292.048437\" xlink:href=\"#mf07c583435\" y=\"53.729136\"/>\n     <use style=\"fill:#3f3f3f;stroke:#3f3f3f;stroke-linejoin:miter;\" x=\"292.048437\" xlink:href=\"#mf07c583435\" y=\"53.729136\"/>\n     <use style=\"fill:#3f3f3f;stroke:#3f3f3f;stroke-linejoin:miter;\" x=\"292.048437\" xlink:href=\"#mf07c583435\" y=\"36.454034\"/>\n     <use style=\"fill:#3f3f3f;stroke:#3f3f3f;stroke-linejoin:miter;\" x=\"292.048437\" xlink:href=\"#mf07c583435\" y=\"52.057352\"/>\n     <use style=\"fill:#3f3f3f;stroke:#3f3f3f;stroke-linejoin:miter;\" x=\"292.048437\" xlink:href=\"#mf07c583435\" y=\"52.057352\"/>\n     <use style=\"fill:#3f3f3f;stroke:#3f3f3f;stroke-linejoin:miter;\" x=\"292.048437\" xlink:href=\"#mf07c583435\" y=\"36.454034\"/>\n     <use style=\"fill:#3f3f3f;stroke:#3f3f3f;stroke-linejoin:miter;\" x=\"292.048437\" xlink:href=\"#mf07c583435\" y=\"36.454034\"/>\n     <use style=\"fill:#3f3f3f;stroke:#3f3f3f;stroke-linejoin:miter;\" x=\"292.048437\" xlink:href=\"#mf07c583435\" y=\"43.14117\"/>\n     <use style=\"fill:#3f3f3f;stroke:#3f3f3f;stroke-linejoin:miter;\" x=\"292.048437\" xlink:href=\"#mf07c583435\" y=\"36.454034\"/>\n     <use style=\"fill:#3f3f3f;stroke:#3f3f3f;stroke-linejoin:miter;\" x=\"292.048437\" xlink:href=\"#mf07c583435\" y=\"45.927477\"/>\n     <use style=\"fill:#3f3f3f;stroke:#3f3f3f;stroke-linejoin:miter;\" x=\"292.048437\" xlink:href=\"#mf07c583435\" y=\"36.454034\"/>\n     <use style=\"fill:#3f3f3f;stroke:#3f3f3f;stroke-linejoin:miter;\" x=\"292.048437\" xlink:href=\"#mf07c583435\" y=\"36.454034\"/>\n     <use style=\"fill:#3f3f3f;stroke:#3f3f3f;stroke-linejoin:miter;\" x=\"292.048437\" xlink:href=\"#mf07c583435\" y=\"36.454034\"/>\n     <use style=\"fill:#3f3f3f;stroke:#3f3f3f;stroke-linejoin:miter;\" x=\"292.048437\" xlink:href=\"#mf07c583435\" y=\"53.171875\"/>\n    </g>\n   </g>\n   <g id=\"line2d_14\">\n    <path clip-path=\"url(#p9ac7e68b9d)\" d=\"M 807.107812 102.210875 \nL 807.107812 123.386807 \n\" style=\"fill:none;stroke:#3f3f3f;stroke-linecap:square;stroke-width:1.5;\"/>\n   </g>\n   <g id=\"line2d_15\">\n    <path clip-path=\"url(#p9ac7e68b9d)\" d=\"M 807.107812 82.149466 \nL 807.107812 60.973534 \n\" style=\"fill:none;stroke:#3f3f3f;stroke-linecap:square;stroke-width:1.5;\"/>\n   </g>\n   <g id=\"line2d_16\">\n    <path clip-path=\"url(#p9ac7e68b9d)\" d=\"M 704.095937 123.386807 \nL 910.119687 123.386807 \n\" style=\"fill:none;stroke:#3f3f3f;stroke-linecap:square;stroke-width:1.5;\"/>\n   </g>\n   <g id=\"line2d_17\">\n    <path clip-path=\"url(#p9ac7e68b9d)\" d=\"M 704.095937 60.973534 \nL 910.119687 60.973534 \n\" style=\"fill:none;stroke:#3f3f3f;stroke-linecap:square;stroke-width:1.5;\"/>\n   </g>\n   <g id=\"line2d_18\">\n    <g clip-path=\"url(#p9ac7e68b9d)\">\n     <use style=\"fill:#3f3f3f;stroke:#3f3f3f;stroke-linejoin:miter;\" x=\"807.107812\" xlink:href=\"#mf07c583435\" y=\"150.135352\"/>\n     <use style=\"fill:#3f3f3f;stroke:#3f3f3f;stroke-linejoin:miter;\" x=\"807.107812\" xlink:href=\"#mf07c583435\" y=\"36.454034\"/>\n     <use style=\"fill:#3f3f3f;stroke:#3f3f3f;stroke-linejoin:miter;\" x=\"807.107812\" xlink:href=\"#mf07c583435\" y=\"36.454034\"/>\n    </g>\n   </g>\n   <g id=\"line2d_19\">\n    <path clip-path=\"url(#p9ac7e68b9d)\" d=\"M 86.024687 94.409216 \nL 498.072187 94.409216 \n\" style=\"fill:none;stroke:#3f3f3f;stroke-linecap:square;stroke-width:1.5;\"/>\n   </g>\n   <g id=\"line2d_20\">\n    <path clip-path=\"url(#p9ac7e68b9d)\" d=\"M 601.084062 92.18017 \nL 1013.131562 92.18017 \n\" style=\"fill:none;stroke:#3f3f3f;stroke-linecap:square;stroke-width:1.5;\"/>\n   </g>\n   <g id=\"patch_5\">\n    <path d=\"M 34.51875 329.01625 \nL 34.51875 22.5225 \n\" style=\"fill:none;stroke:#000000;stroke-linecap:square;stroke-linejoin:miter;stroke-width:0.8;\"/>\n   </g>\n   <g id=\"patch_6\">\n    <path d=\"M 34.51875 329.01625 \nL 1064.6375 329.01625 \n\" style=\"fill:none;stroke:#000000;stroke-linecap:square;stroke-linejoin:miter;stroke-width:0.8;\"/>\n   </g>\n   <g id=\"text_11\">\n    <!-- Средняя оценка для бумажных и аудио книг -->\n    <defs>\n     <path d=\"M 64.40625 67.28125 \nL 64.40625 56.890625 \nQ 59.421875 61.53125 53.78125 63.8125 \nQ 48.140625 66.109375 41.796875 66.109375 \nQ 29.296875 66.109375 22.65625 58.46875 \nQ 16.015625 50.828125 16.015625 36.375 \nQ 16.015625 21.96875 22.65625 14.328125 \nQ 29.296875 6.6875 41.796875 6.6875 \nQ 48.140625 6.6875 53.78125 8.984375 \nQ 59.421875 11.28125 64.40625 15.921875 \nL 64.40625 5.609375 \nQ 59.234375 2.09375 53.4375 0.328125 \nQ 47.65625 -1.421875 41.21875 -1.421875 \nQ 24.65625 -1.421875 15.125 8.703125 \nQ 5.609375 18.84375 5.609375 36.375 \nQ 5.609375 53.953125 15.125 64.078125 \nQ 24.65625 74.21875 41.21875 74.21875 \nQ 47.75 74.21875 53.53125 72.484375 \nQ 59.328125 70.75 64.40625 67.28125 \nz\n\" id=\"DejaVuSans-1057\"/>\n     <path d=\"M 18.109375 8.203125 \nL 18.109375 -20.796875 \nL 9.078125 -20.796875 \nL 9.078125 54.6875 \nL 18.109375 54.6875 \nL 18.109375 46.390625 \nQ 20.953125 51.265625 25.265625 53.625 \nQ 29.59375 56 35.59375 56 \nQ 45.5625 56 51.78125 48.09375 \nQ 58.015625 40.1875 58.015625 27.296875 \nQ 58.015625 14.40625 51.78125 6.484375 \nQ 45.5625 -1.421875 35.59375 -1.421875 \nQ 29.59375 -1.421875 25.265625 0.953125 \nQ 20.953125 3.328125 18.109375 8.203125 \nz\nM 48.6875 27.296875 \nQ 48.6875 37.203125 44.609375 42.84375 \nQ 40.53125 48.484375 33.40625 48.484375 \nQ 26.265625 48.484375 22.1875 42.84375 \nQ 18.109375 37.203125 18.109375 27.296875 \nQ 18.109375 17.390625 22.1875 11.75 \nQ 26.265625 6.109375 33.40625 6.109375 \nQ 40.53125 6.109375 44.609375 11.75 \nQ 48.6875 17.390625 48.6875 27.296875 \nz\n\" id=\"DejaVuSans-1088\"/>\n     <path d=\"M 56.203125 29.59375 \nL 56.203125 25.203125 \nL 14.890625 25.203125 \nQ 15.484375 15.921875 20.484375 11.0625 \nQ 25.484375 6.203125 34.421875 6.203125 \nQ 39.59375 6.203125 44.453125 7.46875 \nQ 49.3125 8.734375 54.109375 11.28125 \nL 54.109375 2.78125 \nQ 49.265625 0.734375 44.1875 -0.34375 \nQ 39.109375 -1.421875 33.890625 -1.421875 \nQ 20.796875 -1.421875 13.15625 6.1875 \nQ 5.515625 13.8125 5.515625 26.8125 \nQ 5.515625 40.234375 12.765625 48.109375 \nQ 20.015625 56 32.328125 56 \nQ 43.359375 56 49.78125 48.890625 \nQ 56.203125 41.796875 56.203125 29.59375 \nz\nM 47.21875 32.234375 \nQ 47.125 39.59375 43.09375 43.984375 \nQ 39.0625 48.390625 32.421875 48.390625 \nQ 24.90625 48.390625 20.390625 44.140625 \nQ 15.875 39.890625 15.1875 32.171875 \nz\n\" id=\"DejaVuSans-1077\"/>\n     <path d=\"M 21.625 7.171875 \nL 47.703125 7.171875 \nL 47.703125 47.515625 \nL 28.8125 47.515625 \nL 28.8125 40.671875 \nQ 28.8125 20.5625 23.046875 9.8125 \nz\nM 8.59375 7.171875 \nQ 13.03125 9.125 14.984375 13.28125 \nQ 19.78125 23.578125 19.78125 44.34375 \nL 19.78125 54.6875 \nL 56.734375 54.6875 \nL 56.734375 7.171875 \nL 63.921875 7.171875 \nL 63.921875 -13.8125 \nL 56.734375 -13.8125 \nL 56.734375 0 \nL 12.40625 0 \nL 12.40625 -13.8125 \nL 5.21875 -13.8125 \nL 5.21875 7.171875 \nz\n\" id=\"DejaVuSans-1076\"/>\n     <path d=\"M 9.078125 54.6875 \nL 18.109375 54.6875 \nL 18.109375 32.375 \nL 47.265625 32.375 \nL 47.265625 54.6875 \nL 56.296875 54.6875 \nL 56.296875 0 \nL 47.265625 0 \nL 47.265625 25.203125 \nL 18.109375 25.203125 \nL 18.109375 0 \nL 9.078125 0 \nz\n\" id=\"DejaVuSans-1085\"/>\n     <path d=\"M 18.453125 38.921875 \nQ 18.453125 34.859375 21.578125 32.5625 \nQ 24.703125 30.28125 30.515625 30.28125 \nL 42.625 30.28125 \nL 42.625 47.515625 \nL 30.515625 47.515625 \nQ 24.703125 47.515625 21.578125 45.265625 \nQ 18.453125 43.015625 18.453125 38.921875 \nz\nM 5.671875 0 \nL 22.359375 23.96875 \nQ 16.703125 25.25 12.9375 28.59375 \nQ 9.1875 31.9375 9.1875 38.921875 \nQ 9.1875 46.828125 14.421875 50.75 \nQ 19.671875 54.6875 30.28125 54.6875 \nL 51.65625 54.6875 \nL 51.65625 0 \nL 42.625 0 \nL 42.625 23.09375 \nL 31.453125 23.09375 \nL 15.328125 0 \nz\n\" id=\"DejaVuSans-1103\"/>\n     <path id=\"DejaVuSans-32\"/>\n     <path d=\"M 30.609375 48.390625 \nQ 23.390625 48.390625 19.1875 42.75 \nQ 14.984375 37.109375 14.984375 27.296875 \nQ 14.984375 17.484375 19.15625 11.84375 \nQ 23.34375 6.203125 30.609375 6.203125 \nQ 37.796875 6.203125 41.984375 11.859375 \nQ 46.1875 17.53125 46.1875 27.296875 \nQ 46.1875 37.015625 41.984375 42.703125 \nQ 37.796875 48.390625 30.609375 48.390625 \nz\nM 30.609375 56 \nQ 42.328125 56 49.015625 48.375 \nQ 55.71875 40.765625 55.71875 27.296875 \nQ 55.71875 13.875 49.015625 6.21875 \nQ 42.328125 -1.421875 30.609375 -1.421875 \nQ 18.84375 -1.421875 12.171875 6.21875 \nQ 5.515625 13.875 5.515625 27.296875 \nQ 5.515625 40.765625 12.171875 48.375 \nQ 18.84375 56 30.609375 56 \nz\n\" id=\"DejaVuSans-1086\"/>\n     <path d=\"M 56.296875 0 \nL 9.078125 0 \nL 9.078125 54.6875 \nL 18.109375 54.6875 \nL 18.109375 7.171875 \nL 47.265625 7.171875 \nL 47.265625 54.6875 \nL 56.296875 54.6875 \nL 56.296875 7.171875 \nL 63.484375 7.171875 \nL 63.484375 -13.8125 \nL 56.296875 -13.8125 \nz\n\" id=\"DejaVuSans-1094\"/>\n     <path d=\"M 9.078125 54.6875 \nL 18.015625 54.6875 \nL 18.015625 29 \nL 43.359375 54.6875 \nL 54.390625 54.6875 \nL 33.5 33.546875 \nL 57.078125 0 \nL 47.015625 0 \nL 27.640625 27.59375 \nL 18.015625 17.828125 \nL 18.015625 0 \nL 9.078125 0 \nz\n\" id=\"DejaVuSans-1082\"/>\n     <path d=\"M 34.28125 27.484375 \nQ 23.390625 27.484375 19.1875 25 \nQ 14.984375 22.515625 14.984375 16.5 \nQ 14.984375 11.71875 18.140625 8.90625 \nQ 21.296875 6.109375 26.703125 6.109375 \nQ 34.1875 6.109375 38.703125 11.40625 \nQ 43.21875 16.703125 43.21875 25.484375 \nL 43.21875 27.484375 \nz\nM 52.203125 31.203125 \nL 52.203125 0 \nL 43.21875 0 \nL 43.21875 8.296875 \nQ 40.140625 3.328125 35.546875 0.953125 \nQ 30.953125 -1.421875 24.3125 -1.421875 \nQ 15.921875 -1.421875 10.953125 3.296875 \nQ 6 8.015625 6 15.921875 \nQ 6 25.140625 12.171875 29.828125 \nQ 18.359375 34.515625 30.609375 34.515625 \nL 43.21875 34.515625 \nL 43.21875 35.40625 \nQ 43.21875 41.609375 39.140625 45 \nQ 35.0625 48.390625 27.6875 48.390625 \nQ 23 48.390625 18.546875 47.265625 \nQ 14.109375 46.140625 10.015625 43.890625 \nL 10.015625 52.203125 \nQ 14.9375 54.109375 19.578125 55.046875 \nQ 24.21875 56 28.609375 56 \nQ 40.484375 56 46.34375 49.84375 \nQ 52.203125 43.703125 52.203125 31.203125 \nz\n\" id=\"DejaVuSans-1072\"/>\n     <path d=\"M 3.71875 0 \nL 3.71875 7.46875 \nQ 12.59375 8.84375 15.328125 14.984375 \nQ 18.65625 23.640625 18.65625 45.75 \nL 18.65625 54.6875 \nL 55.609375 54.6875 \nL 55.609375 0 \nL 46.625 0 \nL 46.625 47.515625 \nL 27.640625 47.515625 \nL 27.640625 42.09375 \nQ 27.640625 21 23.34375 11.53125 \nQ 18.75 1.421875 3.71875 0 \nz\n\" id=\"DejaVuSans-1083\"/>\n     <path d=\"M 31.109375 56 \nQ 42.828125 56 49.515625 48.375 \nQ 56.203125 40.765625 56.203125 27.296875 \nQ 56.203125 13.875 49.515625 6.21875 \nQ 42.828125 -1.421875 31.109375 -1.421875 \nQ 19.34375 -1.421875 12.84375 6 \nQ 6.34375 13.421875 6 27.296875 \nL 5.71875 38.484375 \nQ 5.46875 44.28125 5.46875 46.296875 \nQ 5.46875 54.109375 8.296875 59.859375 \nQ 12.75 68.890625 20.4375 72.796875 \nQ 28.125 76.703125 41.015625 76.8125 \nQ 46.96875 76.859375 49.609375 77.6875 \nL 52.09375 70.5625 \nQ 49.703125 69.578125 47.515625 69.53125 \nL 35.296875 68.703125 \nQ 29.15625 68.265625 25.4375 66.109375 \nQ 15.71875 60.40625 14.796875 52.9375 \nL 14.453125 50.203125 \nQ 20.796875 56 31.109375 56 \nz\nM 31.109375 48.390625 \nQ 23.875 48.390625 19.671875 42.75 \nQ 15.484375 37.109375 15.484375 27.296875 \nQ 15.484375 17.484375 19.65625 11.84375 \nQ 23.828125 6.203125 31.109375 6.203125 \nQ 38.28125 6.203125 42.484375 11.859375 \nQ 46.6875 17.53125 46.6875 27.296875 \nQ 46.6875 37.015625 42.484375 42.703125 \nQ 38.28125 48.390625 31.109375 48.390625 \nz\n\" id=\"DejaVuSans-1073\"/>\n     <path d=\"M 32.171875 -5.078125 \nQ 28.375 -14.84375 24.75 -17.8125 \nQ 21.140625 -20.796875 15.09375 -20.796875 \nL 7.90625 -20.796875 \nL 7.90625 -13.28125 \nL 13.1875 -13.28125 \nQ 16.890625 -13.28125 18.9375 -11.515625 \nQ 21 -9.765625 23.484375 -3.21875 \nL 25.09375 0.875 \nL 2.984375 54.6875 \nL 12.5 54.6875 \nL 29.59375 11.921875 \nL 46.6875 54.6875 \nL 56.203125 54.6875 \nz\n\" id=\"DejaVuSans-1091\"/>\n     <path d=\"M 9.078125 54.6875 \nL 22.21875 54.6875 \nL 37.75 18.0625 \nL 53.328125 54.6875 \nL 66.359375 54.6875 \nL 66.359375 0 \nL 57.328125 0 \nL 57.328125 46.09375 \nL 42.234375 10.5 \nL 33.25 10.5 \nL 18.109375 46.09375 \nL 18.109375 0 \nL 9.078125 0 \nz\n\" id=\"DejaVuSans-1084\"/>\n     <path d=\"M 40.578125 54.6875 \nL 49.515625 54.6875 \nL 49.515625 29 \nL 73.390625 54.6875 \nL 83.84375 54.6875 \nL 64.203125 33.640625 \nL 86.671875 0 \nL 77.046875 0 \nL 58.640625 27.640625 \nL 49.515625 17.828125 \nL 49.515625 0 \nL 40.578125 0 \nL 40.578125 17.828125 \nL 31.453125 27.640625 \nL 13.03125 0 \nL 3.421875 0 \nL 25.875 33.640625 \nL 6.25 54.6875 \nL 16.703125 54.6875 \nL 40.578125 29 \nz\n\" id=\"DejaVuSans-1078\"/>\n     <path d=\"M 61.078125 54.6875 \nL 70.0625 54.6875 \nL 70.0625 0 \nL 61.078125 0 \nz\nM 65.578125 56 \nz\nM 43.453125 16.21875 \nQ 43.453125 20.609375 40.25 22.90625 \nQ 37.0625 25.203125 30.90625 25.203125 \nL 18.109375 25.203125 \nL 18.109375 7.171875 \nL 30.90625 7.171875 \nQ 37.0625 7.171875 40.25 9.484375 \nQ 43.453125 11.8125 43.453125 16.21875 \nz\nM 9.078125 54.6875 \nL 18.109375 54.6875 \nL 18.109375 32.375 \nL 31.296875 32.375 \nQ 41.75 32.375 47.390625 28.390625 \nQ 53.03125 24.421875 53.03125 16.21875 \nQ 53.03125 8.015625 47.390625 4 \nQ 41.75 0 31.296875 0 \nL 9.078125 0 \nz\n\" id=\"DejaVuSans-1099\"/>\n     <path d=\"M 54.890625 54.6875 \nL 35.109375 28.078125 \nL 55.90625 0 \nL 45.3125 0 \nL 29.390625 21.484375 \nL 13.484375 0 \nL 2.875 0 \nL 24.125 28.609375 \nL 4.6875 54.6875 \nL 15.28125 54.6875 \nL 29.78125 35.203125 \nL 44.28125 54.6875 \nz\n\" id=\"DejaVuSans-1093\"/>\n     <path d=\"M 55.90625 54.6875 \nL 55.90625 0 \nL 46.96875 0 \nL 46.96875 43.890625 \nL 20.609375 0 \nL 9.078125 0 \nL 9.078125 54.6875 \nL 18.015625 54.6875 \nL 18.015625 10.890625 \nL 44.34375 54.6875 \nz\n\" id=\"DejaVuSans-1080\"/>\n     <path d=\"M 9.078125 0 \nL 9.078125 54.6875 \nL 47.65625 54.6875 \nL 47.65625 47.515625 \nL 18.109375 47.515625 \nL 18.109375 0 \nz\n\" id=\"DejaVuSans-1075\"/>\n    </defs>\n    <g transform=\"translate(406.376875 16.5225)scale(0.12 -0.12)\">\n     <use xlink:href=\"#DejaVuSans-1057\"/>\n     <use x=\"69.824219\" xlink:href=\"#DejaVuSans-1088\"/>\n     <use x=\"133.300781\" xlink:href=\"#DejaVuSans-1077\"/>\n     <use x=\"194.824219\" xlink:href=\"#DejaVuSans-1076\"/>\n     <use x=\"263.964844\" xlink:href=\"#DejaVuSans-1085\"/>\n     <use x=\"329.345703\" xlink:href=\"#DejaVuSans-1103\"/>\n     <use x=\"389.501953\" xlink:href=\"#DejaVuSans-1103\"/>\n     <use x=\"449.658203\" xlink:href=\"#DejaVuSans-32\"/>\n     <use x=\"481.445312\" xlink:href=\"#DejaVuSans-1086\"/>\n     <use x=\"542.626953\" xlink:href=\"#DejaVuSans-1094\"/>\n     <use x=\"610.693359\" xlink:href=\"#DejaVuSans-1077\"/>\n     <use x=\"672.216797\" xlink:href=\"#DejaVuSans-1085\"/>\n     <use x=\"737.597656\" xlink:href=\"#DejaVuSans-1082\"/>\n     <use x=\"797.998047\" xlink:href=\"#DejaVuSans-1072\"/>\n     <use x=\"859.277344\" xlink:href=\"#DejaVuSans-32\"/>\n     <use x=\"891.064453\" xlink:href=\"#DejaVuSans-1076\"/>\n     <use x=\"960.205078\" xlink:href=\"#DejaVuSans-1083\"/>\n     <use x=\"1024.121094\" xlink:href=\"#DejaVuSans-1103\"/>\n     <use x=\"1084.277344\" xlink:href=\"#DejaVuSans-32\"/>\n     <use x=\"1116.064453\" xlink:href=\"#DejaVuSans-1073\"/>\n     <use x=\"1177.734375\" xlink:href=\"#DejaVuSans-1091\"/>\n     <use x=\"1236.914062\" xlink:href=\"#DejaVuSans-1084\"/>\n     <use x=\"1312.353516\" xlink:href=\"#DejaVuSans-1072\"/>\n     <use x=\"1373.632812\" xlink:href=\"#DejaVuSans-1078\"/>\n     <use x=\"1463.720703\" xlink:href=\"#DejaVuSans-1085\"/>\n     <use x=\"1529.101562\" xlink:href=\"#DejaVuSans-1099\"/>\n     <use x=\"1608.056641\" xlink:href=\"#DejaVuSans-1093\"/>\n     <use x=\"1667.236328\" xlink:href=\"#DejaVuSans-32\"/>\n     <use x=\"1699.023438\" xlink:href=\"#DejaVuSans-1080\"/>\n     <use x=\"1764.013672\" xlink:href=\"#DejaVuSans-32\"/>\n     <use x=\"1795.800781\" xlink:href=\"#DejaVuSans-1072\"/>\n     <use x=\"1857.080078\" xlink:href=\"#DejaVuSans-1091\"/>\n     <use x=\"1916.259766\" xlink:href=\"#DejaVuSans-1076\"/>\n     <use x=\"1985.400391\" xlink:href=\"#DejaVuSans-1080\"/>\n     <use x=\"2050.390625\" xlink:href=\"#DejaVuSans-1086\"/>\n     <use x=\"2111.572266\" xlink:href=\"#DejaVuSans-32\"/>\n     <use x=\"2143.359375\" xlink:href=\"#DejaVuSans-1082\"/>\n     <use x=\"2203.759766\" xlink:href=\"#DejaVuSans-1085\"/>\n     <use x=\"2269.140625\" xlink:href=\"#DejaVuSans-1080\"/>\n     <use x=\"2334.130859\" xlink:href=\"#DejaVuSans-1075\"/>\n    </g>\n   </g>\n  </g>\n </g>\n <defs>\n  <clipPath id=\"p9ac7e68b9d\">\n   <rect height=\"306.49375\" width=\"1030.11875\" x=\"34.51875\" y=\"22.5225\"/>\n  </clipPath>\n </defs>\n</svg>\n",
      "image/png": "[encoded data removed]"
     },
     "metadata": {
      "needs_background": "light"
     }
    }
   ]
  },
  {
   "cell_type": "code",
   "execution_count": 24,
   "metadata": {},
   "outputs": [],
   "source": [
    "db = db.drop('kind_book', axis =1)\n",
    "db = db[~db['publisher'].str.lower().str.contains('audio')]"
   ]
  },
  {
   "cell_type": "code",
   "execution_count": 25,
   "metadata": {},
   "outputs": [
    {
     "output_type": "execute_result",
     "data": {
      "text/plain": [
       "                  bookID                                              title  \\\n",
       "publication_date                                                              \n",
       "2006-09-16             1  Harry Potter and the Half-Blood Prince (Harry ...   \n",
       "2004-09-01             2  Harry Potter and the Order of the Phoenix (Har...   \n",
       "2003-11-01             4  Harry Potter and the Chamber of Secrets (Harry...   \n",
       "2004-05-01             5  Harry Potter and the Prisoner of Azkaban (Harr...   \n",
       "2004-09-13             8  Harry Potter Boxed Set  Books 1-5 (Harry Potte...   \n",
       "\n",
       "                                     authors  average_rating        isbn  \\\n",
       "publication_date                                                           \n",
       "2006-09-16        J.K. Rowling/Mary GrandPré            4.57  0439785960   \n",
       "2004-09-01        J.K. Rowling/Mary GrandPré            4.49  0439358078   \n",
       "2003-11-01                      J.K. Rowling            4.42  0439554896   \n",
       "2004-05-01        J.K. Rowling/Mary GrandPré            4.56  043965548X   \n",
       "2004-09-13        J.K. Rowling/Mary GrandPré            4.78  0439682584   \n",
       "\n",
       "                         isbn13 language_code  num_pages  ratings_count  \\\n",
       "publication_date                                                          \n",
       "2006-09-16        9780439785969           eng        652        2095690   \n",
       "2004-09-01        9780439358071           eng        870        2153167   \n",
       "2003-11-01        9780439554893           eng        352           6333   \n",
       "2004-05-01        9780439655484           eng        435        2339585   \n",
       "2004-09-13        9780439682589           eng       2690          41428   \n",
       "\n",
       "                  text_reviews_count publication_date        publisher  \n",
       "publication_date                                                        \n",
       "2006-09-16                     27591       2006-09-16  Scholastic Inc.  \n",
       "2004-09-01                     29221       2004-09-01  Scholastic Inc.  \n",
       "2003-11-01                       244       2003-11-01       Scholastic  \n",
       "2004-05-01                     36325       2004-05-01  Scholastic Inc.  \n",
       "2004-09-13                       164       2004-09-13       Scholastic  "
      ],
      "text/html": "<div>\n<style scoped>\n    .dataframe tbody tr th:only-of-type {\n        vertical-align: middle;\n    }\n\n    .dataframe tbody tr th {\n        vertical-align: top;\n    }\n\n    .dataframe thead th {\n        text-align: right;\n    }\n</style>\n<table border=\"1\" class=\"dataframe\">\n  <thead>\n    <tr style=\"text-align: right;\">\n      <th></th>\n      <th>bookID</th>\n      <th>title</th>\n      <th>authors</th>\n      <th>average_rating</th>\n      <th>isbn</th>\n      <th>isbn13</th>\n      <th>language_code</th>\n      <th>num_pages</th>\n      <th>ratings_count</th>\n      <th>text_reviews_count</th>\n      <th>publication_date</th>\n      <th>publisher</th>\n    </tr>\n    <tr>\n      <th>publication_date</th>\n      <th></th>\n      <th></th>\n      <th></th>\n      <th></th>\n      <th></th>\n      <th></th>\n      <th></th>\n      <th></th>\n      <th></th>\n      <th></th>\n      <th></th>\n      <th></th>\n    </tr>\n  </thead>\n  <tbody>\n    <tr>\n      <th>2006-09-16</th>\n      <td>1</td>\n      <td>Harry Potter and the Half-Blood Prince (Harry ...</td>\n      <td>J.K. Rowling/Mary GrandPré</td>\n      <td>4.57</td>\n      <td>0439785960</td>\n      <td>9780439785969</td>\n      <td>eng</td>\n      <td>652</td>\n      <td>2095690</td>\n      <td>27591</td>\n      <td>2006-09-16</td>\n      <td>Scholastic Inc.</td>\n    </tr>\n    <tr>\n      <th>2004-09-01</th>\n      <td>2</td>\n      <td>Harry Potter and the Order of the Phoenix (Har...</td>\n      <td>J.K. Rowling/Mary GrandPré</td>\n      <td>4.49</td>\n      <td>0439358078</td>\n      <td>9780439358071</td>\n      <td>eng</td>\n      <td>870</td>\n      <td>2153167</td>\n      <td>29221</td>\n      <td>2004-09-01</td>\n      <td>Scholastic Inc.</td>\n    </tr>\n    <tr>\n      <th>2003-11-01</th>\n      <td>4</td>\n      <td>Harry Potter and the Chamber of Secrets (Harry...</td>\n      <td>J.K. Rowling</td>\n      <td>4.42</td>\n      <td>0439554896</td>\n      <td>9780439554893</td>\n      <td>eng</td>\n      <td>352</td>\n      <td>6333</td>\n      <td>244</td>\n      <td>2003-11-01</td>\n      <td>Scholastic</td>\n    </tr>\n    <tr>\n      <th>2004-05-01</th>\n      <td>5</td>\n      <td>Harry Potter and the Prisoner of Azkaban (Harr...</td>\n      <td>J.K. Rowling/Mary GrandPré</td>\n      <td>4.56</td>\n      <td>043965548X</td>\n      <td>9780439655484</td>\n      <td>eng</td>\n      <td>435</td>\n      <td>2339585</td>\n      <td>36325</td>\n      <td>2004-05-01</td>\n      <td>Scholastic Inc.</td>\n    </tr>\n    <tr>\n      <th>2004-09-13</th>\n      <td>8</td>\n      <td>Harry Potter Boxed Set  Books 1-5 (Harry Potte...</td>\n      <td>J.K. Rowling/Mary GrandPré</td>\n      <td>4.78</td>\n      <td>0439682584</td>\n      <td>9780439682589</td>\n      <td>eng</td>\n      <td>2690</td>\n      <td>41428</td>\n      <td>164</td>\n      <td>2004-09-13</td>\n      <td>Scholastic</td>\n    </tr>\n  </tbody>\n</table>\n</div>"
     },
     "metadata": {},
     "execution_count": 25
    }
   ],
   "source": [
    "db.head()"
   ]
  },
  {
   "cell_type": "code",
   "execution_count": 26,
   "metadata": {},
   "outputs": [
    {
     "output_type": "execute_result",
     "data": {
      "text/plain": [
       "Caedmon                              6\n",
       "Tantor Media                         6\n",
       "Grand Central Publishing             5\n",
       "Random House Value Publishing        4\n",
       "Mariner Books                        3\n",
       "Little  Brown & Company              3\n",
       "HarperFestival                       3\n",
       "Recorded Books  Inc.                 3\n",
       "Ivy Books                            2\n",
       "HighBridge Company                   2\n",
       "HarperCollins Publishers             2\n",
       "Basic Books                          2\n",
       "Hay House                            2\n",
       "Listening Library                    2\n",
       "Puffin                               2\n",
       "Addison Wesley Publishing Company    1\n",
       "Recorded Books                       1\n",
       "Festival Books                       1\n",
       "Schocken                             1\n",
       "Fawcett Coventry                     1\n",
       "Ballantine Books                     1\n",
       "Gold Eagle                           1\n",
       "Planeta Publishing                   1\n",
       "Knopf                                1\n",
       "Prentice Hall                        1\n",
       "Turtleback Books                     1\n",
       "Salem Press Inc                      1\n",
       "Zondervan                            1\n",
       "Warner Adult                         1\n",
       "Sounds True                          1\n",
       "Walter Foster Publishing             1\n",
       "Moody Publishers                     1\n",
       "BBC Worldwide                        1\n",
       "Your Coach Digital                   1\n",
       "Penguin-HighBridge                   1\n",
       "Fawcett                              1\n",
       "Knowledge Products                   1\n",
       "Blackstone Publishing                1\n",
       "Name: publisher, dtype: int64"
      ]
     },
     "metadata": {},
     "execution_count": 26
    }
   ],
   "source": [
    "db[db['num_pages'] < 10 ]['publisher'].value_counts()"
   ]
  },
  {
   "cell_type": "code",
   "execution_count": 27,
   "metadata": {},
   "outputs": [],
   "source": [
    "db = db[db['num_pages'] > 10]"
   ]
  },
  {
   "cell_type": "code",
   "execution_count": 28,
   "metadata": {},
   "outputs": [
    {
     "output_type": "stream",
     "name": "stdout",
     "text": [
      "<class 'pandas.core.frame.DataFrame'>\nDatetimeIndex: 10862 entries, 2006-09-16 to 2006-05-28\nData columns (total 12 columns):\n #   Column              Non-Null Count  Dtype         \n---  ------              --------------  -----         \n 0   bookID              10862 non-null  int64         \n 1   title               10862 non-null  object        \n 2   authors             10862 non-null  object        \n 3   average_rating      10862 non-null  float64       \n 4   isbn                10862 non-null  object        \n 5   isbn13              10862 non-null  object        \n 6   language_code       10862 non-null  object        \n 7   num_pages           10862 non-null  int64         \n 8   ratings_count       10862 non-null  int64         \n 9   text_reviews_count  10862 non-null  int64         \n 10  publication_date    10862 non-null  datetime64[ns]\n 11  publisher           10862 non-null  object        \ndtypes: datetime64[ns](1), float64(1), int64(4), object(6)\nmemory usage: 1.4+ MB\n"
     ]
    }
   ],
   "source": [
    "db.info()"
   ]
  },
  {
   "cell_type": "code",
   "execution_count": 29,
   "metadata": {},
   "outputs": [],
   "source": [
    "db.loc[ : , 'decade'] = 10 * (db.loc[ : , 'publication_date'].dt.year // 10)"
   ]
  },
  {
   "cell_type": "code",
   "execution_count": 30,
   "metadata": {},
   "outputs": [],
   "source": [
    "db.loc[ : , 'quarter'] = db.loc[ : , 'publication_date'].dt.quarter"
   ]
  },
  {
   "cell_type": "code",
   "execution_count": 31,
   "metadata": {},
   "outputs": [
    {
     "output_type": "execute_result",
     "data": {
      "text/plain": [
       "                  bookID                                              title  \\\n",
       "publication_date                                                              \n",
       "2006-09-16             1  Harry Potter and the Half-Blood Prince (Harry ...   \n",
       "2004-09-01             2  Harry Potter and the Order of the Phoenix (Har...   \n",
       "2003-11-01             4  Harry Potter and the Chamber of Secrets (Harry...   \n",
       "2004-05-01             5  Harry Potter and the Prisoner of Azkaban (Harr...   \n",
       "2004-09-13             8  Harry Potter Boxed Set  Books 1-5 (Harry Potte...   \n",
       "\n",
       "                                     authors  average_rating        isbn  \\\n",
       "publication_date                                                           \n",
       "2006-09-16        J.K. Rowling/Mary GrandPré            4.57  0439785960   \n",
       "2004-09-01        J.K. Rowling/Mary GrandPré            4.49  0439358078   \n",
       "2003-11-01                      J.K. Rowling            4.42  0439554896   \n",
       "2004-05-01        J.K. Rowling/Mary GrandPré            4.56  043965548X   \n",
       "2004-09-13        J.K. Rowling/Mary GrandPré            4.78  0439682584   \n",
       "\n",
       "                         isbn13 language_code  num_pages  ratings_count  \\\n",
       "publication_date                                                          \n",
       "2006-09-16        9780439785969           eng        652        2095690   \n",
       "2004-09-01        9780439358071           eng        870        2153167   \n",
       "2003-11-01        9780439554893           eng        352           6333   \n",
       "2004-05-01        9780439655484           eng        435        2339585   \n",
       "2004-09-13        9780439682589           eng       2690          41428   \n",
       "\n",
       "                  text_reviews_count publication_date        publisher  \\\n",
       "publication_date                                                         \n",
       "2006-09-16                     27591       2006-09-16  Scholastic Inc.   \n",
       "2004-09-01                     29221       2004-09-01  Scholastic Inc.   \n",
       "2003-11-01                       244       2003-11-01       Scholastic   \n",
       "2004-05-01                     36325       2004-05-01  Scholastic Inc.   \n",
       "2004-09-13                       164       2004-09-13       Scholastic   \n",
       "\n",
       "                  decade  quarter  \n",
       "publication_date                   \n",
       "2006-09-16          2000        3  \n",
       "2004-09-01          2000        3  \n",
       "2003-11-01          2000        4  \n",
       "2004-05-01          2000        2  \n",
       "2004-09-13          2000        3  "
      ],
      "text/html": "<div>\n<style scoped>\n    .dataframe tbody tr th:only-of-type {\n        vertical-align: middle;\n    }\n\n    .dataframe tbody tr th {\n        vertical-align: top;\n    }\n\n    .dataframe thead th {\n        text-align: right;\n    }\n</style>\n<table border=\"1\" class=\"dataframe\">\n  <thead>\n    <tr style=\"text-align: right;\">\n      <th></th>\n      <th>bookID</th>\n      <th>title</th>\n      <th>authors</th>\n      <th>average_rating</th>\n      <th>isbn</th>\n      <th>isbn13</th>\n      <th>language_code</th>\n      <th>num_pages</th>\n      <th>ratings_count</th>\n      <th>text_reviews_count</th>\n      <th>publication_date</th>\n      <th>publisher</th>\n      <th>decade</th>\n      <th>quarter</th>\n    </tr>\n    <tr>\n      <th>publication_date</th>\n      <th></th>\n      <th></th>\n      <th></th>\n      <th></th>\n      <th></th>\n      <th></th>\n      <th></th>\n      <th></th>\n      <th></th>\n      <th></th>\n      <th></th>\n      <th></th>\n      <th></th>\n      <th></th>\n    </tr>\n  </thead>\n  <tbody>\n    <tr>\n      <th>2006-09-16</th>\n      <td>1</td>\n      <td>Harry Potter and the Half-Blood Prince (Harry ...</td>\n      <td>J.K. Rowling/Mary GrandPré</td>\n      <td>4.57</td>\n      <td>0439785960</td>\n      <td>9780439785969</td>\n      <td>eng</td>\n      <td>652</td>\n      <td>2095690</td>\n      <td>27591</td>\n      <td>2006-09-16</td>\n      <td>Scholastic Inc.</td>\n      <td>2000</td>\n      <td>3</td>\n    </tr>\n    <tr>\n      <th>2004-09-01</th>\n      <td>2</td>\n      <td>Harry Potter and the Order of the Phoenix (Har...</td>\n      <td>J.K. Rowling/Mary GrandPré</td>\n      <td>4.49</td>\n      <td>0439358078</td>\n      <td>9780439358071</td>\n      <td>eng</td>\n      <td>870</td>\n      <td>2153167</td>\n      <td>29221</td>\n      <td>2004-09-01</td>\n      <td>Scholastic Inc.</td>\n      <td>2000</td>\n      <td>3</td>\n    </tr>\n    <tr>\n      <th>2003-11-01</th>\n      <td>4</td>\n      <td>Harry Potter and the Chamber of Secrets (Harry...</td>\n      <td>J.K. Rowling</td>\n      <td>4.42</td>\n      <td>0439554896</td>\n      <td>9780439554893</td>\n      <td>eng</td>\n      <td>352</td>\n      <td>6333</td>\n      <td>244</td>\n      <td>2003-11-01</td>\n      <td>Scholastic</td>\n      <td>2000</td>\n      <td>4</td>\n    </tr>\n    <tr>\n      <th>2004-05-01</th>\n      <td>5</td>\n      <td>Harry Potter and the Prisoner of Azkaban (Harr...</td>\n      <td>J.K. Rowling/Mary GrandPré</td>\n      <td>4.56</td>\n      <td>043965548X</td>\n      <td>9780439655484</td>\n      <td>eng</td>\n      <td>435</td>\n      <td>2339585</td>\n      <td>36325</td>\n      <td>2004-05-01</td>\n      <td>Scholastic Inc.</td>\n      <td>2000</td>\n      <td>2</td>\n    </tr>\n    <tr>\n      <th>2004-09-13</th>\n      <td>8</td>\n      <td>Harry Potter Boxed Set  Books 1-5 (Harry Potte...</td>\n      <td>J.K. Rowling/Mary GrandPré</td>\n      <td>4.78</td>\n      <td>0439682584</td>\n      <td>9780439682589</td>\n      <td>eng</td>\n      <td>2690</td>\n      <td>41428</td>\n      <td>164</td>\n      <td>2004-09-13</td>\n      <td>Scholastic</td>\n      <td>2000</td>\n      <td>3</td>\n    </tr>\n  </tbody>\n</table>\n</div>"
     },
     "metadata": {},
     "execution_count": 31
    }
   ],
   "source": [
    "db.head()"
   ]
  },
  {
   "cell_type": "code",
   "execution_count": 32,
   "metadata": {},
   "outputs": [
    {
     "output_type": "execute_result",
     "data": {
      "text/plain": [
       "                  bookID                                              title  \\\n",
       "publication_date                                                              \n",
       "2006-09-16             1  Harry Potter and the Half-Blood Prince (Harry ...   \n",
       "2004-09-01             2  Harry Potter and the Order of the Phoenix (Har...   \n",
       "2004-05-01             5  Harry Potter and the Prisoner of Azkaban (Harr...   \n",
       "2004-09-13             8  Harry Potter Boxed Set  Books 1-5 (Harry Potte...   \n",
       "2002-10-01            35  The Lord of the Rings (The Lord of the Rings  ...   \n",
       "...                  ...                                                ...   \n",
       "2003-08-15         45617  O Cavalo e o Seu Rapaz (As Crónicas de Nárnia ...   \n",
       "2003-04-08         45623   O Sobrinho do Mágico (As Crónicas de Nárnia  #1)   \n",
       "2004-09-01         45625  A Viagem do Caminheiro da Alvorada (As Crónica...   \n",
       "2003-10-11         45626     O Príncipe Caspian (As Crónicas de Nárnia  #4)   \n",
       "2004-12-21         45631   Expelled from Eden: A William T. Vollmann Reader   \n",
       "\n",
       "                                                            authors  \\\n",
       "publication_date                                                      \n",
       "2006-09-16                               J.K. Rowling/Mary GrandPré   \n",
       "2004-09-01                               J.K. Rowling/Mary GrandPré   \n",
       "2004-05-01                               J.K. Rowling/Mary GrandPré   \n",
       "2004-09-13                               J.K. Rowling/Mary GrandPré   \n",
       "2002-10-01                                 J.R.R. Tolkien/Alan  Lee   \n",
       "...                                                             ...   \n",
       "2003-08-15              C.S. Lewis/Pauline Baynes/Ana Falcão Bastos   \n",
       "2003-04-08              C.S. Lewis/Pauline Baynes/Ana Falcão Bastos   \n",
       "2004-09-01              C.S. Lewis/Pauline Baynes/Ana Falcão Bastos   \n",
       "2003-10-11              C.S. Lewis/Pauline Baynes/Ana Falcão Bastos   \n",
       "2004-12-21        William T. Vollmann/Larry McCaffery/Michael He...   \n",
       "\n",
       "                  average_rating        isbn         isbn13 language_code  \\\n",
       "publication_date                                                            \n",
       "2006-09-16                  4.57  0439785960  9780439785969           eng   \n",
       "2004-09-01                  4.49  0439358078  9780439358071           eng   \n",
       "2004-05-01                  4.56  043965548X  9780439655484           eng   \n",
       "2004-09-13                  4.78  0439682584  9780439682589           eng   \n",
       "2002-10-01                  4.50  0618260587  9780618260584         en-US   \n",
       "...                          ...         ...            ...           ...   \n",
       "2003-08-15                  3.92  9722330551  9789722330558           por   \n",
       "2003-04-08                  4.04  9722329987  9789722329989           por   \n",
       "2004-09-01                  4.09  9722331329  9789722331326           por   \n",
       "2003-10-11                  3.97  9722330977  9789722330978           por   \n",
       "2004-12-21                  4.06  1560254416  9781560254416           eng   \n",
       "\n",
       "                  num_pages  ratings_count  text_reviews_count  \\\n",
       "publication_date                                                 \n",
       "2006-09-16              652        2095690               27591   \n",
       "2004-09-01              870        2153167               29221   \n",
       "2004-05-01              435        2339585               36325   \n",
       "2004-09-13             2690          41428                 164   \n",
       "2002-10-01             1216           1618                 140   \n",
       "...                     ...            ...                 ...   \n",
       "2003-08-15              160            207                  16   \n",
       "2003-04-08              147            396                  37   \n",
       "2004-09-01              176            161                  14   \n",
       "2003-10-11              160            215                  11   \n",
       "2004-12-21              512            156                  20   \n",
       "\n",
       "                 publication_date                  publisher  decade  quarter  \n",
       "publication_date                                                               \n",
       "2006-09-16             2006-09-16            Scholastic Inc.    2000        3  \n",
       "2004-09-01             2004-09-01            Scholastic Inc.    2000        3  \n",
       "2004-05-01             2004-05-01            Scholastic Inc.    2000        2  \n",
       "2004-09-13             2004-09-13                 Scholastic    2000        3  \n",
       "2002-10-01             2002-10-01  Houghton Mifflin Harcourt    2000        4  \n",
       "...                           ...                        ...     ...      ...  \n",
       "2003-08-15             2003-08-15         Editorial Presença    2000        3  \n",
       "2003-04-08             2003-04-08         Editorial Presença    2000        2  \n",
       "2004-09-01             2004-09-01         Editorial Presença    2000        3  \n",
       "2003-10-11             2003-10-11         Editorial Presença    2000        4  \n",
       "2004-12-21             2004-12-21              Da Capo Press    2000        4  \n",
       "\n",
       "[4358 rows x 14 columns]"
      ],
      "text/html": "<div>\n<style scoped>\n    .dataframe tbody tr th:only-of-type {\n        vertical-align: middle;\n    }\n\n    .dataframe tbody tr th {\n        vertical-align: top;\n    }\n\n    .dataframe thead th {\n        text-align: right;\n    }\n</style>\n<table border=\"1\" class=\"dataframe\">\n  <thead>\n    <tr style=\"text-align: right;\">\n      <th></th>\n      <th>bookID</th>\n      <th>title</th>\n      <th>authors</th>\n      <th>average_rating</th>\n      <th>isbn</th>\n      <th>isbn13</th>\n      <th>language_code</th>\n      <th>num_pages</th>\n      <th>ratings_count</th>\n      <th>text_reviews_count</th>\n      <th>publication_date</th>\n      <th>publisher</th>\n      <th>decade</th>\n      <th>quarter</th>\n    </tr>\n    <tr>\n      <th>publication_date</th>\n      <th></th>\n      <th></th>\n      <th></th>\n      <th></th>\n      <th></th>\n      <th></th>\n      <th></th>\n      <th></th>\n      <th></th>\n      <th></th>\n      <th></th>\n      <th></th>\n      <th></th>\n      <th></th>\n    </tr>\n  </thead>\n  <tbody>\n    <tr>\n      <th>2006-09-16</th>\n      <td>1</td>\n      <td>Harry Potter and the Half-Blood Prince (Harry ...</td>\n      <td>J.K. Rowling/Mary GrandPré</td>\n      <td>4.57</td>\n      <td>0439785960</td>\n      <td>9780439785969</td>\n      <td>eng</td>\n      <td>652</td>\n      <td>2095690</td>\n      <td>27591</td>\n      <td>2006-09-16</td>\n      <td>Scholastic Inc.</td>\n      <td>2000</td>\n      <td>3</td>\n    </tr>\n    <tr>\n      <th>2004-09-01</th>\n      <td>2</td>\n      <td>Harry Potter and the Order of the Phoenix (Har...</td>\n      <td>J.K. Rowling/Mary GrandPré</td>\n      <td>4.49</td>\n      <td>0439358078</td>\n      <td>9780439358071</td>\n      <td>eng</td>\n      <td>870</td>\n      <td>2153167</td>\n      <td>29221</td>\n      <td>2004-09-01</td>\n      <td>Scholastic Inc.</td>\n      <td>2000</td>\n      <td>3</td>\n    </tr>\n    <tr>\n      <th>2004-05-01</th>\n      <td>5</td>\n      <td>Harry Potter and the Prisoner of Azkaban (Harr...</td>\n      <td>J.K. Rowling/Mary GrandPré</td>\n      <td>4.56</td>\n      <td>043965548X</td>\n      <td>9780439655484</td>\n      <td>eng</td>\n      <td>435</td>\n      <td>2339585</td>\n      <td>36325</td>\n      <td>2004-05-01</td>\n      <td>Scholastic Inc.</td>\n      <td>2000</td>\n      <td>2</td>\n    </tr>\n    <tr>\n      <th>2004-09-13</th>\n      <td>8</td>\n      <td>Harry Potter Boxed Set  Books 1-5 (Harry Potte...</td>\n      <td>J.K. Rowling/Mary GrandPré</td>\n      <td>4.78</td>\n      <td>0439682584</td>\n      <td>9780439682589</td>\n      <td>eng</td>\n      <td>2690</td>\n      <td>41428</td>\n      <td>164</td>\n      <td>2004-09-13</td>\n      <td>Scholastic</td>\n      <td>2000</td>\n      <td>3</td>\n    </tr>\n    <tr>\n      <th>2002-10-01</th>\n      <td>35</td>\n      <td>The Lord of the Rings (The Lord of the Rings  ...</td>\n      <td>J.R.R. Tolkien/Alan  Lee</td>\n      <td>4.50</td>\n      <td>0618260587</td>\n      <td>9780618260584</td>\n      <td>en-US</td>\n      <td>1216</td>\n      <td>1618</td>\n      <td>140</td>\n      <td>2002-10-01</td>\n      <td>Houghton Mifflin Harcourt</td>\n      <td>2000</td>\n      <td>4</td>\n    </tr>\n    <tr>\n      <th>...</th>\n      <td>...</td>\n      <td>...</td>\n      <td>...</td>\n      <td>...</td>\n      <td>...</td>\n      <td>...</td>\n      <td>...</td>\n      <td>...</td>\n      <td>...</td>\n      <td>...</td>\n      <td>...</td>\n      <td>...</td>\n      <td>...</td>\n      <td>...</td>\n    </tr>\n    <tr>\n      <th>2003-08-15</th>\n      <td>45617</td>\n      <td>O Cavalo e o Seu Rapaz (As Crónicas de Nárnia ...</td>\n      <td>C.S. Lewis/Pauline Baynes/Ana Falcão Bastos</td>\n      <td>3.92</td>\n      <td>9722330551</td>\n      <td>9789722330558</td>\n      <td>por</td>\n      <td>160</td>\n      <td>207</td>\n      <td>16</td>\n      <td>2003-08-15</td>\n      <td>Editorial Presença</td>\n      <td>2000</td>\n      <td>3</td>\n    </tr>\n    <tr>\n      <th>2003-04-08</th>\n      <td>45623</td>\n      <td>O Sobrinho do Mágico (As Crónicas de Nárnia  #1)</td>\n      <td>C.S. Lewis/Pauline Baynes/Ana Falcão Bastos</td>\n      <td>4.04</td>\n      <td>9722329987</td>\n      <td>9789722329989</td>\n      <td>por</td>\n      <td>147</td>\n      <td>396</td>\n      <td>37</td>\n      <td>2003-04-08</td>\n      <td>Editorial Presença</td>\n      <td>2000</td>\n      <td>2</td>\n    </tr>\n    <tr>\n      <th>2004-09-01</th>\n      <td>45625</td>\n      <td>A Viagem do Caminheiro da Alvorada (As Crónica...</td>\n      <td>C.S. Lewis/Pauline Baynes/Ana Falcão Bastos</td>\n      <td>4.09</td>\n      <td>9722331329</td>\n      <td>9789722331326</td>\n      <td>por</td>\n      <td>176</td>\n      <td>161</td>\n      <td>14</td>\n      <td>2004-09-01</td>\n      <td>Editorial Presença</td>\n      <td>2000</td>\n      <td>3</td>\n    </tr>\n    <tr>\n      <th>2003-10-11</th>\n      <td>45626</td>\n      <td>O Príncipe Caspian (As Crónicas de Nárnia  #4)</td>\n      <td>C.S. Lewis/Pauline Baynes/Ana Falcão Bastos</td>\n      <td>3.97</td>\n      <td>9722330977</td>\n      <td>9789722330978</td>\n      <td>por</td>\n      <td>160</td>\n      <td>215</td>\n      <td>11</td>\n      <td>2003-10-11</td>\n      <td>Editorial Presença</td>\n      <td>2000</td>\n      <td>4</td>\n    </tr>\n    <tr>\n      <th>2004-12-21</th>\n      <td>45631</td>\n      <td>Expelled from Eden: A William T. Vollmann Reader</td>\n      <td>William T. Vollmann/Larry McCaffery/Michael He...</td>\n      <td>4.06</td>\n      <td>1560254416</td>\n      <td>9781560254416</td>\n      <td>eng</td>\n      <td>512</td>\n      <td>156</td>\n      <td>20</td>\n      <td>2004-12-21</td>\n      <td>Da Capo Press</td>\n      <td>2000</td>\n      <td>4</td>\n    </tr>\n  </tbody>\n</table>\n<p>4358 rows × 14 columns</p>\n</div>"
     },
     "metadata": {},
     "execution_count": 32
    }
   ],
   "source": [
    "db[db['authors'].str.contains('/')]"
   ]
  },
  {
   "cell_type": "code",
   "execution_count": 33,
   "metadata": {},
   "outputs": [],
   "source": [
    "db['authors'] = db ['authors'].str.replace('/',',')\n",
    "db['tra_co'] = np.where(db['authors'].str.contains(','), 1, 0)"
   ]
  },
  {
   "cell_type": "code",
   "execution_count": 34,
   "metadata": {},
   "outputs": [
    {
     "output_type": "execute_result",
     "data": {
      "text/plain": [
       "                  bookID                                              title  \\\n",
       "publication_date                                                              \n",
       "2006-09-16             1  Harry Potter and the Half-Blood Prince (Harry ...   \n",
       "2004-09-01             2  Harry Potter and the Order of the Phoenix (Har...   \n",
       "2003-11-01             4  Harry Potter and the Chamber of Secrets (Harry...   \n",
       "2004-05-01             5  Harry Potter and the Prisoner of Azkaban (Harr...   \n",
       "2004-09-13             8  Harry Potter Boxed Set  Books 1-5 (Harry Potte...   \n",
       "\n",
       "                                     authors  average_rating        isbn  \\\n",
       "publication_date                                                           \n",
       "2006-09-16        J.K. Rowling,Mary GrandPré            4.57  0439785960   \n",
       "2004-09-01        J.K. Rowling,Mary GrandPré            4.49  0439358078   \n",
       "2003-11-01                      J.K. Rowling            4.42  0439554896   \n",
       "2004-05-01        J.K. Rowling,Mary GrandPré            4.56  043965548X   \n",
       "2004-09-13        J.K. Rowling,Mary GrandPré            4.78  0439682584   \n",
       "\n",
       "                         isbn13 language_code  num_pages  ratings_count  \\\n",
       "publication_date                                                          \n",
       "2006-09-16        9780439785969           eng        652        2095690   \n",
       "2004-09-01        9780439358071           eng        870        2153167   \n",
       "2003-11-01        9780439554893           eng        352           6333   \n",
       "2004-05-01        9780439655484           eng        435        2339585   \n",
       "2004-09-13        9780439682589           eng       2690          41428   \n",
       "\n",
       "                  text_reviews_count publication_date        publisher  \\\n",
       "publication_date                                                         \n",
       "2006-09-16                     27591       2006-09-16  Scholastic Inc.   \n",
       "2004-09-01                     29221       2004-09-01  Scholastic Inc.   \n",
       "2003-11-01                       244       2003-11-01       Scholastic   \n",
       "2004-05-01                     36325       2004-05-01  Scholastic Inc.   \n",
       "2004-09-13                       164       2004-09-13       Scholastic   \n",
       "\n",
       "                  decade  quarter  tra_co  \n",
       "publication_date                           \n",
       "2006-09-16          2000        3       1  \n",
       "2004-09-01          2000        3       1  \n",
       "2003-11-01          2000        4       0  \n",
       "2004-05-01          2000        2       1  \n",
       "2004-09-13          2000        3       1  "
      ],
      "text/html": "<div>\n<style scoped>\n    .dataframe tbody tr th:only-of-type {\n        vertical-align: middle;\n    }\n\n    .dataframe tbody tr th {\n        vertical-align: top;\n    }\n\n    .dataframe thead th {\n        text-align: right;\n    }\n</style>\n<table border=\"1\" class=\"dataframe\">\n  <thead>\n    <tr style=\"text-align: right;\">\n      <th></th>\n      <th>bookID</th>\n      <th>title</th>\n      <th>authors</th>\n      <th>average_rating</th>\n      <th>isbn</th>\n      <th>isbn13</th>\n      <th>language_code</th>\n      <th>num_pages</th>\n      <th>ratings_count</th>\n      <th>text_reviews_count</th>\n      <th>publication_date</th>\n      <th>publisher</th>\n      <th>decade</th>\n      <th>quarter</th>\n      <th>tra_co</th>\n    </tr>\n    <tr>\n      <th>publication_date</th>\n      <th></th>\n      <th></th>\n      <th></th>\n      <th></th>\n      <th></th>\n      <th></th>\n      <th></th>\n      <th></th>\n      <th></th>\n      <th></th>\n      <th></th>\n      <th></th>\n      <th></th>\n      <th></th>\n      <th></th>\n    </tr>\n  </thead>\n  <tbody>\n    <tr>\n      <th>2006-09-16</th>\n      <td>1</td>\n      <td>Harry Potter and the Half-Blood Prince (Harry ...</td>\n      <td>J.K. Rowling,Mary GrandPré</td>\n      <td>4.57</td>\n      <td>0439785960</td>\n      <td>9780439785969</td>\n      <td>eng</td>\n      <td>652</td>\n      <td>2095690</td>\n      <td>27591</td>\n      <td>2006-09-16</td>\n      <td>Scholastic Inc.</td>\n      <td>2000</td>\n      <td>3</td>\n      <td>1</td>\n    </tr>\n    <tr>\n      <th>2004-09-01</th>\n      <td>2</td>\n      <td>Harry Potter and the Order of the Phoenix (Har...</td>\n      <td>J.K. Rowling,Mary GrandPré</td>\n      <td>4.49</td>\n      <td>0439358078</td>\n      <td>9780439358071</td>\n      <td>eng</td>\n      <td>870</td>\n      <td>2153167</td>\n      <td>29221</td>\n      <td>2004-09-01</td>\n      <td>Scholastic Inc.</td>\n      <td>2000</td>\n      <td>3</td>\n      <td>1</td>\n    </tr>\n    <tr>\n      <th>2003-11-01</th>\n      <td>4</td>\n      <td>Harry Potter and the Chamber of Secrets (Harry...</td>\n      <td>J.K. Rowling</td>\n      <td>4.42</td>\n      <td>0439554896</td>\n      <td>9780439554893</td>\n      <td>eng</td>\n      <td>352</td>\n      <td>6333</td>\n      <td>244</td>\n      <td>2003-11-01</td>\n      <td>Scholastic</td>\n      <td>2000</td>\n      <td>4</td>\n      <td>0</td>\n    </tr>\n    <tr>\n      <th>2004-05-01</th>\n      <td>5</td>\n      <td>Harry Potter and the Prisoner of Azkaban (Harr...</td>\n      <td>J.K. Rowling,Mary GrandPré</td>\n      <td>4.56</td>\n      <td>043965548X</td>\n      <td>9780439655484</td>\n      <td>eng</td>\n      <td>435</td>\n      <td>2339585</td>\n      <td>36325</td>\n      <td>2004-05-01</td>\n      <td>Scholastic Inc.</td>\n      <td>2000</td>\n      <td>2</td>\n      <td>1</td>\n    </tr>\n    <tr>\n      <th>2004-09-13</th>\n      <td>8</td>\n      <td>Harry Potter Boxed Set  Books 1-5 (Harry Potte...</td>\n      <td>J.K. Rowling,Mary GrandPré</td>\n      <td>4.78</td>\n      <td>0439682584</td>\n      <td>9780439682589</td>\n      <td>eng</td>\n      <td>2690</td>\n      <td>41428</td>\n      <td>164</td>\n      <td>2004-09-13</td>\n      <td>Scholastic</td>\n      <td>2000</td>\n      <td>3</td>\n      <td>1</td>\n    </tr>\n  </tbody>\n</table>\n</div>"
     },
     "metadata": {},
     "execution_count": 34
    }
   ],
   "source": [
    "db.head()"
   ]
  },
  {
   "cell_type": "code",
   "execution_count": 35,
   "metadata": {},
   "outputs": [
    {
     "output_type": "execute_result",
     "data": {
      "text/plain": [
       "<matplotlib.axes._subplots.AxesSubplot at 0x7fddc9c26460>"
      ]
     },
     "metadata": {},
     "execution_count": 35
    },
    {
     "output_type": "display_data",
     "data": {
      "text/plain": "<Figure size 432x288 with 1 Axes>",
      "image/svg+xml": "<?xml version=\"1.0\" encoding=\"utf-8\" standalone=\"no\"?>\n<!DOCTYPE svg PUBLIC \"-//W3C//DTD SVG 1.1//EN\"\n  \"http://www.w3.org/Graphics/SVG/1.1/DTD/svg11.dtd\">\n<!-- Created with matplotlib (https://matplotlib.org/) -->\n<svg height=\"248.518125pt\" version=\"1.1\" viewBox=\"0 0 381.65 248.518125\" width=\"381.65pt\" xmlns=\"http://www.w3.org/2000/svg\" xmlns:xlink=\"http://www.w3.org/1999/xlink\">\n <defs>\n  <style type=\"text/css\">\n*{stroke-linecap:butt;stroke-linejoin:round;}\n  </style>\n </defs>\n <g id=\"figure_1\">\n  <g id=\"patch_1\">\n   <path d=\"M -0 248.518125 \nL 381.65 248.518125 \nL 381.65 0 \nL -0 0 \nz\n\" style=\"fill:none;\"/>\n  </g>\n  <g id=\"axes_1\">\n   <g id=\"patch_2\">\n    <path d=\"M 39.65 224.64 \nL 374.45 224.64 \nL 374.45 7.2 \nL 39.65 7.2 \nz\n\" style=\"fill:#ffffff;\"/>\n   </g>\n   <g id=\"patch_3\">\n    <path clip-path=\"url(#p9654b016b4)\" d=\"M 54.868182 224.64 \nL 65.013636 224.64 \nL 65.013636 81.717109 \nL 54.868182 81.717109 \nz\n\" style=\"fill:#1f77b4;\"/>\n   </g>\n   <g id=\"patch_4\">\n    <path clip-path=\"url(#p9654b016b4)\" d=\"M 65.013636 224.64 \nL 75.159091 224.64 \nL 75.159091 17.554286 \nL 65.013636 17.554286 \nz\n\" style=\"fill:#1f77b4;\"/>\n   </g>\n   <g id=\"patch_5\">\n    <path clip-path=\"url(#p9654b016b4)\" d=\"M 75.159091 224.64 \nL 85.304545 224.64 \nL 85.304545 165.437801 \nL 75.159091 165.437801 \nz\n\" style=\"fill:#1f77b4;\"/>\n   </g>\n   <g id=\"patch_6\">\n    <path clip-path=\"url(#p9654b016b4)\" d=\"M 85.304545 224.64 \nL 95.45 224.64 \nL 95.45 205.122792 \nL 85.304545 205.122792 \nz\n\" style=\"fill:#1f77b4;\"/>\n   </g>\n   <g id=\"patch_7\">\n    <path clip-path=\"url(#p9654b016b4)\" d=\"M 95.45 224.64 \nL 105.595455 224.64 \nL 105.595455 217.158403 \nL 95.45 217.158403 \nz\n\" style=\"fill:#1f77b4;\"/>\n   </g>\n   <g id=\"patch_8\">\n    <path clip-path=\"url(#p9654b016b4)\" d=\"M 105.595455 224.64 \nL 115.740909 224.64 \nL 115.740909 222.037706 \nL 105.595455 222.037706 \nz\n\" style=\"fill:#1f77b4;\"/>\n   </g>\n   <g id=\"patch_9\">\n    <path clip-path=\"url(#p9654b016b4)\" d=\"M 115.740909 224.64 \nL 125.886364 224.64 \nL 125.886364 222.769601 \nL 115.740909 222.769601 \nz\n\" style=\"fill:#1f77b4;\"/>\n   </g>\n   <g id=\"patch_10\">\n    <path clip-path=\"url(#p9654b016b4)\" d=\"M 125.886364 224.64 \nL 136.031818 224.64 \nL 136.031818 224.436696 \nL 125.886364 224.436696 \nz\n\" style=\"fill:#1f77b4;\"/>\n   </g>\n   <g id=\"patch_11\">\n    <path clip-path=\"url(#p9654b016b4)\" d=\"M 136.031818 224.64 \nL 146.177273 224.64 \nL 146.177273 224.355374 \nL 136.031818 224.355374 \nz\n\" style=\"fill:#1f77b4;\"/>\n   </g>\n   <g id=\"patch_12\">\n    <path clip-path=\"url(#p9654b016b4)\" d=\"M 146.177273 224.64 \nL 156.322727 224.64 \nL 156.322727 224.518017 \nL 146.177273 224.518017 \nz\n\" style=\"fill:#1f77b4;\"/>\n   </g>\n   <g id=\"patch_13\">\n    <path clip-path=\"url(#p9654b016b4)\" d=\"M 156.322727 224.64 \nL 166.468182 224.64 \nL 166.468182 224.599339 \nL 156.322727 224.599339 \nz\n\" style=\"fill:#1f77b4;\"/>\n   </g>\n   <g id=\"patch_14\">\n    <path clip-path=\"url(#p9654b016b4)\" d=\"M 166.468182 224.64 \nL 176.613636 224.64 \nL 176.613636 224.599339 \nL 166.468182 224.599339 \nz\n\" style=\"fill:#1f77b4;\"/>\n   </g>\n   <g id=\"patch_15\">\n    <path clip-path=\"url(#p9654b016b4)\" d=\"M 176.613636 224.64 \nL 186.759091 224.64 \nL 186.759091 224.558678 \nL 176.613636 224.558678 \nz\n\" style=\"fill:#1f77b4;\"/>\n   </g>\n   <g id=\"patch_16\">\n    <path clip-path=\"url(#p9654b016b4)\" d=\"M 186.759091 224.64 \nL 196.904545 224.64 \nL 196.904545 224.599339 \nL 186.759091 224.599339 \nz\n\" style=\"fill:#1f77b4;\"/>\n   </g>\n   <g id=\"patch_17\">\n    <path clip-path=\"url(#p9654b016b4)\" d=\"M 196.904545 224.64 \nL 207.05 224.64 \nL 207.05 224.64 \nL 196.904545 224.64 \nz\n\" style=\"fill:#1f77b4;\"/>\n   </g>\n   <g id=\"patch_18\">\n    <path clip-path=\"url(#p9654b016b4)\" d=\"M 207.05 224.64 \nL 217.195455 224.64 \nL 217.195455 224.558678 \nL 207.05 224.558678 \nz\n\" style=\"fill:#1f77b4;\"/>\n   </g>\n   <g id=\"patch_19\">\n    <path clip-path=\"url(#p9654b016b4)\" d=\"M 217.195455 224.64 \nL 227.340909 224.64 \nL 227.340909 224.64 \nL 217.195455 224.64 \nz\n\" style=\"fill:#1f77b4;\"/>\n   </g>\n   <g id=\"patch_20\">\n    <path clip-path=\"url(#p9654b016b4)\" d=\"M 227.340909 224.64 \nL 237.486364 224.64 \nL 237.486364 224.64 \nL 227.340909 224.64 \nz\n\" style=\"fill:#1f77b4;\"/>\n   </g>\n   <g id=\"patch_21\">\n    <path clip-path=\"url(#p9654b016b4)\" d=\"M 237.486364 224.64 \nL 247.631818 224.64 \nL 247.631818 224.64 \nL 237.486364 224.64 \nz\n\" style=\"fill:#1f77b4;\"/>\n   </g>\n   <g id=\"patch_22\">\n    <path clip-path=\"url(#p9654b016b4)\" d=\"M 247.631818 224.64 \nL 257.777273 224.64 \nL 257.777273 224.64 \nL 247.631818 224.64 \nz\n\" style=\"fill:#1f77b4;\"/>\n   </g>\n   <g id=\"patch_23\">\n    <path clip-path=\"url(#p9654b016b4)\" d=\"M 257.777273 224.64 \nL 267.922727 224.64 \nL 267.922727 224.64 \nL 257.777273 224.64 \nz\n\" style=\"fill:#1f77b4;\"/>\n   </g>\n   <g id=\"patch_24\">\n    <path clip-path=\"url(#p9654b016b4)\" d=\"M 267.922727 224.64 \nL 278.068182 224.64 \nL 278.068182 224.599339 \nL 267.922727 224.599339 \nz\n\" style=\"fill:#1f77b4;\"/>\n   </g>\n   <g id=\"patch_25\">\n    <path clip-path=\"url(#p9654b016b4)\" d=\"M 278.068182 224.64 \nL 288.213636 224.64 \nL 288.213636 224.64 \nL 278.068182 224.64 \nz\n\" style=\"fill:#1f77b4;\"/>\n   </g>\n   <g id=\"patch_26\">\n    <path clip-path=\"url(#p9654b016b4)\" d=\"M 288.213636 224.64 \nL 298.359091 224.64 \nL 298.359091 224.64 \nL 288.213636 224.64 \nz\n\" style=\"fill:#1f77b4;\"/>\n   </g>\n   <g id=\"patch_27\">\n    <path clip-path=\"url(#p9654b016b4)\" d=\"M 298.359091 224.64 \nL 308.504545 224.64 \nL 308.504545 224.64 \nL 298.359091 224.64 \nz\n\" style=\"fill:#1f77b4;\"/>\n   </g>\n   <g id=\"patch_28\">\n    <path clip-path=\"url(#p9654b016b4)\" d=\"M 308.504545 224.64 \nL 318.65 224.64 \nL 318.65 224.64 \nL 308.504545 224.64 \nz\n\" style=\"fill:#1f77b4;\"/>\n   </g>\n   <g id=\"patch_29\">\n    <path clip-path=\"url(#p9654b016b4)\" d=\"M 318.65 224.64 \nL 328.795455 224.64 \nL 328.795455 224.64 \nL 318.65 224.64 \nz\n\" style=\"fill:#1f77b4;\"/>\n   </g>\n   <g id=\"patch_30\">\n    <path clip-path=\"url(#p9654b016b4)\" d=\"M 328.795455 224.64 \nL 338.940909 224.64 \nL 338.940909 224.64 \nL 328.795455 224.64 \nz\n\" style=\"fill:#1f77b4;\"/>\n   </g>\n   <g id=\"patch_31\">\n    <path clip-path=\"url(#p9654b016b4)\" d=\"M 338.940909 224.64 \nL 349.086364 224.64 \nL 349.086364 224.64 \nL 338.940909 224.64 \nz\n\" style=\"fill:#1f77b4;\"/>\n   </g>\n   <g id=\"patch_32\">\n    <path clip-path=\"url(#p9654b016b4)\" d=\"M 349.086364 224.64 \nL 359.231818 224.64 \nL 359.231818 224.599339 \nL 349.086364 224.599339 \nz\n\" style=\"fill:#1f77b4;\"/>\n   </g>\n   <g id=\"matplotlib.axis_1\">\n    <g id=\"xtick_1\">\n     <g id=\"line2d_1\">\n      <path clip-path=\"url(#p9654b016b4)\" d=\"M 54.358205 224.64 \nL 54.358205 7.2 \n\" style=\"fill:none;stroke:#b0b0b0;stroke-linecap:square;stroke-width:0.8;\"/>\n     </g>\n     <g id=\"line2d_2\">\n      <defs>\n       <path d=\"M 0 0 \nL 0 3.5 \n\" id=\"m595fd6c8ea\" style=\"stroke:#000000;stroke-width:0.8;\"/>\n      </defs>\n      <g>\n       <use style=\"stroke:#000000;stroke-width:0.8;\" x=\"54.358205\" xlink:href=\"#m595fd6c8ea\" y=\"224.64\"/>\n      </g>\n     </g>\n     <g id=\"text_1\">\n      <!-- 0 -->\n      <defs>\n       <path d=\"M 31.78125 66.40625 \nQ 24.171875 66.40625 20.328125 58.90625 \nQ 16.5 51.421875 16.5 36.375 \nQ 16.5 21.390625 20.328125 13.890625 \nQ 24.171875 6.390625 31.78125 6.390625 \nQ 39.453125 6.390625 43.28125 13.890625 \nQ 47.125 21.390625 47.125 36.375 \nQ 47.125 51.421875 43.28125 58.90625 \nQ 39.453125 66.40625 31.78125 66.40625 \nz\nM 31.78125 74.21875 \nQ 44.046875 74.21875 50.515625 64.515625 \nQ 56.984375 54.828125 56.984375 36.375 \nQ 56.984375 17.96875 50.515625 8.265625 \nQ 44.046875 -1.421875 31.78125 -1.421875 \nQ 19.53125 -1.421875 13.0625 8.265625 \nQ 6.59375 17.96875 6.59375 36.375 \nQ 6.59375 54.828125 13.0625 64.515625 \nQ 19.53125 74.21875 31.78125 74.21875 \nz\n\" id=\"DejaVuSans-48\"/>\n      </defs>\n      <g transform=\"translate(51.176955 239.238437)scale(0.1 -0.1)\">\n       <use xlink:href=\"#DejaVuSans-48\"/>\n      </g>\n     </g>\n    </g>\n    <g id=\"xtick_2\">\n     <g id=\"line2d_3\">\n      <path clip-path=\"url(#p9654b016b4)\" d=\"M 100.719764 224.64 \nL 100.719764 7.2 \n\" style=\"fill:none;stroke:#b0b0b0;stroke-linecap:square;stroke-width:0.8;\"/>\n     </g>\n     <g id=\"line2d_4\">\n      <g>\n       <use style=\"stroke:#000000;stroke-width:0.8;\" x=\"100.719764\" xlink:href=\"#m595fd6c8ea\" y=\"224.64\"/>\n      </g>\n     </g>\n     <g id=\"text_2\">\n      <!-- 1000 -->\n      <defs>\n       <path d=\"M 12.40625 8.296875 \nL 28.515625 8.296875 \nL 28.515625 63.921875 \nL 10.984375 60.40625 \nL 10.984375 69.390625 \nL 28.421875 72.90625 \nL 38.28125 72.90625 \nL 38.28125 8.296875 \nL 54.390625 8.296875 \nL 54.390625 0 \nL 12.40625 0 \nz\n\" id=\"DejaVuSans-49\"/>\n      </defs>\n      <g transform=\"translate(87.994764 239.238437)scale(0.1 -0.1)\">\n       <use xlink:href=\"#DejaVuSans-49\"/>\n       <use x=\"63.623047\" xlink:href=\"#DejaVuSans-48\"/>\n       <use x=\"127.246094\" xlink:href=\"#DejaVuSans-48\"/>\n       <use x=\"190.869141\" xlink:href=\"#DejaVuSans-48\"/>\n      </g>\n     </g>\n    </g>\n    <g id=\"xtick_3\">\n     <g id=\"line2d_5\">\n      <path clip-path=\"url(#p9654b016b4)\" d=\"M 147.081323 224.64 \nL 147.081323 7.2 \n\" style=\"fill:none;stroke:#b0b0b0;stroke-linecap:square;stroke-width:0.8;\"/>\n     </g>\n     <g id=\"line2d_6\">\n      <g>\n       <use style=\"stroke:#000000;stroke-width:0.8;\" x=\"147.081323\" xlink:href=\"#m595fd6c8ea\" y=\"224.64\"/>\n      </g>\n     </g>\n     <g id=\"text_3\">\n      <!-- 2000 -->\n      <defs>\n       <path d=\"M 19.1875 8.296875 \nL 53.609375 8.296875 \nL 53.609375 0 \nL 7.328125 0 \nL 7.328125 8.296875 \nQ 12.9375 14.109375 22.625 23.890625 \nQ 32.328125 33.6875 34.8125 36.53125 \nQ 39.546875 41.84375 41.421875 45.53125 \nQ 43.3125 49.21875 43.3125 52.78125 \nQ 43.3125 58.59375 39.234375 62.25 \nQ 35.15625 65.921875 28.609375 65.921875 \nQ 23.96875 65.921875 18.8125 64.3125 \nQ 13.671875 62.703125 7.8125 59.421875 \nL 7.8125 69.390625 \nQ 13.765625 71.78125 18.9375 73 \nQ 24.125 74.21875 28.421875 74.21875 \nQ 39.75 74.21875 46.484375 68.546875 \nQ 53.21875 62.890625 53.21875 53.421875 \nQ 53.21875 48.921875 51.53125 44.890625 \nQ 49.859375 40.875 45.40625 35.40625 \nQ 44.1875 33.984375 37.640625 27.21875 \nQ 31.109375 20.453125 19.1875 8.296875 \nz\n\" id=\"DejaVuSans-50\"/>\n      </defs>\n      <g transform=\"translate(134.356323 239.238437)scale(0.1 -0.1)\">\n       <use xlink:href=\"#DejaVuSans-50\"/>\n       <use x=\"63.623047\" xlink:href=\"#DejaVuSans-48\"/>\n       <use x=\"127.246094\" xlink:href=\"#DejaVuSans-48\"/>\n       <use x=\"190.869141\" xlink:href=\"#DejaVuSans-48\"/>\n      </g>\n     </g>\n    </g>\n    <g id=\"xtick_4\">\n     <g id=\"line2d_7\">\n      <path clip-path=\"url(#p9654b016b4)\" d=\"M 193.442882 224.64 \nL 193.442882 7.2 \n\" style=\"fill:none;stroke:#b0b0b0;stroke-linecap:square;stroke-width:0.8;\"/>\n     </g>\n     <g id=\"line2d_8\">\n      <g>\n       <use style=\"stroke:#000000;stroke-width:0.8;\" x=\"193.442882\" xlink:href=\"#m595fd6c8ea\" y=\"224.64\"/>\n      </g>\n     </g>\n     <g id=\"text_4\">\n      <!-- 3000 -->\n      <defs>\n       <path d=\"M 40.578125 39.3125 \nQ 47.65625 37.796875 51.625 33 \nQ 55.609375 28.21875 55.609375 21.1875 \nQ 55.609375 10.40625 48.1875 4.484375 \nQ 40.765625 -1.421875 27.09375 -1.421875 \nQ 22.515625 -1.421875 17.65625 -0.515625 \nQ 12.796875 0.390625 7.625 2.203125 \nL 7.625 11.71875 \nQ 11.71875 9.328125 16.59375 8.109375 \nQ 21.484375 6.890625 26.8125 6.890625 \nQ 36.078125 6.890625 40.9375 10.546875 \nQ 45.796875 14.203125 45.796875 21.1875 \nQ 45.796875 27.640625 41.28125 31.265625 \nQ 36.765625 34.90625 28.71875 34.90625 \nL 20.21875 34.90625 \nL 20.21875 43.015625 \nL 29.109375 43.015625 \nQ 36.375 43.015625 40.234375 45.921875 \nQ 44.09375 48.828125 44.09375 54.296875 \nQ 44.09375 59.90625 40.109375 62.90625 \nQ 36.140625 65.921875 28.71875 65.921875 \nQ 24.65625 65.921875 20.015625 65.03125 \nQ 15.375 64.15625 9.8125 62.3125 \nL 9.8125 71.09375 \nQ 15.4375 72.65625 20.34375 73.4375 \nQ 25.25 74.21875 29.59375 74.21875 \nQ 40.828125 74.21875 47.359375 69.109375 \nQ 53.90625 64.015625 53.90625 55.328125 \nQ 53.90625 49.265625 50.4375 45.09375 \nQ 46.96875 40.921875 40.578125 39.3125 \nz\n\" id=\"DejaVuSans-51\"/>\n      </defs>\n      <g transform=\"translate(180.717882 239.238437)scale(0.1 -0.1)\">\n       <use xlink:href=\"#DejaVuSans-51\"/>\n       <use x=\"63.623047\" xlink:href=\"#DejaVuSans-48\"/>\n       <use x=\"127.246094\" xlink:href=\"#DejaVuSans-48\"/>\n       <use x=\"190.869141\" xlink:href=\"#DejaVuSans-48\"/>\n      </g>\n     </g>\n    </g>\n    <g id=\"xtick_5\">\n     <g id=\"line2d_9\">\n      <path clip-path=\"url(#p9654b016b4)\" d=\"M 239.804442 224.64 \nL 239.804442 7.2 \n\" style=\"fill:none;stroke:#b0b0b0;stroke-linecap:square;stroke-width:0.8;\"/>\n     </g>\n     <g id=\"line2d_10\">\n      <g>\n       <use style=\"stroke:#000000;stroke-width:0.8;\" x=\"239.804442\" xlink:href=\"#m595fd6c8ea\" y=\"224.64\"/>\n      </g>\n     </g>\n     <g id=\"text_5\">\n      <!-- 4000 -->\n      <defs>\n       <path d=\"M 37.796875 64.3125 \nL 12.890625 25.390625 \nL 37.796875 25.390625 \nz\nM 35.203125 72.90625 \nL 47.609375 72.90625 \nL 47.609375 25.390625 \nL 58.015625 25.390625 \nL 58.015625 17.1875 \nL 47.609375 17.1875 \nL 47.609375 0 \nL 37.796875 0 \nL 37.796875 17.1875 \nL 4.890625 17.1875 \nL 4.890625 26.703125 \nz\n\" id=\"DejaVuSans-52\"/>\n      </defs>\n      <g transform=\"translate(227.079442 239.238437)scale(0.1 -0.1)\">\n       <use xlink:href=\"#DejaVuSans-52\"/>\n       <use x=\"63.623047\" xlink:href=\"#DejaVuSans-48\"/>\n       <use x=\"127.246094\" xlink:href=\"#DejaVuSans-48\"/>\n       <use x=\"190.869141\" xlink:href=\"#DejaVuSans-48\"/>\n      </g>\n     </g>\n    </g>\n    <g id=\"xtick_6\">\n     <g id=\"line2d_11\">\n      <path clip-path=\"url(#p9654b016b4)\" d=\"M 286.166001 224.64 \nL 286.166001 7.2 \n\" style=\"fill:none;stroke:#b0b0b0;stroke-linecap:square;stroke-width:0.8;\"/>\n     </g>\n     <g id=\"line2d_12\">\n      <g>\n       <use style=\"stroke:#000000;stroke-width:0.8;\" x=\"286.166001\" xlink:href=\"#m595fd6c8ea\" y=\"224.64\"/>\n      </g>\n     </g>\n     <g id=\"text_6\">\n      <!-- 5000 -->\n      <defs>\n       <path d=\"M 10.796875 72.90625 \nL 49.515625 72.90625 \nL 49.515625 64.59375 \nL 19.828125 64.59375 \nL 19.828125 46.734375 \nQ 21.96875 47.46875 24.109375 47.828125 \nQ 26.265625 48.1875 28.421875 48.1875 \nQ 40.625 48.1875 47.75 41.5 \nQ 54.890625 34.8125 54.890625 23.390625 \nQ 54.890625 11.625 47.5625 5.09375 \nQ 40.234375 -1.421875 26.90625 -1.421875 \nQ 22.3125 -1.421875 17.546875 -0.640625 \nQ 12.796875 0.140625 7.71875 1.703125 \nL 7.71875 11.625 \nQ 12.109375 9.234375 16.796875 8.0625 \nQ 21.484375 6.890625 26.703125 6.890625 \nQ 35.15625 6.890625 40.078125 11.328125 \nQ 45.015625 15.765625 45.015625 23.390625 \nQ 45.015625 31 40.078125 35.4375 \nQ 35.15625 39.890625 26.703125 39.890625 \nQ 22.75 39.890625 18.8125 39.015625 \nQ 14.890625 38.140625 10.796875 36.28125 \nz\n\" id=\"DejaVuSans-53\"/>\n      </defs>\n      <g transform=\"translate(273.441001 239.238437)scale(0.1 -0.1)\">\n       <use xlink:href=\"#DejaVuSans-53\"/>\n       <use x=\"63.623047\" xlink:href=\"#DejaVuSans-48\"/>\n       <use x=\"127.246094\" xlink:href=\"#DejaVuSans-48\"/>\n       <use x=\"190.869141\" xlink:href=\"#DejaVuSans-48\"/>\n      </g>\n     </g>\n    </g>\n    <g id=\"xtick_7\">\n     <g id=\"line2d_13\">\n      <path clip-path=\"url(#p9654b016b4)\" d=\"M 332.52756 224.64 \nL 332.52756 7.2 \n\" style=\"fill:none;stroke:#b0b0b0;stroke-linecap:square;stroke-width:0.8;\"/>\n     </g>\n     <g id=\"line2d_14\">\n      <g>\n       <use style=\"stroke:#000000;stroke-width:0.8;\" x=\"332.52756\" xlink:href=\"#m595fd6c8ea\" y=\"224.64\"/>\n      </g>\n     </g>\n     <g id=\"text_7\">\n      <!-- 6000 -->\n      <defs>\n       <path d=\"M 33.015625 40.375 \nQ 26.375 40.375 22.484375 35.828125 \nQ 18.609375 31.296875 18.609375 23.390625 \nQ 18.609375 15.53125 22.484375 10.953125 \nQ 26.375 6.390625 33.015625 6.390625 \nQ 39.65625 6.390625 43.53125 10.953125 \nQ 47.40625 15.53125 47.40625 23.390625 \nQ 47.40625 31.296875 43.53125 35.828125 \nQ 39.65625 40.375 33.015625 40.375 \nz\nM 52.59375 71.296875 \nL 52.59375 62.3125 \nQ 48.875 64.0625 45.09375 64.984375 \nQ 41.3125 65.921875 37.59375 65.921875 \nQ 27.828125 65.921875 22.671875 59.328125 \nQ 17.53125 52.734375 16.796875 39.40625 \nQ 19.671875 43.65625 24.015625 45.921875 \nQ 28.375 48.1875 33.59375 48.1875 \nQ 44.578125 48.1875 50.953125 41.515625 \nQ 57.328125 34.859375 57.328125 23.390625 \nQ 57.328125 12.15625 50.6875 5.359375 \nQ 44.046875 -1.421875 33.015625 -1.421875 \nQ 20.359375 -1.421875 13.671875 8.265625 \nQ 6.984375 17.96875 6.984375 36.375 \nQ 6.984375 53.65625 15.1875 63.9375 \nQ 23.390625 74.21875 37.203125 74.21875 \nQ 40.921875 74.21875 44.703125 73.484375 \nQ 48.484375 72.75 52.59375 71.296875 \nz\n\" id=\"DejaVuSans-54\"/>\n      </defs>\n      <g transform=\"translate(319.80256 239.238437)scale(0.1 -0.1)\">\n       <use xlink:href=\"#DejaVuSans-54\"/>\n       <use x=\"63.623047\" xlink:href=\"#DejaVuSans-48\"/>\n       <use x=\"127.246094\" xlink:href=\"#DejaVuSans-48\"/>\n       <use x=\"190.869141\" xlink:href=\"#DejaVuSans-48\"/>\n      </g>\n     </g>\n    </g>\n   </g>\n   <g id=\"matplotlib.axis_2\">\n    <g id=\"ytick_1\">\n     <g id=\"line2d_15\">\n      <path clip-path=\"url(#p9654b016b4)\" d=\"M 39.65 224.64 \nL 374.45 224.64 \n\" style=\"fill:none;stroke:#b0b0b0;stroke-linecap:square;stroke-width:0.8;\"/>\n     </g>\n     <g id=\"line2d_16\">\n      <defs>\n       <path d=\"M 0 0 \nL -3.5 0 \n\" id=\"m6628e1cd3e\" style=\"stroke:#000000;stroke-width:0.8;\"/>\n      </defs>\n      <g>\n       <use style=\"stroke:#000000;stroke-width:0.8;\" x=\"39.65\" xlink:href=\"#m6628e1cd3e\" y=\"224.64\"/>\n      </g>\n     </g>\n     <g id=\"text_8\">\n      <!-- 0 -->\n      <g transform=\"translate(26.2875 228.439219)scale(0.1 -0.1)\">\n       <use xlink:href=\"#DejaVuSans-48\"/>\n      </g>\n     </g>\n    </g>\n    <g id=\"ytick_2\">\n     <g id=\"line2d_17\">\n      <path clip-path=\"url(#p9654b016b4)\" d=\"M 39.65 183.979149 \nL 374.45 183.979149 \n\" style=\"fill:none;stroke:#b0b0b0;stroke-linecap:square;stroke-width:0.8;\"/>\n     </g>\n     <g id=\"line2d_18\">\n      <g>\n       <use style=\"stroke:#000000;stroke-width:0.8;\" x=\"39.65\" xlink:href=\"#m6628e1cd3e\" y=\"183.979149\"/>\n      </g>\n     </g>\n     <g id=\"text_9\">\n      <!-- 1000 -->\n      <g transform=\"translate(7.2 187.778368)scale(0.1 -0.1)\">\n       <use xlink:href=\"#DejaVuSans-49\"/>\n       <use x=\"63.623047\" xlink:href=\"#DejaVuSans-48\"/>\n       <use x=\"127.246094\" xlink:href=\"#DejaVuSans-48\"/>\n       <use x=\"190.869141\" xlink:href=\"#DejaVuSans-48\"/>\n      </g>\n     </g>\n    </g>\n    <g id=\"ytick_3\">\n     <g id=\"line2d_19\">\n      <path clip-path=\"url(#p9654b016b4)\" d=\"M 39.65 143.318298 \nL 374.45 143.318298 \n\" style=\"fill:none;stroke:#b0b0b0;stroke-linecap:square;stroke-width:0.8;\"/>\n     </g>\n     <g id=\"line2d_20\">\n      <g>\n       <use style=\"stroke:#000000;stroke-width:0.8;\" x=\"39.65\" xlink:href=\"#m6628e1cd3e\" y=\"143.318298\"/>\n      </g>\n     </g>\n     <g id=\"text_10\">\n      <!-- 2000 -->\n      <g transform=\"translate(7.2 147.117517)scale(0.1 -0.1)\">\n       <use xlink:href=\"#DejaVuSans-50\"/>\n       <use x=\"63.623047\" xlink:href=\"#DejaVuSans-48\"/>\n       <use x=\"127.246094\" xlink:href=\"#DejaVuSans-48\"/>\n       <use x=\"190.869141\" xlink:href=\"#DejaVuSans-48\"/>\n      </g>\n     </g>\n    </g>\n    <g id=\"ytick_4\">\n     <g id=\"line2d_21\">\n      <path clip-path=\"url(#p9654b016b4)\" d=\"M 39.65 102.657447 \nL 374.45 102.657447 \n\" style=\"fill:none;stroke:#b0b0b0;stroke-linecap:square;stroke-width:0.8;\"/>\n     </g>\n     <g id=\"line2d_22\">\n      <g>\n       <use style=\"stroke:#000000;stroke-width:0.8;\" x=\"39.65\" xlink:href=\"#m6628e1cd3e\" y=\"102.657447\"/>\n      </g>\n     </g>\n     <g id=\"text_11\">\n      <!-- 3000 -->\n      <g transform=\"translate(7.2 106.456666)scale(0.1 -0.1)\">\n       <use xlink:href=\"#DejaVuSans-51\"/>\n       <use x=\"63.623047\" xlink:href=\"#DejaVuSans-48\"/>\n       <use x=\"127.246094\" xlink:href=\"#DejaVuSans-48\"/>\n       <use x=\"190.869141\" xlink:href=\"#DejaVuSans-48\"/>\n      </g>\n     </g>\n    </g>\n    <g id=\"ytick_5\">\n     <g id=\"line2d_23\">\n      <path clip-path=\"url(#p9654b016b4)\" d=\"M 39.65 61.996596 \nL 374.45 61.996596 \n\" style=\"fill:none;stroke:#b0b0b0;stroke-linecap:square;stroke-width:0.8;\"/>\n     </g>\n     <g id=\"line2d_24\">\n      <g>\n       <use style=\"stroke:#000000;stroke-width:0.8;\" x=\"39.65\" xlink:href=\"#m6628e1cd3e\" y=\"61.996596\"/>\n      </g>\n     </g>\n     <g id=\"text_12\">\n      <!-- 4000 -->\n      <g transform=\"translate(7.2 65.795815)scale(0.1 -0.1)\">\n       <use xlink:href=\"#DejaVuSans-52\"/>\n       <use x=\"63.623047\" xlink:href=\"#DejaVuSans-48\"/>\n       <use x=\"127.246094\" xlink:href=\"#DejaVuSans-48\"/>\n       <use x=\"190.869141\" xlink:href=\"#DejaVuSans-48\"/>\n      </g>\n     </g>\n    </g>\n    <g id=\"ytick_6\">\n     <g id=\"line2d_25\">\n      <path clip-path=\"url(#p9654b016b4)\" d=\"M 39.65 21.335745 \nL 374.45 21.335745 \n\" style=\"fill:none;stroke:#b0b0b0;stroke-linecap:square;stroke-width:0.8;\"/>\n     </g>\n     <g id=\"line2d_26\">\n      <g>\n       <use style=\"stroke:#000000;stroke-width:0.8;\" x=\"39.65\" xlink:href=\"#m6628e1cd3e\" y=\"21.335745\"/>\n      </g>\n     </g>\n     <g id=\"text_13\">\n      <!-- 5000 -->\n      <g transform=\"translate(7.2 25.134964)scale(0.1 -0.1)\">\n       <use xlink:href=\"#DejaVuSans-53\"/>\n       <use x=\"63.623047\" xlink:href=\"#DejaVuSans-48\"/>\n       <use x=\"127.246094\" xlink:href=\"#DejaVuSans-48\"/>\n       <use x=\"190.869141\" xlink:href=\"#DejaVuSans-48\"/>\n      </g>\n     </g>\n    </g>\n   </g>\n   <g id=\"patch_33\">\n    <path d=\"M 39.65 224.64 \nL 39.65 7.2 \n\" style=\"fill:none;stroke:#000000;stroke-linecap:square;stroke-linejoin:miter;stroke-width:0.8;\"/>\n   </g>\n   <g id=\"patch_34\">\n    <path d=\"M 374.45 224.64 \nL 374.45 7.2 \n\" style=\"fill:none;stroke:#000000;stroke-linecap:square;stroke-linejoin:miter;stroke-width:0.8;\"/>\n   </g>\n   <g id=\"patch_35\">\n    <path d=\"M 39.65 224.64 \nL 374.45 224.64 \n\" style=\"fill:none;stroke:#000000;stroke-linecap:square;stroke-linejoin:miter;stroke-width:0.8;\"/>\n   </g>\n   <g id=\"patch_36\">\n    <path d=\"M 39.65 7.2 \nL 374.45 7.2 \n\" style=\"fill:none;stroke:#000000;stroke-linecap:square;stroke-linejoin:miter;stroke-width:0.8;\"/>\n   </g>\n  </g>\n </g>\n <defs>\n  <clipPath id=\"p9654b016b4\">\n   <rect height=\"217.44\" width=\"334.8\" x=\"39.65\" y=\"7.2\"/>\n  </clipPath>\n </defs>\n</svg>\n",
      "image/png": "[encoded data removed]"
     },
     "metadata": {
      "needs_background": "light"
     }
    }
   ],
   "source": [
    "db['num_pages'].hist(bins=30)"
   ]
  },
  {
   "cell_type": "code",
   "execution_count": 36,
   "metadata": {},
   "outputs": [
    {
     "output_type": "execute_result",
     "data": {
      "text/plain": [
       "                  bookID                                              title  \\\n",
       "publication_date                                                              \n",
       "2004-09-13             8  Harry Potter Boxed Set  Books 1-5 (Harry Potte...   \n",
       "2005-09-12            10       Harry Potter Collection (Harry Potter  #1-6)   \n",
       "2012-09-25            30  J.R.R. Tolkien 4-Book Boxed Set: The Hobbit an...   \n",
       "2004-10-21            31  The Lord of the Rings (The Lord of the Rings  ...   \n",
       "2002-10-01            35  The Lord of the Rings (The Lord of the Rings  ...   \n",
       "...                  ...                                                ...   \n",
       "1999-12-02         42932                         Whirlwind (Asian Saga  #6)   \n",
       "2002-02-05         42986         War and Remembrance (The Henry Family  #2)   \n",
       "1998-11-15         43888  The Sword of Truth  Boxed Set I: Wizard's Firs...   \n",
       "1981-03-05         44613             Remembrance of Things Past (Boxed Set)   \n",
       "2007-03-27         45251            Judas Unchained (Commonwealth Saga  #2)   \n",
       "\n",
       "                                                            authors  \\\n",
       "publication_date                                                      \n",
       "2004-09-13                               J.K. Rowling,Mary GrandPré   \n",
       "2005-09-12                                             J.K. Rowling   \n",
       "2012-09-25                                           J.R.R. Tolkien   \n",
       "2004-10-21                                           J.R.R. Tolkien   \n",
       "2002-10-01                                 J.R.R. Tolkien,Alan  Lee   \n",
       "...                                                             ...   \n",
       "1999-12-02                                            James Clavell   \n",
       "2002-02-05                                              Herman Wouk   \n",
       "1998-11-15                                           Terry Goodkind   \n",
       "1981-03-05        Marcel Proust,C.K. Scott Moncrieff,Frederick A...   \n",
       "2007-03-27                                        Peter F. Hamilton   \n",
       "\n",
       "                  average_rating        isbn         isbn13 language_code  \\\n",
       "publication_date                                                            \n",
       "2004-09-13                  4.78  0439682584  9780439682589           eng   \n",
       "2005-09-12                  4.73  0439827604  9780439827607           eng   \n",
       "2012-09-25                  4.59  0345538374  9780345538376           eng   \n",
       "2004-10-21                  4.50  0618517650  9780618517657           eng   \n",
       "2002-10-01                  4.50  0618260587  9780618260584         en-US   \n",
       "...                          ...         ...            ...           ...   \n",
       "1999-12-02                  3.82  0340766182  9780340766187           eng   \n",
       "2002-02-05                  4.41  0316954993  9780316954990           eng   \n",
       "1998-11-15                  4.29  0812575601  9780812575606         en-US   \n",
       "1981-03-05                  4.34  0701125594  9780701125592           eng   \n",
       "2007-03-27                  4.31  0345461673  9780345461674         en-US   \n",
       "\n",
       "                  num_pages  ratings_count  text_reviews_count  \\\n",
       "publication_date                                                 \n",
       "2004-09-13             2690          41428                 164   \n",
       "2005-09-12             3342          28242                 808   \n",
       "2012-09-25             1728         101233                1550   \n",
       "2004-10-21             1184           1710                  91   \n",
       "2002-10-01             1216           1618                 140   \n",
       "...                     ...            ...                 ...   \n",
       "1999-12-02             1231           5626                 164   \n",
       "2002-02-05             1042          29555                 680   \n",
       "1998-11-15             2480           4196                  81   \n",
       "1981-03-05             3400              6                   1   \n",
       "2007-03-27             1008            738                  68   \n",
       "\n",
       "                 publication_date                  publisher  decade  quarter  \\\n",
       "publication_date                                                                \n",
       "2004-09-13             2004-09-13                 Scholastic    2000        3   \n",
       "2005-09-12             2005-09-12                 Scholastic    2000        3   \n",
       "2012-09-25             2012-09-25           Ballantine Books    2010        3   \n",
       "2004-10-21             2004-10-21  Houghton Mifflin Harcourt    2000        4   \n",
       "2002-10-01             2002-10-01  Houghton Mifflin Harcourt    2000        4   \n",
       "...                           ...                        ...     ...      ...   \n",
       "1999-12-02             1999-12-02                     Morrow    1990        4   \n",
       "2002-02-05             2002-02-05             Back Bay Books    2000        1   \n",
       "1998-11-15             1998-11-15                  Tor Books    1990        4   \n",
       "1981-03-05             1981-03-05            Chatto & Windus    1980        1   \n",
       "2007-03-27             2007-03-27                    Del Rey    2000        1   \n",
       "\n",
       "                  tra_co  \n",
       "publication_date          \n",
       "2004-09-13             1  \n",
       "2005-09-12             0  \n",
       "2012-09-25             0  \n",
       "2004-10-21             0  \n",
       "2002-10-01             1  \n",
       "...                  ...  \n",
       "1999-12-02             0  \n",
       "2002-02-05             0  \n",
       "1998-11-15             0  \n",
       "1981-03-05             1  \n",
       "2007-03-27             0  \n",
       "\n",
       "[216 rows x 15 columns]"
      ],
      "text/html": "<div>\n<style scoped>\n    .dataframe tbody tr th:only-of-type {\n        vertical-align: middle;\n    }\n\n    .dataframe tbody tr th {\n        vertical-align: top;\n    }\n\n    .dataframe thead th {\n        text-align: right;\n    }\n</style>\n<table border=\"1\" class=\"dataframe\">\n  <thead>\n    <tr style=\"text-align: right;\">\n      <th></th>\n      <th>bookID</th>\n      <th>title</th>\n      <th>authors</th>\n      <th>average_rating</th>\n      <th>isbn</th>\n      <th>isbn13</th>\n      <th>language_code</th>\n      <th>num_pages</th>\n      <th>ratings_count</th>\n      <th>text_reviews_count</th>\n      <th>publication_date</th>\n      <th>publisher</th>\n      <th>decade</th>\n      <th>quarter</th>\n      <th>tra_co</th>\n    </tr>\n    <tr>\n      <th>publication_date</th>\n      <th></th>\n      <th></th>\n      <th></th>\n      <th></th>\n      <th></th>\n      <th></th>\n      <th></th>\n      <th></th>\n      <th></th>\n      <th></th>\n      <th></th>\n      <th></th>\n      <th></th>\n      <th></th>\n      <th></th>\n    </tr>\n  </thead>\n  <tbody>\n    <tr>\n      <th>2004-09-13</th>\n      <td>8</td>\n      <td>Harry Potter Boxed Set  Books 1-5 (Harry Potte...</td>\n      <td>J.K. Rowling,Mary GrandPré</td>\n      <td>4.78</td>\n      <td>0439682584</td>\n      <td>9780439682589</td>\n      <td>eng</td>\n      <td>2690</td>\n      <td>41428</td>\n      <td>164</td>\n      <td>2004-09-13</td>\n      <td>Scholastic</td>\n      <td>2000</td>\n      <td>3</td>\n      <td>1</td>\n    </tr>\n    <tr>\n      <th>2005-09-12</th>\n      <td>10</td>\n      <td>Harry Potter Collection (Harry Potter  #1-6)</td>\n      <td>J.K. Rowling</td>\n      <td>4.73</td>\n      <td>0439827604</td>\n      <td>9780439827607</td>\n      <td>eng</td>\n      <td>3342</td>\n      <td>28242</td>\n      <td>808</td>\n      <td>2005-09-12</td>\n      <td>Scholastic</td>\n      <td>2000</td>\n      <td>3</td>\n      <td>0</td>\n    </tr>\n    <tr>\n      <th>2012-09-25</th>\n      <td>30</td>\n      <td>J.R.R. Tolkien 4-Book Boxed Set: The Hobbit an...</td>\n      <td>J.R.R. Tolkien</td>\n      <td>4.59</td>\n      <td>0345538374</td>\n      <td>9780345538376</td>\n      <td>eng</td>\n      <td>1728</td>\n      <td>101233</td>\n      <td>1550</td>\n      <td>2012-09-25</td>\n      <td>Ballantine Books</td>\n      <td>2010</td>\n      <td>3</td>\n      <td>0</td>\n    </tr>\n    <tr>\n      <th>2004-10-21</th>\n      <td>31</td>\n      <td>The Lord of the Rings (The Lord of the Rings  ...</td>\n      <td>J.R.R. Tolkien</td>\n      <td>4.50</td>\n      <td>0618517650</td>\n      <td>9780618517657</td>\n      <td>eng</td>\n      <td>1184</td>\n      <td>1710</td>\n      <td>91</td>\n      <td>2004-10-21</td>\n      <td>Houghton Mifflin Harcourt</td>\n      <td>2000</td>\n      <td>4</td>\n      <td>0</td>\n    </tr>\n    <tr>\n      <th>2002-10-01</th>\n      <td>35</td>\n      <td>The Lord of the Rings (The Lord of the Rings  ...</td>\n      <td>J.R.R. Tolkien,Alan  Lee</td>\n      <td>4.50</td>\n      <td>0618260587</td>\n      <td>9780618260584</td>\n      <td>en-US</td>\n      <td>1216</td>\n      <td>1618</td>\n      <td>140</td>\n      <td>2002-10-01</td>\n      <td>Houghton Mifflin Harcourt</td>\n      <td>2000</td>\n      <td>4</td>\n      <td>1</td>\n    </tr>\n    <tr>\n      <th>...</th>\n      <td>...</td>\n      <td>...</td>\n      <td>...</td>\n      <td>...</td>\n      <td>...</td>\n      <td>...</td>\n      <td>...</td>\n      <td>...</td>\n      <td>...</td>\n      <td>...</td>\n      <td>...</td>\n      <td>...</td>\n      <td>...</td>\n      <td>...</td>\n      <td>...</td>\n    </tr>\n    <tr>\n      <th>1999-12-02</th>\n      <td>42932</td>\n      <td>Whirlwind (Asian Saga  #6)</td>\n      <td>James Clavell</td>\n      <td>3.82</td>\n      <td>0340766182</td>\n      <td>9780340766187</td>\n      <td>eng</td>\n      <td>1231</td>\n      <td>5626</td>\n      <td>164</td>\n      <td>1999-12-02</td>\n      <td>Morrow</td>\n      <td>1990</td>\n      <td>4</td>\n      <td>0</td>\n    </tr>\n    <tr>\n      <th>2002-02-05</th>\n      <td>42986</td>\n      <td>War and Remembrance (The Henry Family  #2)</td>\n      <td>Herman Wouk</td>\n      <td>4.41</td>\n      <td>0316954993</td>\n      <td>9780316954990</td>\n      <td>eng</td>\n      <td>1042</td>\n      <td>29555</td>\n      <td>680</td>\n      <td>2002-02-05</td>\n      <td>Back Bay Books</td>\n      <td>2000</td>\n      <td>1</td>\n      <td>0</td>\n    </tr>\n    <tr>\n      <th>1998-11-15</th>\n      <td>43888</td>\n      <td>The Sword of Truth  Boxed Set I: Wizard's Firs...</td>\n      <td>Terry Goodkind</td>\n      <td>4.29</td>\n      <td>0812575601</td>\n      <td>9780812575606</td>\n      <td>en-US</td>\n      <td>2480</td>\n      <td>4196</td>\n      <td>81</td>\n      <td>1998-11-15</td>\n      <td>Tor Books</td>\n      <td>1990</td>\n      <td>4</td>\n      <td>0</td>\n    </tr>\n    <tr>\n      <th>1981-03-05</th>\n      <td>44613</td>\n      <td>Remembrance of Things Past (Boxed Set)</td>\n      <td>Marcel Proust,C.K. Scott Moncrieff,Frederick A...</td>\n      <td>4.34</td>\n      <td>0701125594</td>\n      <td>9780701125592</td>\n      <td>eng</td>\n      <td>3400</td>\n      <td>6</td>\n      <td>1</td>\n      <td>1981-03-05</td>\n      <td>Chatto &amp; Windus</td>\n      <td>1980</td>\n      <td>1</td>\n      <td>1</td>\n    </tr>\n    <tr>\n      <th>2007-03-27</th>\n      <td>45251</td>\n      <td>Judas Unchained (Commonwealth Saga  #2)</td>\n      <td>Peter F. Hamilton</td>\n      <td>4.31</td>\n      <td>0345461673</td>\n      <td>9780345461674</td>\n      <td>en-US</td>\n      <td>1008</td>\n      <td>738</td>\n      <td>68</td>\n      <td>2007-03-27</td>\n      <td>Del Rey</td>\n      <td>2000</td>\n      <td>1</td>\n      <td>0</td>\n    </tr>\n  </tbody>\n</table>\n<p>216 rows × 15 columns</p>\n</div>"
     },
     "metadata": {},
     "execution_count": 36
    }
   ],
   "source": [
    "db[db['num_pages'] > 1000]"
   ]
  },
  {
   "cell_type": "code",
   "execution_count": 37,
   "metadata": {},
   "outputs": [
    {
     "output_type": "execute_result",
     "data": {
      "text/plain": [
       "count    10862.000000\n",
       "mean         3.933448\n",
       "std          0.348318\n",
       "min          0.000000\n",
       "25%          3.770000\n",
       "50%          3.960000\n",
       "75%          4.130000\n",
       "max          5.000000\n",
       "Name: average_rating, dtype: float64"
      ]
     },
     "metadata": {},
     "execution_count": 37
    }
   ],
   "source": [
    "db['average_rating'].describe()"
   ]
  },
  {
   "cell_type": "code",
   "execution_count": 38,
   "metadata": {},
   "outputs": [
    {
     "output_type": "execute_result",
     "data": {
      "text/plain": [
       "Empty DataFrame\n",
       "Columns: [bookID, title, authors, average_rating, isbn, isbn13, language_code, num_pages, ratings_count, text_reviews_count, publication_date, publisher, decade, quarter, tra_co]\n",
       "Index: []"
      ],
      "text/html": "<div>\n<style scoped>\n    .dataframe tbody tr th:only-of-type {\n        vertical-align: middle;\n    }\n\n    .dataframe tbody tr th {\n        vertical-align: top;\n    }\n\n    .dataframe thead th {\n        text-align: right;\n    }\n</style>\n<table border=\"1\" class=\"dataframe\">\n  <thead>\n    <tr style=\"text-align: right;\">\n      <th></th>\n      <th>bookID</th>\n      <th>title</th>\n      <th>authors</th>\n      <th>average_rating</th>\n      <th>isbn</th>\n      <th>isbn13</th>\n      <th>language_code</th>\n      <th>num_pages</th>\n      <th>ratings_count</th>\n      <th>text_reviews_count</th>\n      <th>publication_date</th>\n      <th>publisher</th>\n      <th>decade</th>\n      <th>quarter</th>\n      <th>tra_co</th>\n    </tr>\n    <tr>\n      <th>publication_date</th>\n      <th></th>\n      <th></th>\n      <th></th>\n      <th></th>\n      <th></th>\n      <th></th>\n      <th></th>\n      <th></th>\n      <th></th>\n      <th></th>\n      <th></th>\n      <th></th>\n      <th></th>\n      <th></th>\n      <th></th>\n    </tr>\n  </thead>\n  <tbody>\n  </tbody>\n</table>\n</div>"
     },
     "metadata": {},
     "execution_count": 38
    }
   ],
   "source": [
    "db[ (db['average_rating'] == 0) & (db['ratings_count'] > 0)]"
   ]
  },
  {
   "cell_type": "code",
   "execution_count": 39,
   "metadata": {},
   "outputs": [
    {
     "output_type": "execute_result",
     "data": {
      "text/plain": [
       "24"
      ]
     },
     "metadata": {},
     "execution_count": 39
    }
   ],
   "source": [
    "db[db['average_rating'] == 0]['average_rating'].count()"
   ]
  },
  {
   "cell_type": "code",
   "execution_count": 40,
   "metadata": {},
   "outputs": [],
   "source": [
    "db = db[db['average_rating'] != 0]"
   ]
  },
  {
   "cell_type": "code",
   "execution_count": 41,
   "metadata": {},
   "outputs": [
    {
     "output_type": "execute_result",
     "data": {
      "text/plain": [
       "1.0"
      ]
     },
     "metadata": {},
     "execution_count": 41
    }
   ],
   "source": [
    "db['average_rating'].min()"
   ]
  },
  {
   "cell_type": "code",
   "execution_count": 42,
   "metadata": {},
   "outputs": [
    {
     "output_type": "execute_result",
     "data": {
      "text/plain": [
       "                  bookID                                              title  \\\n",
       "publication_date                                                              \n",
       "2006-09-16             1  Harry Potter and the Half-Blood Prince (Harry ...   \n",
       "2004-09-01             2  Harry Potter and the Order of the Phoenix (Har...   \n",
       "2003-11-01             4  Harry Potter and the Chamber of Secrets (Harry...   \n",
       "2004-05-01             5  Harry Potter and the Prisoner of Azkaban (Harr...   \n",
       "2004-09-13             8  Harry Potter Boxed Set  Books 1-5 (Harry Potte...   \n",
       "\n",
       "                                     authors  average_rating        isbn  \\\n",
       "publication_date                                                           \n",
       "2006-09-16        J.K. Rowling,Mary GrandPré            4.57  0439785960   \n",
       "2004-09-01        J.K. Rowling,Mary GrandPré            4.49  0439358078   \n",
       "2003-11-01                      J.K. Rowling            4.42  0439554896   \n",
       "2004-05-01        J.K. Rowling,Mary GrandPré            4.56  043965548X   \n",
       "2004-09-13        J.K. Rowling,Mary GrandPré            4.78  0439682584   \n",
       "\n",
       "                         isbn13 language_code  num_pages  ratings_count  \\\n",
       "publication_date                                                          \n",
       "2006-09-16        9780439785969           eng        652        2095690   \n",
       "2004-09-01        9780439358071           eng        870        2153167   \n",
       "2003-11-01        9780439554893           eng        352           6333   \n",
       "2004-05-01        9780439655484           eng        435        2339585   \n",
       "2004-09-13        9780439682589           eng       2690          41428   \n",
       "\n",
       "                  text_reviews_count publication_date        publisher  \\\n",
       "publication_date                                                         \n",
       "2006-09-16                     27591       2006-09-16  Scholastic Inc.   \n",
       "2004-09-01                     29221       2004-09-01  Scholastic Inc.   \n",
       "2003-11-01                       244       2003-11-01       Scholastic   \n",
       "2004-05-01                     36325       2004-05-01  Scholastic Inc.   \n",
       "2004-09-13                       164       2004-09-13       Scholastic   \n",
       "\n",
       "                  decade  quarter  tra_co  \n",
       "publication_date                           \n",
       "2006-09-16          2000        3       1  \n",
       "2004-09-01          2000        3       1  \n",
       "2003-11-01          2000        4       0  \n",
       "2004-05-01          2000        2       1  \n",
       "2004-09-13          2000        3       1  "
      ],
      "text/html": "<div>\n<style scoped>\n    .dataframe tbody tr th:only-of-type {\n        vertical-align: middle;\n    }\n\n    .dataframe tbody tr th {\n        vertical-align: top;\n    }\n\n    .dataframe thead th {\n        text-align: right;\n    }\n</style>\n<table border=\"1\" class=\"dataframe\">\n  <thead>\n    <tr style=\"text-align: right;\">\n      <th></th>\n      <th>bookID</th>\n      <th>title</th>\n      <th>authors</th>\n      <th>average_rating</th>\n      <th>isbn</th>\n      <th>isbn13</th>\n      <th>language_code</th>\n      <th>num_pages</th>\n      <th>ratings_count</th>\n      <th>text_reviews_count</th>\n      <th>publication_date</th>\n      <th>publisher</th>\n      <th>decade</th>\n      <th>quarter</th>\n      <th>tra_co</th>\n    </tr>\n    <tr>\n      <th>publication_date</th>\n      <th></th>\n      <th></th>\n      <th></th>\n      <th></th>\n      <th></th>\n      <th></th>\n      <th></th>\n      <th></th>\n      <th></th>\n      <th></th>\n      <th></th>\n      <th></th>\n      <th></th>\n      <th></th>\n      <th></th>\n    </tr>\n  </thead>\n  <tbody>\n    <tr>\n      <th>2006-09-16</th>\n      <td>1</td>\n      <td>Harry Potter and the Half-Blood Prince (Harry ...</td>\n      <td>J.K. Rowling,Mary GrandPré</td>\n      <td>4.57</td>\n      <td>0439785960</td>\n      <td>9780439785969</td>\n      <td>eng</td>\n      <td>652</td>\n      <td>2095690</td>\n      <td>27591</td>\n      <td>2006-09-16</td>\n      <td>Scholastic Inc.</td>\n      <td>2000</td>\n      <td>3</td>\n      <td>1</td>\n    </tr>\n    <tr>\n      <th>2004-09-01</th>\n      <td>2</td>\n      <td>Harry Potter and the Order of the Phoenix (Har...</td>\n      <td>J.K. Rowling,Mary GrandPré</td>\n      <td>4.49</td>\n      <td>0439358078</td>\n      <td>9780439358071</td>\n      <td>eng</td>\n      <td>870</td>\n      <td>2153167</td>\n      <td>29221</td>\n      <td>2004-09-01</td>\n      <td>Scholastic Inc.</td>\n      <td>2000</td>\n      <td>3</td>\n      <td>1</td>\n    </tr>\n    <tr>\n      <th>2003-11-01</th>\n      <td>4</td>\n      <td>Harry Potter and the Chamber of Secrets (Harry...</td>\n      <td>J.K. Rowling</td>\n      <td>4.42</td>\n      <td>0439554896</td>\n      <td>9780439554893</td>\n      <td>eng</td>\n      <td>352</td>\n      <td>6333</td>\n      <td>244</td>\n      <td>2003-11-01</td>\n      <td>Scholastic</td>\n      <td>2000</td>\n      <td>4</td>\n      <td>0</td>\n    </tr>\n    <tr>\n      <th>2004-05-01</th>\n      <td>5</td>\n      <td>Harry Potter and the Prisoner of Azkaban (Harr...</td>\n      <td>J.K. Rowling,Mary GrandPré</td>\n      <td>4.56</td>\n      <td>043965548X</td>\n      <td>9780439655484</td>\n      <td>eng</td>\n      <td>435</td>\n      <td>2339585</td>\n      <td>36325</td>\n      <td>2004-05-01</td>\n      <td>Scholastic Inc.</td>\n      <td>2000</td>\n      <td>2</td>\n      <td>1</td>\n    </tr>\n    <tr>\n      <th>2004-09-13</th>\n      <td>8</td>\n      <td>Harry Potter Boxed Set  Books 1-5 (Harry Potte...</td>\n      <td>J.K. Rowling,Mary GrandPré</td>\n      <td>4.78</td>\n      <td>0439682584</td>\n      <td>9780439682589</td>\n      <td>eng</td>\n      <td>2690</td>\n      <td>41428</td>\n      <td>164</td>\n      <td>2004-09-13</td>\n      <td>Scholastic</td>\n      <td>2000</td>\n      <td>3</td>\n      <td>1</td>\n    </tr>\n  </tbody>\n</table>\n</div>"
     },
     "metadata": {},
     "execution_count": 42
    }
   ],
   "source": [
    "db.head()"
   ]
  },
  {
   "cell_type": "code",
   "execution_count": 43,
   "metadata": {},
   "outputs": [],
   "source": [
    "db = db.drop(['bookID','isbn','isbn13','publication_date'], axis = 1) # удалим признаки, которые больше не понадобятся\n",
    "# имеются чиловые признаки num_pages или text_reviews_count, имеются категориальные признаки language_code, \n",
    "# имеются идентификационные признаки для каждой книги title, authors, publisher (скорее это не признаки)\n"
   ]
  },
  {
   "cell_type": "code",
   "execution_count": 45,
   "metadata": {},
   "outputs": [],
   "source": [
    "db.to_csv('data/books_tidy_data.csv') # сохранение "
   ]
  }
 ]
}