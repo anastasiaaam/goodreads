{
 "metadata": {
  "language_info": {
   "codemirror_mode": {
    "name": "ipython",
    "version": 3
   },
   "file_extension": ".py",
   "mimetype": "text/x-python",
   "name": "python",
   "nbconvert_exporter": "python",
   "pygments_lexer": "ipython3",
   "version": "3.8.3"
  },
  "orig_nbformat": 2,
  "kernelspec": {
   "name": "python383jvsc74a57bd025a53b8456b44f90aeafd7a06052ef2343d8483d19b2d20158d602d9493d7c95",
   "display_name": "Python 3.8.3 64-bit ('base': conda)"
  }
 },
 "nbformat": 4,
 "nbformat_minor": 2,
 "cells": [
  {
   "cell_type": "code",
   "execution_count": 2,
   "metadata": {},
   "outputs": [
    {
     "output_type": "stream",
     "name": "stderr",
     "text": [
      "b'Skipping line 3350: expected 12 fields, saw 13\\nSkipping line 4704: expected 12 fields, saw 13\\nSkipping line 5879: expected 12 fields, saw 13\\nSkipping line 8981: expected 12 fields, saw 13\\n'\n"
     ]
    }
   ],
   "source": [
    "\n",
    "import pandas as pd\n",
    "import numpy as np \n",
    "import matplotlib as plt\n",
    "import seaborn as sns\n",
    "\n",
    "db = pd.read_csv('data/books.csv', error_bad_lines = False)"
   ]
  },
  {
   "cell_type": "code",
   "execution_count": 5,
   "metadata": {},
   "outputs": [
    {
     "output_type": "execute_result",
     "data": {
      "text/plain": [
       "   bookID                                              title  \\\n",
       "0       1  Harry Potter and the Half-Blood Prince (Harry ...   \n",
       "1       2  Harry Potter and the Order of the Phoenix (Har...   \n",
       "2       4  Harry Potter and the Chamber of Secrets (Harry...   \n",
       "3       5  Harry Potter and the Prisoner of Azkaban (Harr...   \n",
       "4       8  Harry Potter Boxed Set  Books 1-5 (Harry Potte...   \n",
       "\n",
       "                      authors  average_rating        isbn         isbn13  \\\n",
       "0  J.K. Rowling/Mary GrandPré            4.57  0439785960  9780439785969   \n",
       "1  J.K. Rowling/Mary GrandPré            4.49  0439358078  9780439358071   \n",
       "2                J.K. Rowling            4.42  0439554896  9780439554893   \n",
       "3  J.K. Rowling/Mary GrandPré            4.56  043965548X  9780439655484   \n",
       "4  J.K. Rowling/Mary GrandPré            4.78  0439682584  9780439682589   \n",
       "\n",
       "  language_code    num_pages  ratings_count  text_reviews_count  \\\n",
       "0           eng          652        2095690               27591   \n",
       "1           eng          870        2153167               29221   \n",
       "2           eng          352           6333                 244   \n",
       "3           eng          435        2339585               36325   \n",
       "4           eng         2690          41428                 164   \n",
       "\n",
       "  publication_date        publisher  \n",
       "0        9/16/2006  Scholastic Inc.  \n",
       "1         9/1/2004  Scholastic Inc.  \n",
       "2        11/1/2003       Scholastic  \n",
       "3         5/1/2004  Scholastic Inc.  \n",
       "4        9/13/2004       Scholastic  "
      ],
      "text/html": "<div>\n<style scoped>\n    .dataframe tbody tr th:only-of-type {\n        vertical-align: middle;\n    }\n\n    .dataframe tbody tr th {\n        vertical-align: top;\n    }\n\n    .dataframe thead th {\n        text-align: right;\n    }\n</style>\n<table border=\"1\" class=\"dataframe\">\n  <thead>\n    <tr style=\"text-align: right;\">\n      <th></th>\n      <th>bookID</th>\n      <th>title</th>\n      <th>authors</th>\n      <th>average_rating</th>\n      <th>isbn</th>\n      <th>isbn13</th>\n      <th>language_code</th>\n      <th>num_pages</th>\n      <th>ratings_count</th>\n      <th>text_reviews_count</th>\n      <th>publication_date</th>\n      <th>publisher</th>\n    </tr>\n  </thead>\n  <tbody>\n    <tr>\n      <th>0</th>\n      <td>1</td>\n      <td>Harry Potter and the Half-Blood Prince (Harry ...</td>\n      <td>J.K. Rowling/Mary GrandPré</td>\n      <td>4.57</td>\n      <td>0439785960</td>\n      <td>9780439785969</td>\n      <td>eng</td>\n      <td>652</td>\n      <td>2095690</td>\n      <td>27591</td>\n      <td>9/16/2006</td>\n      <td>Scholastic Inc.</td>\n    </tr>\n    <tr>\n      <th>1</th>\n      <td>2</td>\n      <td>Harry Potter and the Order of the Phoenix (Har...</td>\n      <td>J.K. Rowling/Mary GrandPré</td>\n      <td>4.49</td>\n      <td>0439358078</td>\n      <td>9780439358071</td>\n      <td>eng</td>\n      <td>870</td>\n      <td>2153167</td>\n      <td>29221</td>\n      <td>9/1/2004</td>\n      <td>Scholastic Inc.</td>\n    </tr>\n    <tr>\n      <th>2</th>\n      <td>4</td>\n      <td>Harry Potter and the Chamber of Secrets (Harry...</td>\n      <td>J.K. Rowling</td>\n      <td>4.42</td>\n      <td>0439554896</td>\n      <td>9780439554893</td>\n      <td>eng</td>\n      <td>352</td>\n      <td>6333</td>\n      <td>244</td>\n      <td>11/1/2003</td>\n      <td>Scholastic</td>\n    </tr>\n    <tr>\n      <th>3</th>\n      <td>5</td>\n      <td>Harry Potter and the Prisoner of Azkaban (Harr...</td>\n      <td>J.K. Rowling/Mary GrandPré</td>\n      <td>4.56</td>\n      <td>043965548X</td>\n      <td>9780439655484</td>\n      <td>eng</td>\n      <td>435</td>\n      <td>2339585</td>\n      <td>36325</td>\n      <td>5/1/2004</td>\n      <td>Scholastic Inc.</td>\n    </tr>\n    <tr>\n      <th>4</th>\n      <td>8</td>\n      <td>Harry Potter Boxed Set  Books 1-5 (Harry Potte...</td>\n      <td>J.K. Rowling/Mary GrandPré</td>\n      <td>4.78</td>\n      <td>0439682584</td>\n      <td>9780439682589</td>\n      <td>eng</td>\n      <td>2690</td>\n      <td>41428</td>\n      <td>164</td>\n      <td>9/13/2004</td>\n      <td>Scholastic</td>\n    </tr>\n  </tbody>\n</table>\n</div>"
     },
     "metadata": {},
     "execution_count": 5
    }
   ],
   "source": [
    "db.head()"
   ]
  },
  {
   "cell_type": "code",
   "execution_count": 6,
   "metadata": {},
   "outputs": [
    {
     "output_type": "execute_result",
     "data": {
      "text/plain": [
       "Index(['bookID', 'title', 'authors', 'average_rating', 'isbn', 'isbn13',\n",
       "       'language_code', '  num_pages', 'ratings_count', 'text_reviews_count',\n",
       "       'publication_date', 'publisher'],\n",
       "      dtype='object')"
      ]
     },
     "metadata": {},
     "execution_count": 6
    }
   ],
   "source": [
    "db.columns"
   ]
  },
  {
   "cell_type": "code",
   "execution_count": 8,
   "metadata": {},
   "outputs": [],
   "source": [
    "db = db.rename (columns = {'  num_pages' : 'num_pages'})"
   ]
  },
  {
   "cell_type": "code",
   "execution_count": 9,
   "metadata": {},
   "outputs": [
    {
     "output_type": "execute_result",
     "data": {
      "text/plain": [
       "Index(['bookID', 'title', 'authors', 'average_rating', 'isbn', 'isbn13',\n",
       "       'language_code', 'num_pages', 'ratings_count', 'text_reviews_count',\n",
       "       'publication_date', 'publisher'],\n",
       "      dtype='object')"
      ]
     },
     "metadata": {},
     "execution_count": 9
    }
   ],
   "source": [
    "db.columns"
   ]
  },
  {
   "cell_type": "code",
   "execution_count": 10,
   "metadata": {},
   "outputs": [
    {
     "output_type": "stream",
     "name": "stdout",
     "text": [
      "<class 'pandas.core.frame.DataFrame'>\nRangeIndex: 11123 entries, 0 to 11122\nData columns (total 12 columns):\n #   Column              Non-Null Count  Dtype  \n---  ------              --------------  -----  \n 0   bookID              11123 non-null  int64  \n 1   title               11123 non-null  object \n 2   authors             11123 non-null  object \n 3   average_rating      11123 non-null  float64\n 4   isbn                11123 non-null  object \n 5   isbn13              11123 non-null  int64  \n 6   language_code       11123 non-null  object \n 7   num_pages           11123 non-null  int64  \n 8   ratings_count       11123 non-null  int64  \n 9   text_reviews_count  11123 non-null  int64  \n 10  publication_date    11123 non-null  object \n 11  publisher           11123 non-null  object \ndtypes: float64(1), int64(5), object(6)\nmemory usage: 1.0+ MB\n"
     ]
    }
   ],
   "source": [
    "db.info()"
   ]
  },
  {
   "cell_type": "code",
   "execution_count": 11,
   "metadata": {},
   "outputs": [],
   "source": [
    "db['isbn13'] = db['isbn13'].astype('object')"
   ]
  },
  {
   "cell_type": "code",
   "execution_count": 12,
   "metadata": {},
   "outputs": [
    {
     "output_type": "stream",
     "name": "stdout",
     "text": [
      "<class 'pandas.core.frame.DataFrame'>\nRangeIndex: 11123 entries, 0 to 11122\nData columns (total 12 columns):\n #   Column              Non-Null Count  Dtype  \n---  ------              --------------  -----  \n 0   bookID              11123 non-null  int64  \n 1   title               11123 non-null  object \n 2   authors             11123 non-null  object \n 3   average_rating      11123 non-null  float64\n 4   isbn                11123 non-null  object \n 5   isbn13              11123 non-null  object \n 6   language_code       11123 non-null  object \n 7   num_pages           11123 non-null  int64  \n 8   ratings_count       11123 non-null  int64  \n 9   text_reviews_count  11123 non-null  int64  \n 10  publication_date    11123 non-null  object \n 11  publisher           11123 non-null  object \ndtypes: float64(1), int64(4), object(7)\nmemory usage: 1.0+ MB\n"
     ]
    }
   ],
   "source": [
    "db.info()"
   ]
  },
  {
   "cell_type": "code",
   "execution_count": null,
   "metadata": {},
   "outputs": [],
   "source": []
  }
 ]
}