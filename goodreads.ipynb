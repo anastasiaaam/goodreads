{
 "metadata": {
  "language_info": {
   "codemirror_mode": {
    "name": "ipython",
    "version": 3
   },
   "file_extension": ".py",
   "mimetype": "text/x-python",
   "name": "python",
   "nbconvert_exporter": "python",
   "pygments_lexer": "ipython3",
   "version": "3.8.3"
  },
  "orig_nbformat": 2,
  "kernelspec": {
   "name": "python383jvsc74a57bd025a53b8456b44f90aeafd7a06052ef2343d8483d19b2d20158d602d9493d7c95",
   "display_name": "Python 3.8.3 64-bit ('base': conda)"
  }
 },
 "nbformat": 4,
 "nbformat_minor": 2,
 "cells": [
  {
   "cell_type": "code",
   "execution_count": 2,
   "metadata": {},
   "outputs": [
    {
     "output_type": "stream",
     "name": "stderr",
     "text": [
      "b'Skipping line 3350: expected 12 fields, saw 13\\nSkipping line 4704: expected 12 fields, saw 13\\nSkipping line 5879: expected 12 fields, saw 13\\nSkipping line 8981: expected 12 fields, saw 13\\n'\n"
     ]
    }
   ],
   "source": [
    "\n",
    "import pandas as pd\n",
    "import numpy as np \n",
    "import matplotlib as plt\n",
    "import seaborn as sns\n",
    "\n",
    "db = pd.read_csv('data/books.csv', error_bad_lines = False)"
   ]
  },
  {
   "cell_type": "code",
   "execution_count": 5,
   "metadata": {},
   "outputs": [
    {
     "output_type": "execute_result",
     "data": {
      "text/plain": [
       "   bookID                                              title  \\\n",
       "0       1  Harry Potter and the Half-Blood Prince (Harry ...   \n",
       "1       2  Harry Potter and the Order of the Phoenix (Har...   \n",
       "2       4  Harry Potter and the Chamber of Secrets (Harry...   \n",
       "3       5  Harry Potter and the Prisoner of Azkaban (Harr...   \n",
       "4       8  Harry Potter Boxed Set  Books 1-5 (Harry Potte...   \n",
       "\n",
       "                      authors  average_rating        isbn         isbn13  \\\n",
       "0  J.K. Rowling/Mary GrandPré            4.57  0439785960  9780439785969   \n",
       "1  J.K. Rowling/Mary GrandPré            4.49  0439358078  9780439358071   \n",
       "2                J.K. Rowling            4.42  0439554896  9780439554893   \n",
       "3  J.K. Rowling/Mary GrandPré            4.56  043965548X  9780439655484   \n",
       "4  J.K. Rowling/Mary GrandPré            4.78  0439682584  9780439682589   \n",
       "\n",
       "  language_code    num_pages  ratings_count  text_reviews_count  \\\n",
       "0           eng          652        2095690               27591   \n",
       "1           eng          870        2153167               29221   \n",
       "2           eng          352           6333                 244   \n",
       "3           eng          435        2339585               36325   \n",
       "4           eng         2690          41428                 164   \n",
       "\n",
       "  publication_date        publisher  \n",
       "0        9/16/2006  Scholastic Inc.  \n",
       "1         9/1/2004  Scholastic Inc.  \n",
       "2        11/1/2003       Scholastic  \n",
       "3         5/1/2004  Scholastic Inc.  \n",
       "4        9/13/2004       Scholastic  "
      ],
      "text/html": "<div>\n<style scoped>\n    .dataframe tbody tr th:only-of-type {\n        vertical-align: middle;\n    }\n\n    .dataframe tbody tr th {\n        vertical-align: top;\n    }\n\n    .dataframe thead th {\n        text-align: right;\n    }\n</style>\n<table border=\"1\" class=\"dataframe\">\n  <thead>\n    <tr style=\"text-align: right;\">\n      <th></th>\n      <th>bookID</th>\n      <th>title</th>\n      <th>authors</th>\n      <th>average_rating</th>\n      <th>isbn</th>\n      <th>isbn13</th>\n      <th>language_code</th>\n      <th>num_pages</th>\n      <th>ratings_count</th>\n      <th>text_reviews_count</th>\n      <th>publication_date</th>\n      <th>publisher</th>\n    </tr>\n  </thead>\n  <tbody>\n    <tr>\n      <th>0</th>\n      <td>1</td>\n      <td>Harry Potter and the Half-Blood Prince (Harry ...</td>\n      <td>J.K. Rowling/Mary GrandPré</td>\n      <td>4.57</td>\n      <td>0439785960</td>\n      <td>9780439785969</td>\n      <td>eng</td>\n      <td>652</td>\n      <td>2095690</td>\n      <td>27591</td>\n      <td>9/16/2006</td>\n      <td>Scholastic Inc.</td>\n    </tr>\n    <tr>\n      <th>1</th>\n      <td>2</td>\n      <td>Harry Potter and the Order of the Phoenix (Har...</td>\n      <td>J.K. Rowling/Mary GrandPré</td>\n      <td>4.49</td>\n      <td>0439358078</td>\n      <td>9780439358071</td>\n      <td>eng</td>\n      <td>870</td>\n      <td>2153167</td>\n      <td>29221</td>\n      <td>9/1/2004</td>\n      <td>Scholastic Inc.</td>\n    </tr>\n    <tr>\n      <th>2</th>\n      <td>4</td>\n      <td>Harry Potter and the Chamber of Secrets (Harry...</td>\n      <td>J.K. Rowling</td>\n      <td>4.42</td>\n      <td>0439554896</td>\n      <td>9780439554893</td>\n      <td>eng</td>\n      <td>352</td>\n      <td>6333</td>\n      <td>244</td>\n      <td>11/1/2003</td>\n      <td>Scholastic</td>\n    </tr>\n    <tr>\n      <th>3</th>\n      <td>5</td>\n      <td>Harry Potter and the Prisoner of Azkaban (Harr...</td>\n      <td>J.K. Rowling/Mary GrandPré</td>\n      <td>4.56</td>\n      <td>043965548X</td>\n      <td>9780439655484</td>\n      <td>eng</td>\n      <td>435</td>\n      <td>2339585</td>\n      <td>36325</td>\n      <td>5/1/2004</td>\n      <td>Scholastic Inc.</td>\n    </tr>\n    <tr>\n      <th>4</th>\n      <td>8</td>\n      <td>Harry Potter Boxed Set  Books 1-5 (Harry Potte...</td>\n      <td>J.K. Rowling/Mary GrandPré</td>\n      <td>4.78</td>\n      <td>0439682584</td>\n      <td>9780439682589</td>\n      <td>eng</td>\n      <td>2690</td>\n      <td>41428</td>\n      <td>164</td>\n      <td>9/13/2004</td>\n      <td>Scholastic</td>\n    </tr>\n  </tbody>\n</table>\n</div>"
     },
     "metadata": {},
     "execution_count": 5
    }
   ],
   "source": [
    "db.head()"
   ]
  },
  {
   "cell_type": "code",
   "execution_count": 6,
   "metadata": {},
   "outputs": [
    {
     "output_type": "execute_result",
     "data": {
      "text/plain": [
       "Index(['bookID', 'title', 'authors', 'average_rating', 'isbn', 'isbn13',\n",
       "       'language_code', '  num_pages', 'ratings_count', 'text_reviews_count',\n",
       "       'publication_date', 'publisher'],\n",
       "      dtype='object')"
      ]
     },
     "metadata": {},
     "execution_count": 6
    }
   ],
   "source": [
    "db.columns"
   ]
  },
  {
   "cell_type": "code",
   "execution_count": 8,
   "metadata": {},
   "outputs": [],
   "source": [
    "db = db.rename (columns = {'  num_pages' : 'num_pages'})"
   ]
  },
  {
   "cell_type": "code",
   "execution_count": 9,
   "metadata": {},
   "outputs": [
    {
     "output_type": "execute_result",
     "data": {
      "text/plain": [
       "Index(['bookID', 'title', 'authors', 'average_rating', 'isbn', 'isbn13',\n",
       "       'language_code', 'num_pages', 'ratings_count', 'text_reviews_count',\n",
       "       'publication_date', 'publisher'],\n",
       "      dtype='object')"
      ]
     },
     "metadata": {},
     "execution_count": 9
    }
   ],
   "source": [
    "db.columns"
   ]
  },
  {
   "cell_type": "code",
   "execution_count": 10,
   "metadata": {},
   "outputs": [
    {
     "output_type": "stream",
     "name": "stdout",
     "text": [
      "<class 'pandas.core.frame.DataFrame'>\nRangeIndex: 11123 entries, 0 to 11122\nData columns (total 12 columns):\n #   Column              Non-Null Count  Dtype  \n---  ------              --------------  -----  \n 0   bookID              11123 non-null  int64  \n 1   title               11123 non-null  object \n 2   authors             11123 non-null  object \n 3   average_rating      11123 non-null  float64\n 4   isbn                11123 non-null  object \n 5   isbn13              11123 non-null  int64  \n 6   language_code       11123 non-null  object \n 7   num_pages           11123 non-null  int64  \n 8   ratings_count       11123 non-null  int64  \n 9   text_reviews_count  11123 non-null  int64  \n 10  publication_date    11123 non-null  object \n 11  publisher           11123 non-null  object \ndtypes: float64(1), int64(5), object(6)\nmemory usage: 1.0+ MB\n"
     ]
    }
   ],
   "source": [
    "db.info()"
   ]
  },
  {
   "cell_type": "code",
   "execution_count": 11,
   "metadata": {},
   "outputs": [],
   "source": [
    "db['isbn13'] = db['isbn13'].astype('object')"
   ]
  },
  {
   "cell_type": "code",
   "execution_count": 12,
   "metadata": {},
   "outputs": [
    {
     "output_type": "stream",
     "name": "stdout",
     "text": [
      "<class 'pandas.core.frame.DataFrame'>\nRangeIndex: 11123 entries, 0 to 11122\nData columns (total 12 columns):\n #   Column              Non-Null Count  Dtype  \n---  ------              --------------  -----  \n 0   bookID              11123 non-null  int64  \n 1   title               11123 non-null  object \n 2   authors             11123 non-null  object \n 3   average_rating      11123 non-null  float64\n 4   isbn                11123 non-null  object \n 5   isbn13              11123 non-null  object \n 6   language_code       11123 non-null  object \n 7   num_pages           11123 non-null  int64  \n 8   ratings_count       11123 non-null  int64  \n 9   text_reviews_count  11123 non-null  int64  \n 10  publication_date    11123 non-null  object \n 11  publisher           11123 non-null  object \ndtypes: float64(1), int64(4), object(7)\nmemory usage: 1.0+ MB\n"
     ]
    }
   ],
   "source": [
    "db.info()"
   ]
  },
  {
   "cell_type": "code",
   "execution_count": 14,
   "metadata": {},
   "outputs": [],
   "source": [
    "db['publication_date'] = pd.to_datetime(db['publication_date'], errors ='coerce')"
   ]
  },
  {
   "cell_type": "code",
   "execution_count": 15,
   "metadata": {},
   "outputs": [
    {
     "output_type": "stream",
     "name": "stdout",
     "text": [
      "<class 'pandas.core.frame.DataFrame'>\nRangeIndex: 11123 entries, 0 to 11122\nData columns (total 12 columns):\n #   Column              Non-Null Count  Dtype         \n---  ------              --------------  -----         \n 0   bookID              11123 non-null  int64         \n 1   title               11123 non-null  object        \n 2   authors             11123 non-null  object        \n 3   average_rating      11123 non-null  float64       \n 4   isbn                11123 non-null  object        \n 5   isbn13              11123 non-null  object        \n 6   language_code       11123 non-null  object        \n 7   num_pages           11123 non-null  int64         \n 8   ratings_count       11123 non-null  int64         \n 9   text_reviews_count  11123 non-null  int64         \n 10  publication_date    11121 non-null  datetime64[ns]\n 11  publisher           11123 non-null  object        \ndtypes: datetime64[ns](1), float64(1), int64(4), object(6)\nmemory usage: 1.0+ MB\n"
     ]
    }
   ],
   "source": [
    "db.info()"
   ]
  },
  {
   "cell_type": "code",
   "execution_count": 16,
   "metadata": {},
   "outputs": [],
   "source": [
    "db = db.loc[~db['publication_date'].isin(['NaT'])]"
   ]
  },
  {
   "cell_type": "code",
   "execution_count": 17,
   "metadata": {},
   "outputs": [],
   "source": [
    "db = db.set_axis(db['publication_date'])"
   ]
  },
  {
   "cell_type": "code",
   "execution_count": 18,
   "metadata": {},
   "outputs": [
    {
     "output_type": "stream",
     "name": "stdout",
     "text": [
      "<class 'pandas.core.frame.DataFrame'>\nDatetimeIndex: 11121 entries, 2006-09-16 to 2006-05-28\nData columns (total 12 columns):\n #   Column              Non-Null Count  Dtype         \n---  ------              --------------  -----         \n 0   bookID              11121 non-null  int64         \n 1   title               11121 non-null  object        \n 2   authors             11121 non-null  object        \n 3   average_rating      11121 non-null  float64       \n 4   isbn                11121 non-null  object        \n 5   isbn13              11121 non-null  object        \n 6   language_code       11121 non-null  object        \n 7   num_pages           11121 non-null  int64         \n 8   ratings_count       11121 non-null  int64         \n 9   text_reviews_count  11121 non-null  int64         \n 10  publication_date    11121 non-null  datetime64[ns]\n 11  publisher           11121 non-null  object        \ndtypes: datetime64[ns](1), float64(1), int64(4), object(6)\nmemory usage: 1.4+ MB\n"
     ]
    }
   ],
   "source": [
    "db.info()"
   ]
  },
  {
   "cell_type": "code",
   "execution_count": 19,
   "metadata": {},
   "outputs": [
    {
     "output_type": "execute_result",
     "data": {
      "text/plain": [
       "0"
      ]
     },
     "metadata": {},
     "execution_count": 19
    }
   ],
   "source": [
    "db.duplicated(subset=['isbn13']).sum()"
   ]
  },
  {
   "cell_type": "code",
   "execution_count": 20,
   "metadata": {},
   "outputs": [
    {
     "output_type": "execute_result",
     "data": {
      "text/plain": [
       "                  bookID                                   title  \\\n",
       "publication_date                                                   \n",
       "1987-06-01         11557                               Swan Song   \n",
       "2005-08-02         12683                             The Shining   \n",
       "2004-01-19         19135                            'Salem's Lot   \n",
       "2004-05-11         21746            The Enemy (Jack Reacher  #8)   \n",
       "2004-11-25         21759             Tripwire (Jack Reacher  #3)   \n",
       "2004-11-25         21763             Tripwire (Jack Reacher  #3)   \n",
       "2004-06-10         21764            The Enemy (Jack Reacher  #8)   \n",
       "2006-02-07         23894                    Cien años de soledad   \n",
       "1976-08-01         36303                            'Salem's Lot   \n",
       "2007-08-28         39028  The Wheel of Darkness (Pendergast  #8)   \n",
       "2004-10-14         41033  The Best American Mystery Stories 2004   \n",
       "\n",
       "                                        authors  average_rating        isbn  \\\n",
       "publication_date                                                              \n",
       "1987-06-01                   Robert R. McCammon            4.28  0671741039   \n",
       "2005-08-02          Stephen King/Campbell Scott            4.22  0743536991   \n",
       "2004-01-19             Stephen King/Ron McLarty            4.02  0743536959   \n",
       "2004-05-11                  Lee Child/Dick Hill            4.16  1590864093   \n",
       "2004-11-25                  Lee Child/Dick Hill            4.09  1593555601   \n",
       "2004-11-25                  Lee Child/Dick Hill            4.09  1593357389   \n",
       "2004-06-10                  Lee Child/Dick Hill            4.16  1593353154   \n",
       "2006-02-07               Gabriel García Márquez            4.07  0307350274   \n",
       "1976-08-01                         Stephen King            4.02  0451139690   \n",
       "2007-08-28        Douglas Preston/Lincoln Child            3.93  0446580287   \n",
       "2004-10-14          Nelson DeMille/Otto Penzler            3.55  0618329676   \n",
       "\n",
       "                         isbn13 language_code  num_pages  ratings_count  \\\n",
       "publication_date                                                          \n",
       "1987-06-01        9780671741037           eng        956          46244   \n",
       "2005-08-02        9780743536998           eng          0             13   \n",
       "2004-01-19        9780743536950         en-US          0             56   \n",
       "2004-05-11        9781590864098           eng         14              4   \n",
       "2004-11-25        9781593555603           eng         14             11   \n",
       "2004-11-25        9781593357382           eng         14             18   \n",
       "2004-06-10        9781593353155           eng         14              1   \n",
       "2006-02-07        9780307350275           spa        512             52   \n",
       "1976-08-01        9780451139696           eng        427            186   \n",
       "2007-08-28        9780446580281           eng        388          21797   \n",
       "2004-10-14        9780618329670           eng        448            100   \n",
       "\n",
       "                  text_reviews_count publication_date  \\\n",
       "publication_date                                        \n",
       "1987-06-01                      2540       1987-06-01   \n",
       "2005-08-02                         0       2005-08-02   \n",
       "2004-01-19                         5       2004-01-19   \n",
       "2004-05-11                         0       2004-05-11   \n",
       "2004-11-25                         1       2004-11-25   \n",
       "2004-11-25                         4       2004-11-25   \n",
       "2004-06-10                         0       2004-06-10   \n",
       "2006-02-07                         7       2006-02-07   \n",
       "1976-08-01                        22       1976-08-01   \n",
       "2007-08-28                      1002       2007-08-28   \n",
       "2004-10-14                        13       2004-10-14   \n",
       "\n",
       "                                 publisher  \n",
       "publication_date                            \n",
       "1987-06-01                    Pocket Books  \n",
       "2005-08-02          Simon & Schuster Audio  \n",
       "2004-01-19          Simon & Schuster Audio  \n",
       "2004-05-11                Brilliance Audio  \n",
       "2004-11-25                Brilliance Audio  \n",
       "2004-11-25                Brilliance Audio  \n",
       "2004-06-10                Brilliance Audio  \n",
       "2006-02-07                   Plaza y Janes  \n",
       "1976-08-01                          Signet  \n",
       "2007-08-28        Grand Central Publishing  \n",
       "2004-10-14                   Mariner Books  "
      ],
      "text/html": "<div>\n<style scoped>\n    .dataframe tbody tr th:only-of-type {\n        vertical-align: middle;\n    }\n\n    .dataframe tbody tr th {\n        vertical-align: top;\n    }\n\n    .dataframe thead th {\n        text-align: right;\n    }\n</style>\n<table border=\"1\" class=\"dataframe\">\n  <thead>\n    <tr style=\"text-align: right;\">\n      <th></th>\n      <th>bookID</th>\n      <th>title</th>\n      <th>authors</th>\n      <th>average_rating</th>\n      <th>isbn</th>\n      <th>isbn13</th>\n      <th>language_code</th>\n      <th>num_pages</th>\n      <th>ratings_count</th>\n      <th>text_reviews_count</th>\n      <th>publication_date</th>\n      <th>publisher</th>\n    </tr>\n    <tr>\n      <th>publication_date</th>\n      <th></th>\n      <th></th>\n      <th></th>\n      <th></th>\n      <th></th>\n      <th></th>\n      <th></th>\n      <th></th>\n      <th></th>\n      <th></th>\n      <th></th>\n      <th></th>\n    </tr>\n  </thead>\n  <tbody>\n    <tr>\n      <th>1987-06-01</th>\n      <td>11557</td>\n      <td>Swan Song</td>\n      <td>Robert R. McCammon</td>\n      <td>4.28</td>\n      <td>0671741039</td>\n      <td>9780671741037</td>\n      <td>eng</td>\n      <td>956</td>\n      <td>46244</td>\n      <td>2540</td>\n      <td>1987-06-01</td>\n      <td>Pocket Books</td>\n    </tr>\n    <tr>\n      <th>2005-08-02</th>\n      <td>12683</td>\n      <td>The Shining</td>\n      <td>Stephen King/Campbell Scott</td>\n      <td>4.22</td>\n      <td>0743536991</td>\n      <td>9780743536998</td>\n      <td>eng</td>\n      <td>0</td>\n      <td>13</td>\n      <td>0</td>\n      <td>2005-08-02</td>\n      <td>Simon &amp; Schuster Audio</td>\n    </tr>\n    <tr>\n      <th>2004-01-19</th>\n      <td>19135</td>\n      <td>'Salem's Lot</td>\n      <td>Stephen King/Ron McLarty</td>\n      <td>4.02</td>\n      <td>0743536959</td>\n      <td>9780743536950</td>\n      <td>en-US</td>\n      <td>0</td>\n      <td>56</td>\n      <td>5</td>\n      <td>2004-01-19</td>\n      <td>Simon &amp; Schuster Audio</td>\n    </tr>\n    <tr>\n      <th>2004-05-11</th>\n      <td>21746</td>\n      <td>The Enemy (Jack Reacher  #8)</td>\n      <td>Lee Child/Dick Hill</td>\n      <td>4.16</td>\n      <td>1590864093</td>\n      <td>9781590864098</td>\n      <td>eng</td>\n      <td>14</td>\n      <td>4</td>\n      <td>0</td>\n      <td>2004-05-11</td>\n      <td>Brilliance Audio</td>\n    </tr>\n    <tr>\n      <th>2004-11-25</th>\n      <td>21759</td>\n      <td>Tripwire (Jack Reacher  #3)</td>\n      <td>Lee Child/Dick Hill</td>\n      <td>4.09</td>\n      <td>1593555601</td>\n      <td>9781593555603</td>\n      <td>eng</td>\n      <td>14</td>\n      <td>11</td>\n      <td>1</td>\n      <td>2004-11-25</td>\n      <td>Brilliance Audio</td>\n    </tr>\n    <tr>\n      <th>2004-11-25</th>\n      <td>21763</td>\n      <td>Tripwire (Jack Reacher  #3)</td>\n      <td>Lee Child/Dick Hill</td>\n      <td>4.09</td>\n      <td>1593357389</td>\n      <td>9781593357382</td>\n      <td>eng</td>\n      <td>14</td>\n      <td>18</td>\n      <td>4</td>\n      <td>2004-11-25</td>\n      <td>Brilliance Audio</td>\n    </tr>\n    <tr>\n      <th>2004-06-10</th>\n      <td>21764</td>\n      <td>The Enemy (Jack Reacher  #8)</td>\n      <td>Lee Child/Dick Hill</td>\n      <td>4.16</td>\n      <td>1593353154</td>\n      <td>9781593353155</td>\n      <td>eng</td>\n      <td>14</td>\n      <td>1</td>\n      <td>0</td>\n      <td>2004-06-10</td>\n      <td>Brilliance Audio</td>\n    </tr>\n    <tr>\n      <th>2006-02-07</th>\n      <td>23894</td>\n      <td>Cien años de soledad</td>\n      <td>Gabriel García Márquez</td>\n      <td>4.07</td>\n      <td>0307350274</td>\n      <td>9780307350275</td>\n      <td>spa</td>\n      <td>512</td>\n      <td>52</td>\n      <td>7</td>\n      <td>2006-02-07</td>\n      <td>Plaza y Janes</td>\n    </tr>\n    <tr>\n      <th>1976-08-01</th>\n      <td>36303</td>\n      <td>'Salem's Lot</td>\n      <td>Stephen King</td>\n      <td>4.02</td>\n      <td>0451139690</td>\n      <td>9780451139696</td>\n      <td>eng</td>\n      <td>427</td>\n      <td>186</td>\n      <td>22</td>\n      <td>1976-08-01</td>\n      <td>Signet</td>\n    </tr>\n    <tr>\n      <th>2007-08-28</th>\n      <td>39028</td>\n      <td>The Wheel of Darkness (Pendergast  #8)</td>\n      <td>Douglas Preston/Lincoln Child</td>\n      <td>3.93</td>\n      <td>0446580287</td>\n      <td>9780446580281</td>\n      <td>eng</td>\n      <td>388</td>\n      <td>21797</td>\n      <td>1002</td>\n      <td>2007-08-28</td>\n      <td>Grand Central Publishing</td>\n    </tr>\n    <tr>\n      <th>2004-10-14</th>\n      <td>41033</td>\n      <td>The Best American Mystery Stories 2004</td>\n      <td>Nelson DeMille/Otto Penzler</td>\n      <td>3.55</td>\n      <td>0618329676</td>\n      <td>9780618329670</td>\n      <td>eng</td>\n      <td>448</td>\n      <td>100</td>\n      <td>13</td>\n      <td>2004-10-14</td>\n      <td>Mariner Books</td>\n    </tr>\n  </tbody>\n</table>\n</div>"
     },
     "metadata": {},
     "execution_count": 20
    }
   ],
   "source": [
    "db[db.duplicated(subset = ['title','authors','publication_date','publisher'])]"
   ]
  },
  {
   "cell_type": "code",
   "execution_count": null,
   "metadata": {},
   "outputs": [],
   "source": []
  }
 ]
}