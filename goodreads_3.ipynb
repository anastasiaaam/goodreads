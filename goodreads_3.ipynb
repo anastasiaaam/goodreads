{
 "metadata": {
  "language_info": {
   "codemirror_mode": {
    "name": "ipython",
    "version": 3
   },
   "file_extension": ".py",
   "mimetype": "text/x-python",
   "name": "python",
   "nbconvert_exporter": "python",
   "pygments_lexer": "ipython3",
   "version": "3.8.3"
  },
  "orig_nbformat": 2,
  "kernelspec": {
   "name": "python383jvsc74a57bd025a53b8456b44f90aeafd7a06052ef2343d8483d19b2d20158d602d9493d7c95",
   "display_name": "Python 3.8.3 64-bit ('base': conda)"
  }
 },
 "nbformat": 4,
 "nbformat_minor": 2,
 "cells": [
  {
   "cell_type": "code",
   "execution_count": 1,
   "metadata": {},
   "outputs": [],
   "source": [
    "# линейная регрессия\n",
    "import pandas as pd                                   # для работы с датафреймом\n",
    "import numpy as np                                    # для вычислений\n",
    "import seaborn as sns                                 # для графиков\n",
    "import matplotlib.pyplot as plt                       # для графиков\n",
    "import statsmodels.api as sm                          # для статистического анализа\n",
    "from scipy import stats                               # статистический анализ\n",
    "from mlxtend.evaluate import permutation_test         # перестановочный тест\n",
    "\n",
    "from sklearn.model_selection import train_test_split  # для деления на обучающую и тестовую выборки\n",
    "from sklearn.impute import SimpleImputer              # для заполнения пропусков\n",
    "from sklearn.preprocessing import OneHotEncoder       # для кодирования категориальных переменных\n",
    "from sklearn.pipeline import Pipeline                 # для обработки данных для машинного обучения\n",
    "from sklearn.preprocessing import StandardScaler      # стандартизация данных\n",
    "from sklearn.compose import ColumnTransformer         # для обработки данных для машинного обучения\n"
   ]
  },
  {
   "cell_type": "code",
   "execution_count": 2,
   "metadata": {},
   "outputs": [
    {
     "output_type": "stream",
     "name": "stdout",
     "text": [
      "Requirement already satisfied: pingouin in /Users/Shared/anaconda3/lib/python3.8/site-packages (0.3.11)\n",
      "Requirement already satisfied: matplotlib>=3.0.2 in /Users/Shared/anaconda3/lib/python3.8/site-packages (from pingouin) (3.3.4)\n",
      "Requirement already satisfied: numpy>=1.15 in /Users/Shared/anaconda3/lib/python3.8/site-packages (from pingouin) (1.20.1)\n",
      "Requirement already satisfied: scipy>=1.3 in /Users/Shared/anaconda3/lib/python3.8/site-packages (from pingouin) (1.6.2)\n",
      "Requirement already satisfied: statsmodels>=0.10.0 in /Users/Shared/anaconda3/lib/python3.8/site-packages (from pingouin) (0.12.2)\n",
      "Requirement already satisfied: scikit-learn in /Users/Shared/anaconda3/lib/python3.8/site-packages (from pingouin) (0.24.1)\n",
      "Requirement already satisfied: pandas-flavor>=0.1.2 in /Users/Shared/anaconda3/lib/python3.8/site-packages (from pingouin) (0.2.0)\n",
      "Requirement already satisfied: pandas>=0.24 in /Users/Shared/anaconda3/lib/python3.8/site-packages (from pingouin) (1.2.4)\n",
      "Requirement already satisfied: outdated in /Users/Shared/anaconda3/lib/python3.8/site-packages (from pingouin) (0.2.1)\n",
      "Requirement already satisfied: seaborn>=0.9.0 in /Users/Shared/anaconda3/lib/python3.8/site-packages (from pingouin) (0.11.1)\n",
      "Requirement already satisfied: tabulate in /Users/Shared/anaconda3/lib/python3.8/site-packages (from pingouin) (0.8.9)\n",
      "Requirement already satisfied: cycler>=0.10 in /Users/Shared/anaconda3/lib/python3.8/site-packages (from matplotlib>=3.0.2->pingouin) (0.10.0)\n",
      "Requirement already satisfied: python-dateutil>=2.1 in /Users/Shared/anaconda3/lib/python3.8/site-packages (from matplotlib>=3.0.2->pingouin) (2.8.1)\n",
      "Requirement already satisfied: pyparsing!=2.0.4,!=2.1.2,!=2.1.6,>=2.0.3 in /Users/Shared/anaconda3/lib/python3.8/site-packages (from matplotlib>=3.0.2->pingouin) (2.4.7)\n",
      "Requirement already satisfied: kiwisolver>=1.0.1 in /Users/Shared/anaconda3/lib/python3.8/site-packages (from matplotlib>=3.0.2->pingouin) (1.3.1)\n",
      "Requirement already satisfied: pillow>=6.2.0 in /Users/Shared/anaconda3/lib/python3.8/site-packages (from matplotlib>=3.0.2->pingouin) (8.2.0)\n",
      "Requirement already satisfied: six in /Users/Shared/anaconda3/lib/python3.8/site-packages (from cycler>=0.10->matplotlib>=3.0.2->pingouin) (1.15.0)\n",
      "Requirement already satisfied: pytz>=2017.3 in /Users/Shared/anaconda3/lib/python3.8/site-packages (from pandas>=0.24->pingouin) (2021.1)\n",
      "Requirement already satisfied: xarray in /Users/Shared/anaconda3/lib/python3.8/site-packages (from pandas-flavor>=0.1.2->pingouin) (0.18.0)\n",
      "Requirement already satisfied: patsy>=0.5 in /Users/Shared/anaconda3/lib/python3.8/site-packages (from statsmodels>=0.10.0->pingouin) (0.5.1)\n",
      "Requirement already satisfied: littleutils in /Users/Shared/anaconda3/lib/python3.8/site-packages (from outdated->pingouin) (0.2.2)\n",
      "Requirement already satisfied: requests in /Users/Shared/anaconda3/lib/python3.8/site-packages (from outdated->pingouin) (2.25.1)\n",
      "Requirement already satisfied: idna<3,>=2.5 in /Users/Shared/anaconda3/lib/python3.8/site-packages (from requests->outdated->pingouin) (2.10)\n",
      "Requirement already satisfied: chardet<5,>=3.0.2 in /Users/Shared/anaconda3/lib/python3.8/site-packages (from requests->outdated->pingouin) (4.0.0)\n",
      "Requirement already satisfied: certifi>=2017.4.17 in /Users/Shared/anaconda3/lib/python3.8/site-packages (from requests->outdated->pingouin) (2020.12.5)\n",
      "Requirement already satisfied: urllib3<1.27,>=1.21.1 in /Users/Shared/anaconda3/lib/python3.8/site-packages (from requests->outdated->pingouin) (1.26.4)\n",
      "Requirement already satisfied: joblib>=0.11 in /Users/Shared/anaconda3/lib/python3.8/site-packages (from scikit-learn->pingouin) (1.0.1)\n",
      "Requirement already satisfied: threadpoolctl>=2.0.0 in /Users/Shared/anaconda3/lib/python3.8/site-packages (from scikit-learn->pingouin) (2.1.0)\n",
      "Requirement already satisfied: setuptools>=40.4 in /Users/Shared/anaconda3/lib/python3.8/site-packages (from xarray->pandas-flavor>=0.1.2->pingouin) (52.0.0.post20210125)\n"
     ]
    }
   ],
   "source": [
    "# ! pip install pingouin --upgrade"
   ]
  },
  {
   "cell_type": "code",
   "execution_count": 3,
   "metadata": {},
   "outputs": [],
   "source": [
    "import pingouin as pg               # для статистического анализа"
   ]
  },
  {
   "source": [
    "С линейной регрессией мы изучим три подхода:  \n",
    "\n",
    "1. визуальный\n",
    "2. статистический\n",
    "3. машинное обучение\n",
    "\n",
    "Важно помнить, что всегда предпочтительнее искать самый простой способ решения задачи. Если линейная регрессия будет хорошо справляться,  \n",
    "то использовать более сложные способы не надо. Если эти сложные способы дадут незначительное улучшение, то не стоит их использовать, если  \n",
    "это приводит к излишней трате вычислительного времени. Поэтому более сложные методы мы можем использовать, если 1) регрессия к нашей задаче  \n",
    "не подходит, 2) другой метод не только лучше себя показывает, но и эффективнее."
   ],
   "cell_type": "markdown",
   "metadata": {}
  },
  {
   "source": [
    "# Загрузка данных"
   ],
   "cell_type": "markdown",
   "metadata": {}
  }
 ]
}