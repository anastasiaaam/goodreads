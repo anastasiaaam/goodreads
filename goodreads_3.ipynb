{
 "metadata": {
  "language_info": {
   "codemirror_mode": {
    "name": "ipython",
    "version": 3
   },
   "file_extension": ".py",
   "mimetype": "text/x-python",
   "name": "python",
   "nbconvert_exporter": "python",
   "pygments_lexer": "ipython3",
   "version": "3.8.3"
  },
  "orig_nbformat": 2,
  "kernelspec": {
   "name": "python383jvsc74a57bd025a53b8456b44f90aeafd7a06052ef2343d8483d19b2d20158d602d9493d7c95",
   "display_name": "Python 3.8.3 64-bit ('base': conda)"
  }
 },
 "nbformat": 4,
 "nbformat_minor": 2,
 "cells": [
  {
   "cell_type": "code",
   "execution_count": 1,
   "metadata": {},
   "outputs": [],
   "source": [
    "# линейная регрессия\n",
    "import pandas as pd                                   # для работы с датафреймом\n",
    "import numpy as np                                    # для вычислений\n",
    "import seaborn as sns                                 # для графиков\n",
    "import matplotlib.pyplot as plt                       # для графиков\n",
    "import statsmodels.api as sm                          # для статистического анализа\n",
    "from scipy import stats                               # статистический анализ\n",
    "from mlxtend.evaluate import permutation_test         # перестановочный тест\n",
    "\n",
    "from sklearn.model_selection import train_test_split  # для деления на обучающую и тестовую выборки\n",
    "from sklearn.impute import SimpleImputer              # для заполнения пропусков\n",
    "from sklearn.preprocessing import OneHotEncoder       # для кодирования категориальных переменных\n",
    "from sklearn.pipeline import Pipeline                 # для обработки данных для машинного обучения\n",
    "from sklearn.preprocessing import StandardScaler      # стандартизация данных\n",
    "from sklearn.compose import ColumnTransformer         # для обработки данных для машинного обучения\n"
   ]
  },
  {
   "cell_type": "code",
   "execution_count": 2,
   "metadata": {},
   "outputs": [
    {
     "output_type": "stream",
     "name": "stdout",
     "text": [
      "Requirement already satisfied: pingouin in /Users/Shared/anaconda3/lib/python3.8/site-packages (0.3.11)\n",
      "Requirement already satisfied: matplotlib>=3.0.2 in /Users/Shared/anaconda3/lib/python3.8/site-packages (from pingouin) (3.3.4)\n",
      "Requirement already satisfied: numpy>=1.15 in /Users/Shared/anaconda3/lib/python3.8/site-packages (from pingouin) (1.20.1)\n",
      "Requirement already satisfied: scipy>=1.3 in /Users/Shared/anaconda3/lib/python3.8/site-packages (from pingouin) (1.6.2)\n",
      "Requirement already satisfied: statsmodels>=0.10.0 in /Users/Shared/anaconda3/lib/python3.8/site-packages (from pingouin) (0.12.2)\n",
      "Requirement already satisfied: scikit-learn in /Users/Shared/anaconda3/lib/python3.8/site-packages (from pingouin) (0.24.1)\n",
      "Requirement already satisfied: pandas-flavor>=0.1.2 in /Users/Shared/anaconda3/lib/python3.8/site-packages (from pingouin) (0.2.0)\n",
      "Requirement already satisfied: pandas>=0.24 in /Users/Shared/anaconda3/lib/python3.8/site-packages (from pingouin) (1.2.4)\n",
      "Requirement already satisfied: outdated in /Users/Shared/anaconda3/lib/python3.8/site-packages (from pingouin) (0.2.1)\n",
      "Requirement already satisfied: seaborn>=0.9.0 in /Users/Shared/anaconda3/lib/python3.8/site-packages (from pingouin) (0.11.1)\n",
      "Requirement already satisfied: tabulate in /Users/Shared/anaconda3/lib/python3.8/site-packages (from pingouin) (0.8.9)\n",
      "Requirement already satisfied: cycler>=0.10 in /Users/Shared/anaconda3/lib/python3.8/site-packages (from matplotlib>=3.0.2->pingouin) (0.10.0)\n",
      "Requirement already satisfied: python-dateutil>=2.1 in /Users/Shared/anaconda3/lib/python3.8/site-packages (from matplotlib>=3.0.2->pingouin) (2.8.1)\n",
      "Requirement already satisfied: pyparsing!=2.0.4,!=2.1.2,!=2.1.6,>=2.0.3 in /Users/Shared/anaconda3/lib/python3.8/site-packages (from matplotlib>=3.0.2->pingouin) (2.4.7)\n",
      "Requirement already satisfied: kiwisolver>=1.0.1 in /Users/Shared/anaconda3/lib/python3.8/site-packages (from matplotlib>=3.0.2->pingouin) (1.3.1)\n",
      "Requirement already satisfied: pillow>=6.2.0 in /Users/Shared/anaconda3/lib/python3.8/site-packages (from matplotlib>=3.0.2->pingouin) (8.2.0)\n",
      "Requirement already satisfied: six in /Users/Shared/anaconda3/lib/python3.8/site-packages (from cycler>=0.10->matplotlib>=3.0.2->pingouin) (1.15.0)\n",
      "Requirement already satisfied: pytz>=2017.3 in /Users/Shared/anaconda3/lib/python3.8/site-packages (from pandas>=0.24->pingouin) (2021.1)\n",
      "Requirement already satisfied: xarray in /Users/Shared/anaconda3/lib/python3.8/site-packages (from pandas-flavor>=0.1.2->pingouin) (0.18.0)\n",
      "Requirement already satisfied: patsy>=0.5 in /Users/Shared/anaconda3/lib/python3.8/site-packages (from statsmodels>=0.10.0->pingouin) (0.5.1)\n",
      "Requirement already satisfied: littleutils in /Users/Shared/anaconda3/lib/python3.8/site-packages (from outdated->pingouin) (0.2.2)\n",
      "Requirement already satisfied: requests in /Users/Shared/anaconda3/lib/python3.8/site-packages (from outdated->pingouin) (2.25.1)\n",
      "Requirement already satisfied: idna<3,>=2.5 in /Users/Shared/anaconda3/lib/python3.8/site-packages (from requests->outdated->pingouin) (2.10)\n",
      "Requirement already satisfied: chardet<5,>=3.0.2 in /Users/Shared/anaconda3/lib/python3.8/site-packages (from requests->outdated->pingouin) (4.0.0)\n",
      "Requirement already satisfied: certifi>=2017.4.17 in /Users/Shared/anaconda3/lib/python3.8/site-packages (from requests->outdated->pingouin) (2020.12.5)\n",
      "Requirement already satisfied: urllib3<1.27,>=1.21.1 in /Users/Shared/anaconda3/lib/python3.8/site-packages (from requests->outdated->pingouin) (1.26.4)\n",
      "Requirement already satisfied: joblib>=0.11 in /Users/Shared/anaconda3/lib/python3.8/site-packages (from scikit-learn->pingouin) (1.0.1)\n",
      "Requirement already satisfied: threadpoolctl>=2.0.0 in /Users/Shared/anaconda3/lib/python3.8/site-packages (from scikit-learn->pingouin) (2.1.0)\n",
      "Requirement already satisfied: setuptools>=40.4 in /Users/Shared/anaconda3/lib/python3.8/site-packages (from xarray->pandas-flavor>=0.1.2->pingouin) (52.0.0.post20210125)\n"
     ]
    }
   ],
   "source": [
    "# ! pip install pingouin --upgrade"
   ]
  },
  {
   "cell_type": "code",
   "execution_count": 3,
   "metadata": {},
   "outputs": [],
   "source": [
    "import pingouin as pg               # для статистического анализа"
   ]
  },
  {
   "source": [
    "С линейной регрессией мы изучим три подхода:  \n",
    "\n",
    "1. визуальный\n",
    "2. статистический\n",
    "3. машинное обучение\n",
    "\n",
    "Важно помнить, что всегда предпочтительнее искать самый простой способ решения задачи. Если линейная регрессия будет хорошо справляться,  \n",
    "то использовать более сложные способы не надо. Если эти сложные способы дадут незначительное улучшение, то не стоит их использовать, если  \n",
    "это приводит к излишней трате вычислительного времени. Поэтому более сложные методы мы можем использовать, если 1) регрессия к нашей задаче  \n",
    "не подходит, 2) другой метод не только лучше себя показывает, но и эффективнее."
   ],
   "cell_type": "markdown",
   "metadata": {}
  },
  {
   "source": [
    "# Загрузка данных"
   ],
   "cell_type": "markdown",
   "metadata": {}
  },
  {
   "cell_type": "code",
   "execution_count": 4,
   "metadata": {},
   "outputs": [],
   "source": [
    "# загрузка данных и исправление типа данных\n",
    "db = pd.read_csv('data/books_tidy_data.csv', parse_dates=['publication_date'], dtype={'decade':'object', 'quarter':'object', 'tra_co':'object'})"
   ]
  },
  {
   "cell_type": "code",
   "execution_count": 6,
   "metadata": {},
   "outputs": [],
   "source": [
    "# удалим признаки, которые не будем рассматривать далее\n",
    "db = db.drop(['title', 'publication_date', 'authors', 'language_code', 'publisher'], axis=1)"
   ]
  },
  {
   "cell_type": "code",
   "execution_count": 7,
   "metadata": {},
   "outputs": [
    {
     "output_type": "execute_result",
     "data": {
      "text/plain": [
       "   average_rating  num_pages  ratings_count  text_reviews_count decade  \\\n",
       "0            4.57        652        2095690               27591   2000   \n",
       "1            4.49        870        2153167               29221   2000   \n",
       "2            4.42        352           6333                 244   2000   \n",
       "3            4.56        435        2339585               36325   2000   \n",
       "4            4.78       2690          41428                 164   2000   \n",
       "\n",
       "  quarter tra_co  \n",
       "0       3      1  \n",
       "1       3      1  \n",
       "2       4      0  \n",
       "3       2      1  \n",
       "4       3      1  "
      ],
      "text/html": "<div>\n<style scoped>\n    .dataframe tbody tr th:only-of-type {\n        vertical-align: middle;\n    }\n\n    .dataframe tbody tr th {\n        vertical-align: top;\n    }\n\n    .dataframe thead th {\n        text-align: right;\n    }\n</style>\n<table border=\"1\" class=\"dataframe\">\n  <thead>\n    <tr style=\"text-align: right;\">\n      <th></th>\n      <th>average_rating</th>\n      <th>num_pages</th>\n      <th>ratings_count</th>\n      <th>text_reviews_count</th>\n      <th>decade</th>\n      <th>quarter</th>\n      <th>tra_co</th>\n    </tr>\n  </thead>\n  <tbody>\n    <tr>\n      <th>0</th>\n      <td>4.57</td>\n      <td>652</td>\n      <td>2095690</td>\n      <td>27591</td>\n      <td>2000</td>\n      <td>3</td>\n      <td>1</td>\n    </tr>\n    <tr>\n      <th>1</th>\n      <td>4.49</td>\n      <td>870</td>\n      <td>2153167</td>\n      <td>29221</td>\n      <td>2000</td>\n      <td>3</td>\n      <td>1</td>\n    </tr>\n    <tr>\n      <th>2</th>\n      <td>4.42</td>\n      <td>352</td>\n      <td>6333</td>\n      <td>244</td>\n      <td>2000</td>\n      <td>4</td>\n      <td>0</td>\n    </tr>\n    <tr>\n      <th>3</th>\n      <td>4.56</td>\n      <td>435</td>\n      <td>2339585</td>\n      <td>36325</td>\n      <td>2000</td>\n      <td>2</td>\n      <td>1</td>\n    </tr>\n    <tr>\n      <th>4</th>\n      <td>4.78</td>\n      <td>2690</td>\n      <td>41428</td>\n      <td>164</td>\n      <td>2000</td>\n      <td>3</td>\n      <td>1</td>\n    </tr>\n  </tbody>\n</table>\n</div>"
     },
     "metadata": {},
     "execution_count": 7
    }
   ],
   "source": [
    "db.head()"
   ]
  },
  {
   "cell_type": "code",
   "execution_count": 8,
   "metadata": {},
   "outputs": [
    {
     "output_type": "stream",
     "name": "stdout",
     "text": [
      "<class 'pandas.core.frame.DataFrame'>\nRangeIndex: 10838 entries, 0 to 10837\nData columns (total 7 columns):\n #   Column              Non-Null Count  Dtype  \n---  ------              --------------  -----  \n 0   average_rating      10838 non-null  float64\n 1   num_pages           10838 non-null  int64  \n 2   ratings_count       10838 non-null  int64  \n 3   text_reviews_count  10838 non-null  int64  \n 4   decade              10838 non-null  object \n 5   quarter             10838 non-null  object \n 6   tra_co              10838 non-null  object \ndtypes: float64(1), int64(3), object(3)\nmemory usage: 592.8+ KB\n"
     ]
    }
   ],
   "source": [
    "db.info()"
   ]
  },
  {
   "cell_type": "code",
   "execution_count": 9,
   "metadata": {},
   "outputs": [
    {
     "output_type": "execute_result",
     "data": {
      "text/plain": [
       "       average_rating     num_pages  ratings_count  text_reviews_count\n",
       "count    10838.000000  10838.000000   1.083800e+04        10838.000000\n",
       "mean         3.942158    344.175217   1.834788e+04          553.074737\n",
       "std          0.295387    238.556381   1.138660e+05         2599.330244\n",
       "min          1.000000     11.000000   0.000000e+00            0.000000\n",
       "25%          3.770000    203.000000   1.170000e+02           10.000000\n",
       "50%          3.960000    304.000000   8.035000e+02           49.000000\n",
       "75%          4.130000    417.000000   5.226750e+03          248.000000\n",
       "max          5.000000   6576.000000   4.597666e+06        94265.000000"
      ],
      "text/html": "<div>\n<style scoped>\n    .dataframe tbody tr th:only-of-type {\n        vertical-align: middle;\n    }\n\n    .dataframe tbody tr th {\n        vertical-align: top;\n    }\n\n    .dataframe thead th {\n        text-align: right;\n    }\n</style>\n<table border=\"1\" class=\"dataframe\">\n  <thead>\n    <tr style=\"text-align: right;\">\n      <th></th>\n      <th>average_rating</th>\n      <th>num_pages</th>\n      <th>ratings_count</th>\n      <th>text_reviews_count</th>\n    </tr>\n  </thead>\n  <tbody>\n    <tr>\n      <th>count</th>\n      <td>10838.000000</td>\n      <td>10838.000000</td>\n      <td>1.083800e+04</td>\n      <td>10838.000000</td>\n    </tr>\n    <tr>\n      <th>mean</th>\n      <td>3.942158</td>\n      <td>344.175217</td>\n      <td>1.834788e+04</td>\n      <td>553.074737</td>\n    </tr>\n    <tr>\n      <th>std</th>\n      <td>0.295387</td>\n      <td>238.556381</td>\n      <td>1.138660e+05</td>\n      <td>2599.330244</td>\n    </tr>\n    <tr>\n      <th>min</th>\n      <td>1.000000</td>\n      <td>11.000000</td>\n      <td>0.000000e+00</td>\n      <td>0.000000</td>\n    </tr>\n    <tr>\n      <th>25%</th>\n      <td>3.770000</td>\n      <td>203.000000</td>\n      <td>1.170000e+02</td>\n      <td>10.000000</td>\n    </tr>\n    <tr>\n      <th>50%</th>\n      <td>3.960000</td>\n      <td>304.000000</td>\n      <td>8.035000e+02</td>\n      <td>49.000000</td>\n    </tr>\n    <tr>\n      <th>75%</th>\n      <td>4.130000</td>\n      <td>417.000000</td>\n      <td>5.226750e+03</td>\n      <td>248.000000</td>\n    </tr>\n    <tr>\n      <th>max</th>\n      <td>5.000000</td>\n      <td>6576.000000</td>\n      <td>4.597666e+06</td>\n      <td>94265.000000</td>\n    </tr>\n  </tbody>\n</table>\n</div>"
     },
     "metadata": {},
     "execution_count": 9
    }
   ],
   "source": [
    "# обзор основных характеристик\n",
    "db.describe()"
   ]
  },
  {
   "source": [
    "# Визуальный подход"
   ],
   "cell_type": "markdown",
   "metadata": {}
  }
 ]
}